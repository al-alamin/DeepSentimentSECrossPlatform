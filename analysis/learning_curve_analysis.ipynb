{
  "nbformat": 4,
  "nbformat_minor": 0,
  "metadata": {
    "colab": {
      "name": "Senti4SE Learning Curve Analysis (Replication Package).ipynb",
      "provenance": [],
      "collapsed_sections": [],
      "toc_visible": true
    },
    "kernelspec": {
      "name": "python3",
      "display_name": "Python 3"
    },
    "language_info": {
      "name": "python"
    }
  },
  "cells": [
    {
      "cell_type": "markdown",
      "metadata": {
        "id": "IrXcPixELsl5"
      },
      "source": [
        "## SentiMoji"
      ]
    },
    {
      "cell_type": "code",
      "metadata": {
        "id": "5KoJcfJcUuwk"
      },
      "source": [
        "\"\"\"\n",
        "Pipeline code for training and evaluating the sentiment classifier.\n",
        "We use the Deepmoji architecture here, see https://github.com/bfelbo/DeepMoji for detail.\n",
        "\"\"\"\n",
        "import re\n",
        "import codecs\n",
        "import random\n",
        "import numpy as np\n",
        "import sys\n",
        "import json\n",
        "import argparse\n",
        "import pandas as pd\n",
        "import glob, os\n",
        "import matplotlib.pylab as plt\n",
        "\n",
        "sys.path.append(\"DeepMoji/deepmoji/\")\n",
        "\n",
        "from sentence_tokenizer import SentenceTokenizer\n",
        "from model_def import deepmoji_architecture, load_specific_weights\n",
        "from finetuning import load_benchmark, finetune\n",
        "\n",
        "from sklearn.metrics import accuracy_score, precision_score, recall_score, f1_score\n",
        "from sklearn.model_selection import train_test_split\n",
        "\n",
        "MAX_LEN = 150\n",
        "\n",
        "import tensorflow as tf\n",
        "tf.get_logger().setLevel('INFO')\n",
        "\n",
        "import warnings\n",
        "warnings.filterwarnings(\"ignore\")"
      ],
      "execution_count": null,
      "outputs": []
    },
    {
      "cell_type": "code",
      "metadata": {
        "colab": {
          "base_uri": "https://localhost:8080/"
        },
        "id": "_tcpwKE9XR2q",
        "outputId": "5403844e-a6d3-4ef4-c792-fcc8a826c692"
      },
      "source": [
        "if __name__ == \"__main__\":\n",
        "    print(\"========== Starting processing =========\")\n",
        "    parser = argparse.ArgumentParser()\n",
        "\n",
        "    parser.add_argument(\"--model\", type=str, required=True, choices=[\"SEntiMoji\", \"SEntiMoji-T\", \"SEntiMoji-G\"], help=\"name of pretrained representation model\")\n",
        "    parser.add_argument(\"--task\", type=str.lower, required=True, choices=[\"sentiment\", \"emotion\"], help=\"specify task (sentiment or emotion)\")\n",
        "    parser.add_argument(\"--benchmark_dataset_name\", type=str, required=False, choices=[\"Jira\", \"StackOverflow\", \"CodeReview\", \"JavaLib\"], help=\"name of benchmark dataset\")\n",
        "    parser.add_argument(\"--emotion_type\", type=str.lower, required=False, default=None, choices=[\"anger\", \"love\", \"deva\", \"joy\", \"sad\"], help=\"specify emotion dataset\")\n",
        "    \n",
        "    parser.add_argument(\"--use_own_dataset\", action='store_true', help=\"whether use your own dataset or not\")\n",
        "    parser.add_argument(\"--own_dataset_dir\", type=str, required=False, default=None, help=\"directory of your train data file\")\n",
        "    parser.add_argument(\"--own_dataset_file\", type=str, required=False, default=None, help=\"file name of your train data file\")\n",
        "    parser.add_argument(\"--cross_platform\", action='store_true', help=\"This will load code to run against cross platform dataset\")\n",
        "\n",
        "    # args = parser.parse_args()\n",
        "    args = parser.parse_args(['--model', 'SEntiMoji', '--task', 'sentiment'])\n",
        "\n",
        "    print(\"args:\")\n",
        "    d = args.__dict__\n",
        "    for key,value in d.items():\n",
        "        print(\"%s = %s\"%(key,value))\n",
        "\n",
        "    # parse arguments\n",
        "    model_path = \"../../model/representation_model/model_%s.hdf5\" % args.model\n",
        "    vocab_path = \"vocabulary/vocabulary_%s.json\" % args.model\n",
        "    out_dir = \"../../output/out/\"\n",
        "    base_dir = \"/home/mdabdullahal.alamin/alamin/sentiment/sentimoji\"\n",
        "\n",
        "    # load vocabulary \n",
        "    with open(vocab_path, \"r\") as f_vocab:\n",
        "        vocabulary = json.load(f_vocab)\n",
        "\n",
        "\n",
        "    label2index = {\"0\": 0, \"1\": 1, \"-1\": 2}\n",
        "    index2label = {i: l for l, i in label2index.items()}\n",
        "\n",
        "    # sentence tokenizer (MAXLEN means the max length of input text)\n",
        "    st = SentenceTokenizer(vocabulary, MAX_LEN)\n",
        "    fold = 0\n",
        "\n",
        "    # datasets = [\"DatasetSenti4SDSO\", \"OrtuJIRA\", \"GitHub\"]\n",
        "    # datasets = [\"OrtuJIRA\", \"GitHub\"]\n",
        "    datasets = [\"DatasetSenti4SDSO\"]\n",
        "\n",
        "\n",
        "    # datasets = [\"DatasetSenti4SDSO\"]\n",
        "    input_file =\"/home/mdabdullahal.alamin/alamin/sentiment/cross_platform/final_output/combined.csv\"\n",
        "\n",
        "    \n",
        "    test_type = \"inner_platform\" # test_type can be inner_platform or cross platform\n",
        "    # test_type = \"cross_platform\"\n",
        "    # test_type = \"both\""
      ],
      "execution_count": null,
      "outputs": [
        {
          "output_type": "stream",
          "text": [
            "========== Starting processing =========\n",
            "args:\n",
            "model = SEntiMoji\n",
            "task = sentiment\n",
            "benchmark_dataset_name = None\n",
            "emotion_type = None\n",
            "use_own_dataset = False\n",
            "own_dataset_dir = None\n",
            "own_dataset_file = None\n",
            "cross_platform = False\n"
          ],
          "name": "stdout"
        }
      ]
    },
    {
      "cell_type": "code",
      "metadata": {
        "id": "1ubnfP4UdRlw"
      },
      "source": [
        "from sklearn.model_selection import train_test_split\n",
        "\n",
        "def get_fixed_test_split(infile, dataset):\n",
        "  dataset = dataset.lower()\n",
        "  df_all = pd.read_csv(input_file, usecols=['id', 'dataset', 'text', 'oracle'], dtype={'oracle': str})\n",
        "  df_all = df_all[['id', 'text', 'oracle', 'dataset']]\n",
        "  print(\"len(df_all) %d\" % len(df_all))\n",
        "\n",
        "  dataset_df = df_all[df_all['dataset'].astype(str).str.lower().str.contains(dataset)]\n",
        "  print(\"lenght of the dataset %s is : %d\"% (dataset, len(dataset_df)))\n",
        "    \n",
        "  # X = dataset_df[['id', 'text']]\n",
        "  X = dataset_df['text']\n",
        "  y = dataset_df['oracle']\n",
        "  X_train, X_test, y_train, y_test = train_test_split( X, y, test_size=0.30, random_state=0, stratify=y)\n",
        "  \n",
        "  return X_train, X_test, y_train, y_test\n",
        "\n",
        "  \n",
        "def get_train_test_by_size(sample_size, X_train_remain, y_train_remain, X_train_prev, y_train_prev):\n",
        "  X = X_train_remain\n",
        "  y = y_train_remain\n",
        "  \n",
        "  try:\n",
        "    X_train, X_test, y_train, y_test = train_test_split( X, y, train_size=sample_size, random_state=0, stratify=y)\n",
        "  except ValueError as e:\n",
        "    # print(e)\n",
        "    X_train, X_test, y_train, y_test = train_test_split( X, y, train_size=sample_size, random_state=0)\n",
        "\n",
        "  if len(X_train_prev) != 0:\n",
        "    X_train = X_train_prev.append(X_train)\n",
        "    y_train = y_train_prev.append(y_train)\n",
        "  return X_train, y_train, X_test, y_test\n",
        "\n",
        "\n",
        "def get_train_test(itr_no, sample_size, X_train_remain, y_train_remain):\n",
        "  X_train_prev = []\n",
        "  y_train_prev = []\n",
        "\n",
        "  for itr in range(itr_no):\n",
        "    X_train_prev, y_train_prev, X_train_remain, y_train_remain =  get_train_test_by_size(sample_size, X_train_remain, y_train_remain, X_train_prev, y_train_prev)\n",
        "  \n",
        "  return X_train_prev, y_train_prev"
      ],
      "execution_count": null,
      "outputs": []
    },
    {
      "cell_type": "code",
      "metadata": {
        "colab": {
          "base_uri": "https://localhost:8080/"
        },
        "id": "quWqhiMCZr4M",
        "outputId": "d473e125-df97-4ec9-85ff-26d2a636eff5"
      },
      "source": [
        "if(test_type == \"inner_platform\" or test_type == \"both\"):\n",
        "  print(\"============ Inner platform train test ==========\")\n",
        "  for dataset in datasets:\n",
        "    dataset = dataset.lower()\n",
        "    print(f'Dataset: {dataset}')\n",
        "    X_train, X_test, y_train, y_test = get_fixed_test_split(infile=input_file, dataset = dataset)\n",
        "    sample_size = int((len(X_train)+len(X_test))* 0.05)\n",
        "    print(f'Sample Size: {sample_size}')\n",
        "    for itr in range(14, 15):\n",
        "      print(\"*****************************************\")\n",
        "      print(\"Iteration: %d\" % itr)\n",
        "\n",
        "      train_text, train_label = get_train_test(itr, sample_size, X_train, y_train)\n",
        "      test_text, test_label = X_test, y_test\n",
        "\n",
        "      # train_id, train_text, train_label, test_id, test_text, test_label = get_train_test(infile=input_file, dataset = dataset, fold=fold)\n",
        "      # print(type(train_text[0]))\n",
        "      # print(\"len train: %d and len test %d\"%(len(train_id), len(test_id)))\n",
        "      train_X, _, _ = st.tokenize_sentences(train_text)\n",
        "      test_X, _, _ = st.tokenize_sentences(test_text)\n",
        "      train_y = np.array([label2index[l] for l in train_label])\n",
        "      test_y = np.array([label2index[l] for l in test_label])\n",
        "\n",
        "      nb_classes = len(label2index)\n",
        "      nb_tokens = len(vocabulary)\n",
        "\n",
        "      # use 20% of the training set for validation\n",
        "      train_X, val_X, train_y, val_y = train_test_split(train_X, train_y,\n",
        "                                                      test_size=0.2, random_state=0)\n",
        "      # # model \n",
        "      model = deepmoji_architecture(nb_classes=nb_classes,\n",
        "                                  nb_tokens=nb_tokens,\n",
        "                                  maxlen=MAX_LEN, embed_dropout_rate=0.25, final_dropout_rate=0.5, embed_l2=1E-6)\n",
        "      if itr == 1 :\n",
        "        model.summary()\n",
        "\n",
        "      # # load pretrained representation model\n",
        "      load_specific_weights(model, model_path, nb_tokens, MAX_LEN,\n",
        "                          exclude_names=[\"softmax\"])\n",
        "      # \n",
        "      # # train model\n",
        "      model, acc = finetune(model, [train_X, val_X, test_X], [train_y, val_y, test_y], nb_classes, 100,\n",
        "                          method=\"chain-thaw\", verbose=0)\n",
        "\n",
        "      \n",
        "      pred_y_prob = model.predict(test_X)\n",
        "\n",
        "      if nb_classes == 2:\n",
        "          pred_y = [0 if p < 0.5 else 1 for p in pred_y_prob]\n",
        "      else:\n",
        "          pred_y = np.argmax(pred_y_prob, axis=1)\n",
        "\n",
        "      # evaluation\n",
        "      accuracy = accuracy_score(test_y, pred_y)\n",
        "      precision_micro = precision_score(test_y, pred_y, average = 'micro')\n",
        "      precision_macro = precision_score(test_y, pred_y, average = 'macro')\n",
        "      recall_micro = recall_score(test_y, pred_y, average = 'micro')\n",
        "      recall_macro = recall_score(test_y, pred_y, average = 'macro')\n",
        "      f1score_micro = f1_score(test_y, pred_y, average = 'micro')\n",
        "      f1score_macro = f1_score(test_y, pred_y, average = 'macro')\n",
        "      print(\"Accuracy: %.3f, Precision (Macro): %.3f, Recall (Macro): %.3f, F1 score (Micro): %.3f, F1 score (Macro): %.3f\" % (accuracy, precision_macro, recall_macro, f1score_micro, f1score_macro))\n",
        "\n",
        "      result = pd.DataFrame(\n",
        "          [{'iteration':itr, 'accuracy': accuracy, 'precision_micro': precision_micro, 'precision_macro': precision_macro, \n",
        "            'recall_micro': recall_micro, 'recall_macro': recall_macro, 'f1_micro':f1score_micro, 'f1_macro': f1score_macro}])\n",
        "      if itr == 1:\n",
        "        result.to_csv(f'{out_dir}/{dataset}_learning_curve.csv', index=False)\n",
        "      else:\n",
        "        result.to_csv(f'{out_dir}/{dataset}_learning_curve.csv', index=False, mode='a', header=False)\n",
        "\n",
        "      # precision = precision_score(test_y, pred_y, average=None)\n",
        "      # recall = recall_score(test_y, pred_y, average=None)\n",
        "      # f1score = f1_score(test_y, pred_y, average=None)\n",
        "      # labels = list(set(test_y))\n",
        "      # precision = precision_score(test_y, pred_y, average=None, labels = labels)\n",
        "      # recall = recall_score(test_y, pred_y, average=None, labels = labels)\n",
        "      # f1score = f1_score(test_y, pred_y, average=None, labels = labels)\n",
        "\n",
        "      # for index in range(0, len(labels)):\n",
        "      #     print(\"label: %s\" % index2label[index])\n",
        "      #     print(\"Precision: %.3f, Recall: %.3f, F1 score: %.3f\" % (precision[index], recall[index], f1score[index]))\n",
        "      print(\"*****************************************\")\n",
        "\n",
        "      # save predict result\n",
        "\n",
        "      # save_name = \"sentimoji_%s_%d.csv\" % ( dataset, fold)        \n",
        "      # save_name = os.path.join(out_dir, save_name)\n",
        "      # if(not os.path.exists(save_name)):\n",
        "      #     os.makedirs(save_name)\n",
        "      # with open(save_name, \"w\", encoding=\"utf-8\") as f:\n",
        "      #     for i in range(0, len(test_text)):\n",
        "      #         f.write(\"%s,%s\\r\\n\" % (test_id[i], index2label[pred_y[i]]))\n",
        "      # print(\"#%d test results has been saved to: %s\" % (len(test_text), save_name))\n",
        "      # fold += 1\n",
        "      # output_dir = \"../../model/trained_model\" + str(fold) + \".h5\"\n",
        "      # break\n",
        "      # break\n",
        "\n",
        "print(\"========== Finished processing =========\")\n"
      ],
      "execution_count": null,
      "outputs": [
        {
          "output_type": "stream",
          "text": [
            "============ Inner platform train test ==========\n",
            "Dataset: datasetsenti4sdso\n",
            "len(df_all) 17414\n",
            "lenght of the dataset datasetsenti4sdso is : 4423\n",
            "Sample Size: 221\n",
            "*****************************************\n",
            "Iteration: 14\n",
            "../../model/representation_model/model_SEntiMoji.hdf5\n",
            "Accuracy: 0.868, Precision (Macro): 0.866, Recall (Macro): 0.867, F1 score (Micro): 0.868, F1 score (Macro): 0.867\n",
            "*****************************************\n",
            "========== Finished processing =========\n"
          ],
          "name": "stdout"
        }
      ]
    },
    {
      "cell_type": "markdown",
      "metadata": {
        "id": "b0nr8nY0L4E8"
      },
      "source": [
        "## BERT4SentiSE"
      ]
    },
    {
      "cell_type": "code",
      "metadata": {
        "colab": {
          "base_uri": "https://localhost:8080/"
        },
        "id": "NF7aP3WMsPXx",
        "outputId": "5a8ff7ea-3c8c-4432-e981-be79cfb573ed"
      },
      "source": [
        "%pwd"
      ],
      "execution_count": null,
      "outputs": [
        {
          "output_type": "execute_result",
          "data": {
            "text/plain": [
              "'/home/mdabdullahal.alamin/alamin/sentiment/bert/code'"
            ]
          },
          "metadata": {
            "tags": []
          },
          "execution_count": 2
        }
      ]
    },
    {
      "cell_type": "code",
      "metadata": {
        "colab": {
          "base_uri": "https://localhost:8080/"
        },
        "id": "rHWPsH5zmYtX",
        "outputId": "52ff900c-d31f-4fea-a2e5-66c633823ce0"
      },
      "source": [
        "%cd /home/mdabdullahal.alamin/alamin/sentiment/bert/code/"
      ],
      "execution_count": null,
      "outputs": [
        {
          "output_type": "stream",
          "text": [
            "/home/mdabdullahal.alamin/alamin/sentiment/bert/code\n"
          ],
          "name": "stdout"
        }
      ]
    },
    {
      "cell_type": "code",
      "metadata": {
        "id": "9LnBAVi9L8lc"
      },
      "source": [
        "import csv\n",
        "import logging, os\n",
        "logging.disable(logging.WARNING)\n",
        "os.environ[\"TF_CPP_MIN_LOG_LEVEL\"] = \"3\"\n",
        "import shutil\n",
        "import run_sosc\n",
        "import argparse\n",
        "from pathlib import Path\n",
        "import shutil\n",
        "import pandas as pd\n",
        "from sklearn.metrics import accuracy_score, precision_score, recall_score, f1_score\n",
        "\n",
        "import sys\n",
        "import sys\n",
        "sys.argv = sys.argv[:1]\n",
        "# sys.argv = ['--do_train']\n",
        "from run_sosc import *\n",
        "\n",
        "from warnings import simplefilter \n",
        "simplefilter(action='ignore', category=FutureWarning)\n",
        "import warnings\n",
        "warnings.simplefilter(action='ignore', category=FutureWarning)\n",
        "import warnings\n",
        "warnings.filterwarnings('ignore')"
      ],
      "execution_count": null,
      "outputs": []
    },
    {
      "cell_type": "code",
      "metadata": {
        "id": "HJgK2Kf9MURI"
      },
      "source": [
        "if __name__ == \"__main__\":\n",
        "    ######Configuration for running BERT 10 fold ########\n",
        "    # print(\"argument parser commented out\")\n",
        "    tf.get_logger().setLevel(logging.ERROR)\n",
        "\n",
        "    root_dir = os.getcwd()\n",
        "    ###Temporary directory for saving BERT results###\n",
        "    source_dir = os.path.join(root_dir, 'sosc_output')\n",
        "    out_dir = \"/home/mdabdullahal.alamin/alamin/sentiment/bert/output/out/\"\n",
        "    num_of_folds = 10\n",
        "    undersample = 'no' #provide yes or no\n",
        "    data_dir = \"/home/mdabdullahal.alamin/alamin/sentiment/bert/dataset\"\n",
        "\n",
        "    datasets = [\"DatasetSenti4SDSO\", \"OrtuJIRA\", \"GitHub\"]\n",
        "    # datasets = [\"DatasetSenti4SDSO\"]\n",
        "\n",
        "    input_file = \"/home/mdabdullahal.alamin/alamin/sentiment/cross_platform/final_output/combined.csv\"\n",
        "\n",
        "    test_type = \"inner_platform\" # test_type can be inner_platform or cross platform\n",
        "    # test_type = \"cross_platform\"\n",
        "    # test_type = \"both\""
      ],
      "execution_count": null,
      "outputs": []
    },
    {
      "cell_type": "code",
      "metadata": {
        "id": "PQYmD2y8fGBS"
      },
      "source": [
        "from sklearn.model_selection import train_test_split\n",
        "\n",
        "def get_fixed_test_split(infile, dataset):\n",
        "  dataset = dataset.lower()\n",
        "  df_all = pd.read_csv(input_file, skiprows=1, names=['id', 'dataset', 'text', 'oracle'], dtype={'oracle': str})\n",
        "  df_all = df_all[['id', 'text', 'oracle', 'dataset']]\n",
        "  df_all.loc[df_all.oracle == '0', 'oracle'] = 'Neutral'\n",
        "  df_all.loc[df_all.oracle == '-1', 'oracle'] = 'Negative'\n",
        "  df_all.loc[df_all.oracle == '1', 'oracle'] = 'Positive'\n",
        "\n",
        "  dataset_df = df_all[df_all['dataset'].astype(str).str.lower().str.contains(dataset)]\n",
        "  print(\"lenght of the dataset %s is : %d\"% (dataset, len(dataset_df)))\n",
        "    \n",
        "  X = dataset_df[['id', 'text']]\n",
        "  # X = dataset_df['text']\n",
        "  y = dataset_df['oracle']\n",
        "  X_train, X_test, y_train, y_test = train_test_split( X, y, test_size=0.30, random_state=0, stratify=y)\n",
        "  \n",
        "  test_df = pd.concat([X_test, y_test], axis=1)\n",
        "  test_df.to_csv(data_dir + \"/test.tsv\", sep='\\t', index=False, header = None, )\n",
        "\n",
        "  sample_size = int((len(X_train)+len(X_test))* 0.05)\n",
        "  return X_train, y_train, X_test, y_test, sample_size\n",
        "\n",
        "  \n",
        "def get_train_test_by_size(sample_size, X_train_remain, y_train_remain, X_train_prev, y_train_prev):\n",
        "  X = X_train_remain\n",
        "  y = y_train_remain\n",
        "  \n",
        "  try:\n",
        "    X_train, X_test, y_train, y_test = train_test_split( X, y, train_size=sample_size, random_state=0, stratify=y)\n",
        "  except ValueError as e:\n",
        "    # print(e)\n",
        "    X_train, X_test, y_train, y_test = train_test_split( X, y, train_size=sample_size, random_state=0)\n",
        "\n",
        "  if len(X_train_prev) != 0:\n",
        "    X_train = X_train_prev.append(X_train)\n",
        "    y_train = y_train_prev.append(y_train)\n",
        "  return X_train, y_train, X_test, y_test\n",
        "\n",
        "\n",
        "def get_train_test(itr_no, sample_size, X_train_remain, y_train_remain):\n",
        "  X_train_prev = []\n",
        "  y_train_prev = []\n",
        "\n",
        "  for itr in range(itr_no):\n",
        "    X_train_prev, y_train_prev, X_train_remain, y_train_remain =  get_train_test_by_size(sample_size, X_train_remain, y_train_remain, X_train_prev, y_train_prev)\n",
        "  \n",
        "  train_df = pd.concat([X_train_prev, y_train_prev], axis=1)\n",
        "  train_df.to_csv( data_dir + \"/train.tsv\", sep='\\t', index=False, header = None)"
      ],
      "execution_count": null,
      "outputs": []
    },
    {
      "cell_type": "code",
      "metadata": {
        "colab": {
          "base_uri": "https://localhost:8080/"
        },
        "id": "-acY-Ppl6qG-",
        "outputId": "c9bff8b3-1a7e-4a57-ce81-cf689c1093d5"
      },
      "source": [
        "if(test_type == \"inner_platform\" or test_type==\"both\"):\n",
        "  for dataset in datasets:\n",
        "    dataset = dataset.lower()            \n",
        "    print(f'Dataset: {dataset}')\n",
        "    X_train, y_train, X_test, y_test, sample_size = get_fixed_test_split(infile=input_file, dataset = dataset)\n",
        "    print(f'Sample Size: {sample_size}')"
      ],
      "execution_count": null,
      "outputs": [
        {
          "output_type": "stream",
          "text": [
            "Dataset: datasetsenti4sdso\n",
            "lenght of the dataset datasetsenti4sdso is : 4423\n",
            "Sample Size: 221\n",
            "Dataset: ortujira\n",
            "lenght of the dataset ortujira is : 5869\n",
            "Sample Size: 293\n",
            "Dataset: github\n",
            "lenght of the dataset github is : 7122\n",
            "Sample Size: 356\n"
          ],
          "name": "stdout"
        }
      ]
    },
    {
      "cell_type": "code",
      "metadata": {
        "id": "lVaEF5ycMXaM"
      },
      "source": [
        "if(test_type == \"inner_platform\" or test_type==\"both\"):\n",
        "  for dataset in datasets:\n",
        "    dataset = dataset.lower()            \n",
        "    print(f'Dataset: {dataset}')\n",
        "    X_train, y_train, X_test, y_test, sample_size = get_fixed_test_split(infile=input_file, dataset = dataset)\n",
        "    print(f'Sample Size: {sample_size}')\n",
        "    for itr in range(1, 15):\n",
        "      print(\"*****************************************\")\n",
        "      print(\"Iteration: %d\" % itr)\n",
        "\n",
        "      get_train_test(itr, sample_size, X_train, y_train)\n",
        "\n",
        "      # print(\"\\n ==================> Dataset %s and Fold: %s \"% (dataset, str(fold)))\n",
        "      # dest_file_name = 'bert_' + dataset + \"_\" + str(fold) + \".csv\"                \n",
        "      # des_dir = os.path.join(out_dir, \"inner\")\n",
        "      # dest_file = os.path.join(des_dir, dest_file_name)\n",
        "      # if(not os.path.exists(des_dir)):\n",
        "      #     os.makedirs(des_dir)\n",
        "      # disa_create_train_test_set(input_file=input_file, dataset=dataset, fold=fold)\n",
        "      \n",
        "      pred_y = run_sosc.main()\n",
        "      # dest = shutil.move(source_dir, des_dir, copy_function = shutil.copytree)\n",
        "      # shutil.copy2('sosc_output/test_results.csv', dest_file)\n",
        "      # print(\"=========> Result has been copied to %s\" % (dest_file))\n",
        "      # evaluation\n",
        "\n",
        "      test_y = y_test\n",
        "      accuracy = accuracy_score(test_y, pred_y)\n",
        "      precision_micro = precision_score(test_y, pred_y, average = 'micro')\n",
        "      precision_macro = precision_score(test_y, pred_y, average = 'macro')\n",
        "      recall_micro = recall_score(test_y, pred_y, average = 'micro')\n",
        "      recall_macro = recall_score(test_y, pred_y, average = 'macro')\n",
        "      f1score_micro = f1_score(test_y, pred_y, average = 'micro')\n",
        "      f1score_macro = f1_score(test_y, pred_y, average = 'macro')\n",
        "      print(\"Accuracy: %.3f, Precision (Macro): %.3f, Recall (Macro): %.3f, F1 score (Micro): %.3f, F1 score (Macro): %.3f\" % (accuracy, precision_macro, recall_macro, f1score_micro, f1score_macro))\n",
        "\n",
        "      result = pd.DataFrame(\n",
        "          [{'iteration':itr, 'accuracy': accuracy, 'precision_micro': precision_micro, 'precision_macro': precision_macro, \n",
        "            'recall_micro': recall_micro, 'recall_macro': recall_macro, 'f1_micro':f1score_micro, 'f1_macro': f1score_macro}])\n",
        "      if itr == 1:\n",
        "        result.to_csv(f'{out_dir}/{dataset}_learning_curve.csv', index=False)\n",
        "      else:\n",
        "        result.to_csv(f'{out_dir}/{dataset}_learning_curve.csv', index=False, mode='a', header=False)\n",
        "\n",
        "      shutil.rmtree(\"sosc_output/\", ignore_errors=True)\n",
        "   "
      ],
      "execution_count": null,
      "outputs": []
    },
    {
      "cell_type": "markdown",
      "metadata": {
        "id": "Bg7Qu974mfxX"
      },
      "source": [
        "### Twitter"
      ]
    },
    {
      "cell_type": "code",
      "metadata": {
        "id": "ZAq-E4ngouHS"
      },
      "source": [
        "if __name__ == \"__main__\":\n",
        "    tf.get_logger().setLevel(logging.ERROR)\n",
        "    root_dir = os.getcwd()\n",
        "    ###Temporary directory for saving BERT results###\n",
        "    source_dir = os.path.join(root_dir, 'sosc_output')\n",
        "    out_dir = \"/home/mdabdullahal.alamin/alamin/sentiment/bert/output/out/\"\n",
        "    num_of_folds = 10\n",
        "    undersample = 'no' #provide yes or no\n",
        "    data_dir = \"/home/mdabdullahal.alamin/alamin/sentiment/bert/dataset\"\n",
        "\n",
        "    datasets = [\"DatasetSenti4SDSO\", \"OrtuJIRA\", \"GitHub\"]\n",
        "    # datasets = [\"DatasetSenti4SDSO\"]\n",
        "\n",
        "    train_file = data_dir + '/Tweets.csv'\n",
        "    test_file = \"/home/mdabdullahal.alamin/alamin/sentiment/cross_platform/final_output/combined.csv\"\n",
        "    \n",
        "\n",
        "    # test_type = \"inner_platform\" # test_type can be inner_platform or cross platform\n",
        "    # test_type = \"cross_platform\"\n",
        "    # test_type = \"both\""
      ],
      "execution_count": null,
      "outputs": []
    },
    {
      "cell_type": "code",
      "metadata": {
        "id": "DzmwlvAkn1gN"
      },
      "source": [
        "def get_train_test(train_file, test_file):\n",
        "  df_all = pd.read_csv(train_file)\n",
        "  df_all = df_all[['tweet_id', 'text', 'airline_sentiment']].rename(columns={'tweet_id': 'id', 'airline_sentiment':'oracle'})\n",
        "  df_all.loc[df_all.oracle == 'neutral', 'oracle'] = 'Neutral'\n",
        "  df_all.loc[df_all.oracle == 'negative', 'oracle'] = 'Negative'\n",
        "  df_all.loc[df_all.oracle == 'positive', 'oracle'] = 'Positive'\n",
        "  df_all = df_all.replace({r'\\s+$': '', r'^\\s+': ''}, regex=True).replace(r'\\n',  ' ', regex=True)\n",
        "  train_df = df_all\n",
        "  \n",
        "  df_all = pd.read_csv(test_file, skiprows=1, names=['id', 'dataset', 'text', 'oracle'], dtype={'oracle': str})\n",
        "  df_all = df_all[['id', 'text', 'oracle']]\n",
        "  df_all.loc[df_all.oracle == '0', 'oracle'] = 'Neutral'\n",
        "  df_all.loc[df_all.oracle == '-1', 'oracle'] = 'Negative'\n",
        "  df_all.loc[df_all.oracle == '1', 'oracle'] = 'Positive'\n",
        "  test_df = df_all\n",
        "\n",
        "  print(\"lenght of the training dataset is : %d\"% (len(train_df)))  \n",
        "  print(\"lenght of the testing dataset is : %d\"% (len(test_df)))  \n",
        "  train_df.to_csv( data_dir + \"/train.tsv\", sep='\\t', index=False, header = None)#, escapechar='\\\\', quoting=csv.QUOTE_NONNUMERIC)\n",
        "  test_df.to_csv(data_dir + \"/test.tsv\", sep='\\t', index=False, header = None)#, escapechar='\\\\', quoting=csv.QUOTE_NONNUMERIC)\n"
      ],
      "execution_count": null,
      "outputs": []
    },
    {
      "cell_type": "code",
      "metadata": {
        "colab": {
          "base_uri": "https://localhost:8080/",
          "height": 1000
        },
        "id": "HRi7wCYEmi6r",
        "outputId": "575b7dad-c3fd-49ca-f313-b9d1a3f8213c"
      },
      "source": [
        "get_train_test(train_file, test_file)\n",
        "dest_file_name = 'bert_tweeter.csv'\n",
        "dest_file = os.path.join(out_dir, dest_file_name)\n",
        "des_dir = out_dir\n",
        "if(not os.path.exists(des_dir)):\n",
        "  os.makedirs(des_dir)\n",
        "\n",
        "pred_y = run_sosc.main()\n",
        "dest = shutil.move(source_dir, des_dir, copy_function = shutil.copytree)\n",
        "shutil.copy2('sosc_output/test_results.csv', dest_file)\n",
        "print(\"=========> Result has been copied to %s\" % (dest_file))\n",
        "shutil.rmtree(\"sosc_output/\", ignore_errors=True)\n",
        "   "
      ],
      "execution_count": null,
      "outputs": [
        {
          "output_type": "stream",
          "text": [
            "lenght of the training dataset is : 14640\n",
            "lenght of the testing dataset is : 17414\n",
            "Alamin: Going to start training\n",
            "WARNING: Entity <bound method Dense.call of <tensorflow.python.layers.core.Dense object at 0x7f2ad5b8aa90>> could not be transformed and will be executed as-is. Please report this to the AutgoGraph team. When filing the bug, set the verbosity to 10 (on Linux, `export AUTOGRAPH_VERBOSITY=10`) and attach the full output. Cause: converting <bound method Dense.call of <tensorflow.python.layers.core.Dense object at 0x7f2ad5b8aa90>>: AssertionError: Bad argument number for Name: 3, expecting 4\n",
            "WARNING: Entity <bound method Dense.call of <tensorflow.python.layers.core.Dense object at 0x7f2ad5b8aa90>> could not be transformed and will be executed as-is. Please report this to the AutgoGraph team. When filing the bug, set the verbosity to 10 (on Linux, `export AUTOGRAPH_VERBOSITY=10`) and attach the full output. Cause: converting <bound method Dense.call of <tensorflow.python.layers.core.Dense object at 0x7f2ad5b8aa90>>: AssertionError: Bad argument number for Name: 3, expecting 4\n",
            "WARNING: Entity <bound method Dense.call of <tensorflow.python.layers.core.Dense object at 0x7f2ad5b8a9d0>> could not be transformed and will be executed as-is. Please report this to the AutgoGraph team. When filing the bug, set the verbosity to 10 (on Linux, `export AUTOGRAPH_VERBOSITY=10`) and attach the full output. Cause: converting <bound method Dense.call of <tensorflow.python.layers.core.Dense object at 0x7f2ad5b8a9d0>>: AssertionError: Bad argument number for Name: 3, expecting 4\n",
            "WARNING: Entity <bound method Dense.call of <tensorflow.python.layers.core.Dense object at 0x7f2ad5b8a910>> could not be transformed and will be executed as-is. Please report this to the AutgoGraph team. When filing the bug, set the verbosity to 10 (on Linux, `export AUTOGRAPH_VERBOSITY=10`) and attach the full output. Cause: converting <bound method Dense.call of <tensorflow.python.layers.core.Dense object at 0x7f2ad5b8a910>>: AssertionError: Bad argument number for Name: 3, expecting 4\n",
            "WARNING: Entity <bound method Dense.call of <tensorflow.python.layers.core.Dense object at 0x7f2ad596afd0>> could not be transformed and will be executed as-is. Please report this to the AutgoGraph team. When filing the bug, set the verbosity to 10 (on Linux, `export AUTOGRAPH_VERBOSITY=10`) and attach the full output. Cause: converting <bound method Dense.call of <tensorflow.python.layers.core.Dense object at 0x7f2ad596afd0>>: AssertionError: Bad argument number for Name: 3, expecting 4\n",
            "WARNING: Entity <bound method Dense.call of <tensorflow.python.layers.core.Dense object at 0x7f2ada386850>> could not be transformed and will be executed as-is. Please report this to the AutgoGraph team. When filing the bug, set the verbosity to 10 (on Linux, `export AUTOGRAPH_VERBOSITY=10`) and attach the full output. Cause: converting <bound method Dense.call of <tensorflow.python.layers.core.Dense object at 0x7f2ada386850>>: AssertionError: Bad argument number for Name: 3, expecting 4\n",
            "WARNING: Entity <bound method Dense.call of <tensorflow.python.layers.core.Dense object at 0x7f2ad582a990>> could not be transformed and will be executed as-is. Please report this to the AutgoGraph team. When filing the bug, set the verbosity to 10 (on Linux, `export AUTOGRAPH_VERBOSITY=10`) and attach the full output. Cause: converting <bound method Dense.call of <tensorflow.python.layers.core.Dense object at 0x7f2ad582a990>>: AssertionError: Bad argument number for Name: 3, expecting 4\n",
            "WARNING: Entity <bound method Dense.call of <tensorflow.python.layers.core.Dense object at 0x7f2ad582a990>> could not be transformed and will be executed as-is. Please report this to the AutgoGraph team. When filing the bug, set the verbosity to 10 (on Linux, `export AUTOGRAPH_VERBOSITY=10`) and attach the full output. Cause: converting <bound method Dense.call of <tensorflow.python.layers.core.Dense object at 0x7f2ad582a990>>: AssertionError: Bad argument number for Name: 3, expecting 4\n",
            "WARNING: Entity <bound method Dense.call of <tensorflow.python.layers.core.Dense object at 0x7f2ad582a990>> could not be transformed and will be executed as-is. Please report this to the AutgoGraph team. When filing the bug, set the verbosity to 10 (on Linux, `export AUTOGRAPH_VERBOSITY=10`) and attach the full output. Cause: converting <bound method Dense.call of <tensorflow.python.layers.core.Dense object at 0x7f2ad582a990>>: AssertionError: Bad argument number for Name: 3, expecting 4\n",
            "WARNING: Entity <bound method Dense.call of <tensorflow.python.layers.core.Dense object at 0x7f2ad5b8a190>> could not be transformed and will be executed as-is. Please report this to the AutgoGraph team. When filing the bug, set the verbosity to 10 (on Linux, `export AUTOGRAPH_VERBOSITY=10`) and attach the full output. Cause: converting <bound method Dense.call of <tensorflow.python.layers.core.Dense object at 0x7f2ad5b8a190>>: AssertionError: Bad argument number for Name: 3, expecting 4\n",
            "WARNING: Entity <bound method Dense.call of <tensorflow.python.layers.core.Dense object at 0x7f2ad5782890>> could not be transformed and will be executed as-is. Please report this to the AutgoGraph team. When filing the bug, set the verbosity to 10 (on Linux, `export AUTOGRAPH_VERBOSITY=10`) and attach the full output. Cause: converting <bound method Dense.call of <tensorflow.python.layers.core.Dense object at 0x7f2ad5782890>>: AssertionError: Bad argument number for Name: 3, expecting 4\n",
            "WARNING: Entity <bound method Dense.call of <tensorflow.python.layers.core.Dense object at 0x7f2ad5bd2c90>> could not be transformed and will be executed as-is. Please report this to the AutgoGraph team. When filing the bug, set the verbosity to 10 (on Linux, `export AUTOGRAPH_VERBOSITY=10`) and attach the full output. Cause: converting <bound method Dense.call of <tensorflow.python.layers.core.Dense object at 0x7f2ad5bd2c90>>: AssertionError: Bad argument number for Name: 3, expecting 4\n",
            "WARNING: Entity <bound method Dense.call of <tensorflow.python.layers.core.Dense object at 0x7f2ad564ce10>> could not be transformed and will be executed as-is. Please report this to the AutgoGraph team. When filing the bug, set the verbosity to 10 (on Linux, `export AUTOGRAPH_VERBOSITY=10`) and attach the full output. Cause: converting <bound method Dense.call of <tensorflow.python.layers.core.Dense object at 0x7f2ad564ce10>>: AssertionError: Bad argument number for Name: 3, expecting 4\n",
            "WARNING: Entity <bound method Dense.call of <tensorflow.python.layers.core.Dense object at 0x7f2ad563c510>> could not be transformed and will be executed as-is. Please report this to the AutgoGraph team. When filing the bug, set the verbosity to 10 (on Linux, `export AUTOGRAPH_VERBOSITY=10`) and attach the full output. Cause: converting <bound method Dense.call of <tensorflow.python.layers.core.Dense object at 0x7f2ad563c510>>: AssertionError: Bad argument number for Name: 3, expecting 4\n",
            "WARNING: Entity <bound method Dense.call of <tensorflow.python.layers.core.Dense object at 0x7f2ad56ebd90>> could not be transformed and will be executed as-is. Please report this to the AutgoGraph team. When filing the bug, set the verbosity to 10 (on Linux, `export AUTOGRAPH_VERBOSITY=10`) and attach the full output. Cause: converting <bound method Dense.call of <tensorflow.python.layers.core.Dense object at 0x7f2ad56ebd90>>: AssertionError: Bad argument number for Name: 3, expecting 4\n",
            "WARNING: Entity <bound method Dense.call of <tensorflow.python.layers.core.Dense object at 0x7f2ad59f5f90>> could not be transformed and will be executed as-is. Please report this to the AutgoGraph team. When filing the bug, set the verbosity to 10 (on Linux, `export AUTOGRAPH_VERBOSITY=10`) and attach the full output. Cause: converting <bound method Dense.call of <tensorflow.python.layers.core.Dense object at 0x7f2ad59f5f90>>: AssertionError: Bad argument number for Name: 3, expecting 4\n",
            "WARNING: Entity <bound method Dense.call of <tensorflow.python.layers.core.Dense object at 0x7f2ad5b8a190>> could not be transformed and will be executed as-is. Please report this to the AutgoGraph team. When filing the bug, set the verbosity to 10 (on Linux, `export AUTOGRAPH_VERBOSITY=10`) and attach the full output. Cause: converting <bound method Dense.call of <tensorflow.python.layers.core.Dense object at 0x7f2ad5b8a190>>: AssertionError: Bad argument number for Name: 3, expecting 4\n",
            "WARNING: Entity <bound method Dense.call of <tensorflow.python.layers.core.Dense object at 0x7f2ad5989ed0>> could not be transformed and will be executed as-is. Please report this to the AutgoGraph team. When filing the bug, set the verbosity to 10 (on Linux, `export AUTOGRAPH_VERBOSITY=10`) and attach the full output. Cause: converting <bound method Dense.call of <tensorflow.python.layers.core.Dense object at 0x7f2ad5989ed0>>: AssertionError: Bad argument number for Name: 3, expecting 4\n",
            "WARNING: Entity <bound method Dense.call of <tensorflow.python.layers.core.Dense object at 0x7f2ad454afd0>> could not be transformed and will be executed as-is. Please report this to the AutgoGraph team. When filing the bug, set the verbosity to 10 (on Linux, `export AUTOGRAPH_VERBOSITY=10`) and attach the full output. Cause: converting <bound method Dense.call of <tensorflow.python.layers.core.Dense object at 0x7f2ad454afd0>>: AssertionError: Bad argument number for Name: 3, expecting 4\n",
            "WARNING: Entity <bound method Dense.call of <tensorflow.python.layers.core.Dense object at 0x7f2ad4578410>> could not be transformed and will be executed as-is. Please report this to the AutgoGraph team. When filing the bug, set the verbosity to 10 (on Linux, `export AUTOGRAPH_VERBOSITY=10`) and attach the full output. Cause: converting <bound method Dense.call of <tensorflow.python.layers.core.Dense object at 0x7f2ad4578410>>: AssertionError: Bad argument number for Name: 3, expecting 4\n",
            "WARNING: Entity <bound method Dense.call of <tensorflow.python.layers.core.Dense object at 0x7f2ad4578410>> could not be transformed and will be executed as-is. Please report this to the AutgoGraph team. When filing the bug, set the verbosity to 10 (on Linux, `export AUTOGRAPH_VERBOSITY=10`) and attach the full output. Cause: converting <bound method Dense.call of <tensorflow.python.layers.core.Dense object at 0x7f2ad4578410>>: AssertionError: Bad argument number for Name: 3, expecting 4\n",
            "WARNING: Entity <bound method Dense.call of <tensorflow.python.layers.core.Dense object at 0x7f2ad56b3790>> could not be transformed and will be executed as-is. Please report this to the AutgoGraph team. When filing the bug, set the verbosity to 10 (on Linux, `export AUTOGRAPH_VERBOSITY=10`) and attach the full output. Cause: converting <bound method Dense.call of <tensorflow.python.layers.core.Dense object at 0x7f2ad56b3790>>: AssertionError: Bad argument number for Name: 3, expecting 4\n",
            "WARNING: Entity <bound method Dense.call of <tensorflow.python.layers.core.Dense object at 0x7f2ad5989d50>> could not be transformed and will be executed as-is. Please report this to the AutgoGraph team. When filing the bug, set the verbosity to 10 (on Linux, `export AUTOGRAPH_VERBOSITY=10`) and attach the full output. Cause: converting <bound method Dense.call of <tensorflow.python.layers.core.Dense object at 0x7f2ad5989d50>>: AssertionError: Bad argument number for Name: 3, expecting 4\n",
            "WARNING: Entity <bound method Dense.call of <tensorflow.python.layers.core.Dense object at 0x7f2ad54bf750>> could not be transformed and will be executed as-is. Please report this to the AutgoGraph team. When filing the bug, set the verbosity to 10 (on Linux, `export AUTOGRAPH_VERBOSITY=10`) and attach the full output. Cause: converting <bound method Dense.call of <tensorflow.python.layers.core.Dense object at 0x7f2ad54bf750>>: AssertionError: Bad argument number for Name: 3, expecting 4\n",
            "WARNING: Entity <bound method Dense.call of <tensorflow.python.layers.core.Dense object at 0x7f2ad40bb3d0>> could not be transformed and will be executed as-is. Please report this to the AutgoGraph team. When filing the bug, set the verbosity to 10 (on Linux, `export AUTOGRAPH_VERBOSITY=10`) and attach the full output. Cause: converting <bound method Dense.call of <tensorflow.python.layers.core.Dense object at 0x7f2ad40bb3d0>>: AssertionError: Bad argument number for Name: 3, expecting 4\n",
            "WARNING: Entity <bound method Dense.call of <tensorflow.python.layers.core.Dense object at 0x7f2ad41f5b10>> could not be transformed and will be executed as-is. Please report this to the AutgoGraph team. When filing the bug, set the verbosity to 10 (on Linux, `export AUTOGRAPH_VERBOSITY=10`) and attach the full output. Cause: converting <bound method Dense.call of <tensorflow.python.layers.core.Dense object at 0x7f2ad41f5b10>>: AssertionError: Bad argument number for Name: 3, expecting 4\n",
            "WARNING: Entity <bound method Dense.call of <tensorflow.python.layers.core.Dense object at 0x7f2ad41f5b10>> could not be transformed and will be executed as-is. Please report this to the AutgoGraph team. When filing the bug, set the verbosity to 10 (on Linux, `export AUTOGRAPH_VERBOSITY=10`) and attach the full output. Cause: converting <bound method Dense.call of <tensorflow.python.layers.core.Dense object at 0x7f2ad41f5b10>>: AssertionError: Bad argument number for Name: 3, expecting 4\n",
            "WARNING: Entity <bound method Dense.call of <tensorflow.python.layers.core.Dense object at 0x7f2ad4448190>> could not be transformed and will be executed as-is. Please report this to the AutgoGraph team. When filing the bug, set the verbosity to 10 (on Linux, `export AUTOGRAPH_VERBOSITY=10`) and attach the full output. Cause: converting <bound method Dense.call of <tensorflow.python.layers.core.Dense object at 0x7f2ad4448190>>: AssertionError: Bad argument number for Name: 3, expecting 4\n",
            "WARNING: Entity <bound method Dense.call of <tensorflow.python.layers.core.Dense object at 0x7f2ad58aca10>> could not be transformed and will be executed as-is. Please report this to the AutgoGraph team. When filing the bug, set the verbosity to 10 (on Linux, `export AUTOGRAPH_VERBOSITY=10`) and attach the full output. Cause: converting <bound method Dense.call of <tensorflow.python.layers.core.Dense object at 0x7f2ad58aca10>>: AssertionError: Bad argument number for Name: 3, expecting 4\n",
            "WARNING: Entity <bound method Dense.call of <tensorflow.python.layers.core.Dense object at 0x7f2ad5989f90>> could not be transformed and will be executed as-is. Please report this to the AutgoGraph team. When filing the bug, set the verbosity to 10 (on Linux, `export AUTOGRAPH_VERBOSITY=10`) and attach the full output. Cause: converting <bound method Dense.call of <tensorflow.python.layers.core.Dense object at 0x7f2ad5989f90>>: AssertionError: Bad argument number for Name: 3, expecting 4\n",
            "WARNING: Entity <bound method Dense.call of <tensorflow.python.layers.core.Dense object at 0x7f2acfed7c90>> could not be transformed and will be executed as-is. Please report this to the AutgoGraph team. When filing the bug, set the verbosity to 10 (on Linux, `export AUTOGRAPH_VERBOSITY=10`) and attach the full output. Cause: converting <bound method Dense.call of <tensorflow.python.layers.core.Dense object at 0x7f2acfed7c90>>: AssertionError: Bad argument number for Name: 3, expecting 4\n",
            "WARNING: Entity <bound method Dense.call of <tensorflow.python.layers.core.Dense object at 0x7f2ad40bb0d0>> could not be transformed and will be executed as-is. Please report this to the AutgoGraph team. When filing the bug, set the verbosity to 10 (on Linux, `export AUTOGRAPH_VERBOSITY=10`) and attach the full output. Cause: converting <bound method Dense.call of <tensorflow.python.layers.core.Dense object at 0x7f2ad40bb0d0>>: AssertionError: Bad argument number for Name: 3, expecting 4\n",
            "WARNING: Entity <bound method Dense.call of <tensorflow.python.layers.core.Dense object at 0x7f2ad42bc550>> could not be transformed and will be executed as-is. Please report this to the AutgoGraph team. When filing the bug, set the verbosity to 10 (on Linux, `export AUTOGRAPH_VERBOSITY=10`) and attach the full output. Cause: converting <bound method Dense.call of <tensorflow.python.layers.core.Dense object at 0x7f2ad42bc550>>: AssertionError: Bad argument number for Name: 3, expecting 4\n",
            "WARNING: Entity <bound method Dense.call of <tensorflow.python.layers.core.Dense object at 0x7f2ad41a0750>> could not be transformed and will be executed as-is. Please report this to the AutgoGraph team. When filing the bug, set the verbosity to 10 (on Linux, `export AUTOGRAPH_VERBOSITY=10`) and attach the full output. Cause: converting <bound method Dense.call of <tensorflow.python.layers.core.Dense object at 0x7f2ad41a0750>>: AssertionError: Bad argument number for Name: 3, expecting 4\n",
            "WARNING: Entity <bound method Dense.call of <tensorflow.python.layers.core.Dense object at 0x7f2ad4563f90>> could not be transformed and will be executed as-is. Please report this to the AutgoGraph team. When filing the bug, set the verbosity to 10 (on Linux, `export AUTOGRAPH_VERBOSITY=10`) and attach the full output. Cause: converting <bound method Dense.call of <tensorflow.python.layers.core.Dense object at 0x7f2ad4563f90>>: AssertionError: Bad argument number for Name: 3, expecting 4\n",
            "WARNING: Entity <bound method Dense.call of <tensorflow.python.layers.core.Dense object at 0x7f2ad43674d0>> could not be transformed and will be executed as-is. Please report this to the AutgoGraph team. When filing the bug, set the verbosity to 10 (on Linux, `export AUTOGRAPH_VERBOSITY=10`) and attach the full output. Cause: converting <bound method Dense.call of <tensorflow.python.layers.core.Dense object at 0x7f2ad43674d0>>: AssertionError: Bad argument number for Name: 3, expecting 4\n",
            "WARNING: Entity <bound method Dense.call of <tensorflow.python.layers.core.Dense object at 0x7f2acfd64350>> could not be transformed and will be executed as-is. Please report this to the AutgoGraph team. When filing the bug, set the verbosity to 10 (on Linux, `export AUTOGRAPH_VERBOSITY=10`) and attach the full output. Cause: converting <bound method Dense.call of <tensorflow.python.layers.core.Dense object at 0x7f2acfd64350>>: AssertionError: Bad argument number for Name: 3, expecting 4\n",
            "WARNING: Entity <bound method Dense.call of <tensorflow.python.layers.core.Dense object at 0x7f2ad44d1750>> could not be transformed and will be executed as-is. Please report this to the AutgoGraph team. When filing the bug, set the verbosity to 10 (on Linux, `export AUTOGRAPH_VERBOSITY=10`) and attach the full output. Cause: converting <bound method Dense.call of <tensorflow.python.layers.core.Dense object at 0x7f2ad44d1750>>: AssertionError: Bad argument number for Name: 3, expecting 4\n",
            "WARNING: Entity <bound method Dense.call of <tensorflow.python.layers.core.Dense object at 0x7f2ad40bb0d0>> could not be transformed and will be executed as-is. Please report this to the AutgoGraph team. When filing the bug, set the verbosity to 10 (on Linux, `export AUTOGRAPH_VERBOSITY=10`) and attach the full output. Cause: converting <bound method Dense.call of <tensorflow.python.layers.core.Dense object at 0x7f2ad40bb0d0>>: AssertionError: Bad argument number for Name: 3, expecting 4\n",
            "WARNING: Entity <bound method Dense.call of <tensorflow.python.layers.core.Dense object at 0x7f2acfef2210>> could not be transformed and will be executed as-is. Please report this to the AutgoGraph team. When filing the bug, set the verbosity to 10 (on Linux, `export AUTOGRAPH_VERBOSITY=10`) and attach the full output. Cause: converting <bound method Dense.call of <tensorflow.python.layers.core.Dense object at 0x7f2acfef2210>>: AssertionError: Bad argument number for Name: 3, expecting 4\n",
            "WARNING: Entity <bound method Dense.call of <tensorflow.python.layers.core.Dense object at 0x7f2ad58aca10>> could not be transformed and will be executed as-is. Please report this to the AutgoGraph team. When filing the bug, set the verbosity to 10 (on Linux, `export AUTOGRAPH_VERBOSITY=10`) and attach the full output. Cause: converting <bound method Dense.call of <tensorflow.python.layers.core.Dense object at 0x7f2ad58aca10>>: AssertionError: Bad argument number for Name: 3, expecting 4\n",
            "WARNING: Entity <bound method Dense.call of <tensorflow.python.layers.core.Dense object at 0x7f2ad559db50>> could not be transformed and will be executed as-is. Please report this to the AutgoGraph team. When filing the bug, set the verbosity to 10 (on Linux, `export AUTOGRAPH_VERBOSITY=10`) and attach the full output. Cause: converting <bound method Dense.call of <tensorflow.python.layers.core.Dense object at 0x7f2ad559db50>>: AssertionError: Bad argument number for Name: 3, expecting 4\n",
            "WARNING: Entity <bound method Dense.call of <tensorflow.python.layers.core.Dense object at 0x7f2acfa94450>> could not be transformed and will be executed as-is. Please report this to the AutgoGraph team. When filing the bug, set the verbosity to 10 (on Linux, `export AUTOGRAPH_VERBOSITY=10`) and attach the full output. Cause: converting <bound method Dense.call of <tensorflow.python.layers.core.Dense object at 0x7f2acfa94450>>: AssertionError: Bad argument number for Name: 3, expecting 4\n",
            "WARNING: Entity <bound method Dense.call of <tensorflow.python.layers.core.Dense object at 0x7f2acfa94450>> could not be transformed and will be executed as-is. Please report this to the AutgoGraph team. When filing the bug, set the verbosity to 10 (on Linux, `export AUTOGRAPH_VERBOSITY=10`) and attach the full output. Cause: converting <bound method Dense.call of <tensorflow.python.layers.core.Dense object at 0x7f2acfa94450>>: AssertionError: Bad argument number for Name: 3, expecting 4\n",
            "WARNING: Entity <bound method Dense.call of <tensorflow.python.layers.core.Dense object at 0x7f2acfa94450>> could not be transformed and will be executed as-is. Please report this to the AutgoGraph team. When filing the bug, set the verbosity to 10 (on Linux, `export AUTOGRAPH_VERBOSITY=10`) and attach the full output. Cause: converting <bound method Dense.call of <tensorflow.python.layers.core.Dense object at 0x7f2acfa94450>>: AssertionError: Bad argument number for Name: 3, expecting 4\n",
            "WARNING: Entity <bound method Dense.call of <tensorflow.python.layers.core.Dense object at 0x7f2acfae7190>> could not be transformed and will be executed as-is. Please report this to the AutgoGraph team. When filing the bug, set the verbosity to 10 (on Linux, `export AUTOGRAPH_VERBOSITY=10`) and attach the full output. Cause: converting <bound method Dense.call of <tensorflow.python.layers.core.Dense object at 0x7f2acfae7190>>: AssertionError: Bad argument number for Name: 3, expecting 4\n",
            "WARNING: Entity <bound method Dense.call of <tensorflow.python.layers.core.Dense object at 0x7f2acfedc2d0>> could not be transformed and will be executed as-is. Please report this to the AutgoGraph team. When filing the bug, set the verbosity to 10 (on Linux, `export AUTOGRAPH_VERBOSITY=10`) and attach the full output. Cause: converting <bound method Dense.call of <tensorflow.python.layers.core.Dense object at 0x7f2acfedc2d0>>: AssertionError: Bad argument number for Name: 3, expecting 4\n",
            "WARNING: Entity <bound method Dense.call of <tensorflow.python.layers.core.Dense object at 0x7f2ad5989d50>> could not be transformed and will be executed as-is. Please report this to the AutgoGraph team. When filing the bug, set the verbosity to 10 (on Linux, `export AUTOGRAPH_VERBOSITY=10`) and attach the full output. Cause: converting <bound method Dense.call of <tensorflow.python.layers.core.Dense object at 0x7f2ad5989d50>>: AssertionError: Bad argument number for Name: 3, expecting 4\n",
            "WARNING: Entity <bound method Dense.call of <tensorflow.python.layers.core.Dense object at 0x7f2acf87b750>> could not be transformed and will be executed as-is. Please report this to the AutgoGraph team. When filing the bug, set the verbosity to 10 (on Linux, `export AUTOGRAPH_VERBOSITY=10`) and attach the full output. Cause: converting <bound method Dense.call of <tensorflow.python.layers.core.Dense object at 0x7f2acf87b750>>: AssertionError: Bad argument number for Name: 3, expecting 4\n",
            "WARNING: Entity <bound method Dense.call of <tensorflow.python.layers.core.Dense object at 0x7f2acf89f150>> could not be transformed and will be executed as-is. Please report this to the AutgoGraph team. When filing the bug, set the verbosity to 10 (on Linux, `export AUTOGRAPH_VERBOSITY=10`) and attach the full output. Cause: converting <bound method Dense.call of <tensorflow.python.layers.core.Dense object at 0x7f2acf89f150>>: AssertionError: Bad argument number for Name: 3, expecting 4\n",
            "WARNING: Entity <bound method Dense.call of <tensorflow.python.layers.core.Dense object at 0x7f2ad435a6d0>> could not be transformed and will be executed as-is. Please report this to the AutgoGraph team. When filing the bug, set the verbosity to 10 (on Linux, `export AUTOGRAPH_VERBOSITY=10`) and attach the full output. Cause: converting <bound method Dense.call of <tensorflow.python.layers.core.Dense object at 0x7f2ad435a6d0>>: AssertionError: Bad argument number for Name: 3, expecting 4\n",
            "WARNING: Entity <bound method Dense.call of <tensorflow.python.layers.core.Dense object at 0x7f2acf94f150>> could not be transformed and will be executed as-is. Please report this to the AutgoGraph team. When filing the bug, set the verbosity to 10 (on Linux, `export AUTOGRAPH_VERBOSITY=10`) and attach the full output. Cause: converting <bound method Dense.call of <tensorflow.python.layers.core.Dense object at 0x7f2acf94f150>>: AssertionError: Bad argument number for Name: 3, expecting 4\n",
            "WARNING: Entity <bound method Dense.call of <tensorflow.python.layers.core.Dense object at 0x7f2ad559db50>> could not be transformed and will be executed as-is. Please report this to the AutgoGraph team. When filing the bug, set the verbosity to 10 (on Linux, `export AUTOGRAPH_VERBOSITY=10`) and attach the full output. Cause: converting <bound method Dense.call of <tensorflow.python.layers.core.Dense object at 0x7f2ad559db50>>: AssertionError: Bad argument number for Name: 3, expecting 4\n",
            "WARNING: Entity <bound method Dense.call of <tensorflow.python.layers.core.Dense object at 0x7f2acfcbff10>> could not be transformed and will be executed as-is. Please report this to the AutgoGraph team. When filing the bug, set the verbosity to 10 (on Linux, `export AUTOGRAPH_VERBOSITY=10`) and attach the full output. Cause: converting <bound method Dense.call of <tensorflow.python.layers.core.Dense object at 0x7f2acfcbff10>>: AssertionError: Bad argument number for Name: 3, expecting 4\n",
            "WARNING: Entity <bound method Dense.call of <tensorflow.python.layers.core.Dense object at 0x7f2acf4967d0>> could not be transformed and will be executed as-is. Please report this to the AutgoGraph team. When filing the bug, set the verbosity to 10 (on Linux, `export AUTOGRAPH_VERBOSITY=10`) and attach the full output. Cause: converting <bound method Dense.call of <tensorflow.python.layers.core.Dense object at 0x7f2acf4967d0>>: AssertionError: Bad argument number for Name: 3, expecting 4\n",
            "WARNING: Entity <bound method Dense.call of <tensorflow.python.layers.core.Dense object at 0x7f2acf70cb90>> could not be transformed and will be executed as-is. Please report this to the AutgoGraph team. When filing the bug, set the verbosity to 10 (on Linux, `export AUTOGRAPH_VERBOSITY=10`) and attach the full output. Cause: converting <bound method Dense.call of <tensorflow.python.layers.core.Dense object at 0x7f2acf70cb90>>: AssertionError: Bad argument number for Name: 3, expecting 4\n",
            "WARNING: Entity <bound method Dense.call of <tensorflow.python.layers.core.Dense object at 0x7f2acf78c290>> could not be transformed and will be executed as-is. Please report this to the AutgoGraph team. When filing the bug, set the verbosity to 10 (on Linux, `export AUTOGRAPH_VERBOSITY=10`) and attach the full output. Cause: converting <bound method Dense.call of <tensorflow.python.layers.core.Dense object at 0x7f2acf78c290>>: AssertionError: Bad argument number for Name: 3, expecting 4\n",
            "WARNING: Entity <bound method Dense.call of <tensorflow.python.layers.core.Dense object at 0x7f2acf9be5d0>> could not be transformed and will be executed as-is. Please report this to the AutgoGraph team. When filing the bug, set the verbosity to 10 (on Linux, `export AUTOGRAPH_VERBOSITY=10`) and attach the full output. Cause: converting <bound method Dense.call of <tensorflow.python.layers.core.Dense object at 0x7f2acf9be5d0>>: AssertionError: Bad argument number for Name: 3, expecting 4\n",
            "WARNING: Entity <bound method Dense.call of <tensorflow.python.layers.core.Dense object at 0x7f2acf857e10>> could not be transformed and will be executed as-is. Please report this to the AutgoGraph team. When filing the bug, set the verbosity to 10 (on Linux, `export AUTOGRAPH_VERBOSITY=10`) and attach the full output. Cause: converting <bound method Dense.call of <tensorflow.python.layers.core.Dense object at 0x7f2acf857e10>>: AssertionError: Bad argument number for Name: 3, expecting 4\n",
            "WARNING: Entity <bound method Dense.call of <tensorflow.python.layers.core.Dense object at 0x7f2acf94f150>> could not be transformed and will be executed as-is. Please report this to the AutgoGraph team. When filing the bug, set the verbosity to 10 (on Linux, `export AUTOGRAPH_VERBOSITY=10`) and attach the full output. Cause: converting <bound method Dense.call of <tensorflow.python.layers.core.Dense object at 0x7f2acf94f150>>: AssertionError: Bad argument number for Name: 3, expecting 4\n",
            "WARNING: Entity <bound method Dense.call of <tensorflow.python.layers.core.Dense object at 0x7f2acf234310>> could not be transformed and will be executed as-is. Please report this to the AutgoGraph team. When filing the bug, set the verbosity to 10 (on Linux, `export AUTOGRAPH_VERBOSITY=10`) and attach the full output. Cause: converting <bound method Dense.call of <tensorflow.python.layers.core.Dense object at 0x7f2acf234310>>: AssertionError: Bad argument number for Name: 3, expecting 4\n",
            "WARNING: Entity <bound method Dense.call of <tensorflow.python.layers.core.Dense object at 0x7f2acf6722d0>> could not be transformed and will be executed as-is. Please report this to the AutgoGraph team. When filing the bug, set the verbosity to 10 (on Linux, `export AUTOGRAPH_VERBOSITY=10`) and attach the full output. Cause: converting <bound method Dense.call of <tensorflow.python.layers.core.Dense object at 0x7f2acf6722d0>>: AssertionError: Bad argument number for Name: 3, expecting 4\n",
            "WARNING: Entity <bound method Dense.call of <tensorflow.python.layers.core.Dense object at 0x7f2acf391050>> could not be transformed and will be executed as-is. Please report this to the AutgoGraph team. When filing the bug, set the verbosity to 10 (on Linux, `export AUTOGRAPH_VERBOSITY=10`) and attach the full output. Cause: converting <bound method Dense.call of <tensorflow.python.layers.core.Dense object at 0x7f2acf391050>>: AssertionError: Bad argument number for Name: 3, expecting 4\n",
            "WARNING: Entity <bound method Dense.call of <tensorflow.python.layers.core.Dense object at 0x7f2acf731d50>> could not be transformed and will be executed as-is. Please report this to the AutgoGraph team. When filing the bug, set the verbosity to 10 (on Linux, `export AUTOGRAPH_VERBOSITY=10`) and attach the full output. Cause: converting <bound method Dense.call of <tensorflow.python.layers.core.Dense object at 0x7f2acf731d50>>: AssertionError: Bad argument number for Name: 3, expecting 4\n",
            "WARNING: Entity <bound method Dense.call of <tensorflow.python.layers.core.Dense object at 0x7f2ad58aca10>> could not be transformed and will be executed as-is. Please report this to the AutgoGraph team. When filing the bug, set the verbosity to 10 (on Linux, `export AUTOGRAPH_VERBOSITY=10`) and attach the full output. Cause: converting <bound method Dense.call of <tensorflow.python.layers.core.Dense object at 0x7f2ad58aca10>>: AssertionError: Bad argument number for Name: 3, expecting 4\n",
            "WARNING: Entity <bound method Dense.call of <tensorflow.python.layers.core.Dense object at 0x7f2ad5aee690>> could not be transformed and will be executed as-is. Please report this to the AutgoGraph team. When filing the bug, set the verbosity to 10 (on Linux, `export AUTOGRAPH_VERBOSITY=10`) and attach the full output. Cause: converting <bound method Dense.call of <tensorflow.python.layers.core.Dense object at 0x7f2ad5aee690>>: AssertionError: Bad argument number for Name: 3, expecting 4\n",
            "WARNING: Entity <bound method Dense.call of <tensorflow.python.layers.core.Dense object at 0x7f2acf088350>> could not be transformed and will be executed as-is. Please report this to the AutgoGraph team. When filing the bug, set the verbosity to 10 (on Linux, `export AUTOGRAPH_VERBOSITY=10`) and attach the full output. Cause: converting <bound method Dense.call of <tensorflow.python.layers.core.Dense object at 0x7f2acf088350>>: AssertionError: Bad argument number for Name: 3, expecting 4\n",
            "WARNING: Entity <bound method Dense.call of <tensorflow.python.layers.core.Dense object at 0x7f2acf2e0e50>> could not be transformed and will be executed as-is. Please report this to the AutgoGraph team. When filing the bug, set the verbosity to 10 (on Linux, `export AUTOGRAPH_VERBOSITY=10`) and attach the full output. Cause: converting <bound method Dense.call of <tensorflow.python.layers.core.Dense object at 0x7f2acf2e0e50>>: AssertionError: Bad argument number for Name: 3, expecting 4\n",
            "WARNING: Entity <bound method Dense.call of <tensorflow.python.layers.core.Dense object at 0x7f2ad42ec8d0>> could not be transformed and will be executed as-is. Please report this to the AutgoGraph team. When filing the bug, set the verbosity to 10 (on Linux, `export AUTOGRAPH_VERBOSITY=10`) and attach the full output. Cause: converting <bound method Dense.call of <tensorflow.python.layers.core.Dense object at 0x7f2ad42ec8d0>>: AssertionError: Bad argument number for Name: 3, expecting 4\n",
            "WARNING: Entity <bound method Dense.call of <tensorflow.python.layers.core.Dense object at 0x7f2acf468dd0>> could not be transformed and will be executed as-is. Please report this to the AutgoGraph team. When filing the bug, set the verbosity to 10 (on Linux, `export AUTOGRAPH_VERBOSITY=10`) and attach the full output. Cause: converting <bound method Dense.call of <tensorflow.python.layers.core.Dense object at 0x7f2acf468dd0>>: AssertionError: Bad argument number for Name: 3, expecting 4\n",
            "WARNING: Entity <bound method Dense.call of <tensorflow.python.layers.core.Dense object at 0x7f2ad4563f90>> could not be transformed and will be executed as-is. Please report this to the AutgoGraph team. When filing the bug, set the verbosity to 10 (on Linux, `export AUTOGRAPH_VERBOSITY=10`) and attach the full output. Cause: converting <bound method Dense.call of <tensorflow.python.layers.core.Dense object at 0x7f2ad4563f90>>: AssertionError: Bad argument number for Name: 3, expecting 4\n",
            "WARNING: Entity <bound method Dense.call of <tensorflow.python.layers.core.Dense object at 0x7f2acf857e10>> could not be transformed and will be executed as-is. Please report this to the AutgoGraph team. When filing the bug, set the verbosity to 10 (on Linux, `export AUTOGRAPH_VERBOSITY=10`) and attach the full output. Cause: converting <bound method Dense.call of <tensorflow.python.layers.core.Dense object at 0x7f2acf857e10>>: AssertionError: Bad argument number for Name: 3, expecting 4\n",
            "WARNING: Entity <bound method Dense.call of <tensorflow.python.layers.core.Dense object at 0x7f2acfae9d90>> could not be transformed and will be executed as-is. Please report this to the AutgoGraph team. When filing the bug, set the verbosity to 10 (on Linux, `export AUTOGRAPH_VERBOSITY=10`) and attach the full output. Cause: converting <bound method Dense.call of <tensorflow.python.layers.core.Dense object at 0x7f2acfae9d90>>: AssertionError: Bad argument number for Name: 3, expecting 4\n",
            "***** Running prediction*****\n",
            "sosc_output/test_results.csv\n",
            "***** Predict results: UID => oracle => prediction => individual probabilities *****\n",
            "WARNING: Entity <bound method Dense.call of <tensorflow.python.layers.core.Dense object at 0x7f2aaeaf6d90>> could not be transformed and will be executed as-is. Please report this to the AutgoGraph team. When filing the bug, set the verbosity to 10 (on Linux, `export AUTOGRAPH_VERBOSITY=10`) and attach the full output. Cause: converting <bound method Dense.call of <tensorflow.python.layers.core.Dense object at 0x7f2aaeaf6d90>>: AssertionError: Bad argument number for Name: 3, expecting 4\n",
            "WARNING: Entity <bound method Dense.call of <tensorflow.python.layers.core.Dense object at 0x7f2aaeaf6d90>> could not be transformed and will be executed as-is. Please report this to the AutgoGraph team. When filing the bug, set the verbosity to 10 (on Linux, `export AUTOGRAPH_VERBOSITY=10`) and attach the full output. Cause: converting <bound method Dense.call of <tensorflow.python.layers.core.Dense object at 0x7f2aaeaf6d90>>: AssertionError: Bad argument number for Name: 3, expecting 4\n",
            "WARNING: Entity <bound method Dense.call of <tensorflow.python.layers.core.Dense object at 0x7f2aaeaf6d90>> could not be transformed and will be executed as-is. Please report this to the AutgoGraph team. When filing the bug, set the verbosity to 10 (on Linux, `export AUTOGRAPH_VERBOSITY=10`) and attach the full output. Cause: converting <bound method Dense.call of <tensorflow.python.layers.core.Dense object at 0x7f2aaeaf6d90>>: AssertionError: Bad argument number for Name: 3, expecting 4\n",
            "WARNING: Entity <bound method Dense.call of <tensorflow.python.layers.core.Dense object at 0x7f2aaeaf6bd0>> could not be transformed and will be executed as-is. Please report this to the AutgoGraph team. When filing the bug, set the verbosity to 10 (on Linux, `export AUTOGRAPH_VERBOSITY=10`) and attach the full output. Cause: converting <bound method Dense.call of <tensorflow.python.layers.core.Dense object at 0x7f2aaeaf6bd0>>: AssertionError: Bad argument number for Name: 3, expecting 4\n",
            "WARNING: Entity <bound method Dense.call of <tensorflow.python.layers.core.Dense object at 0x7f2aaeaf6950>> could not be transformed and will be executed as-is. Please report this to the AutgoGraph team. When filing the bug, set the verbosity to 10 (on Linux, `export AUTOGRAPH_VERBOSITY=10`) and attach the full output. Cause: converting <bound method Dense.call of <tensorflow.python.layers.core.Dense object at 0x7f2aaeaf6950>>: AssertionError: Bad argument number for Name: 3, expecting 4\n",
            "WARNING: Entity <bound method Dense.call of <tensorflow.python.layers.core.Dense object at 0x7f2aaea65350>> could not be transformed and will be executed as-is. Please report this to the AutgoGraph team. When filing the bug, set the verbosity to 10 (on Linux, `export AUTOGRAPH_VERBOSITY=10`) and attach the full output. Cause: converting <bound method Dense.call of <tensorflow.python.layers.core.Dense object at 0x7f2aaea65350>>: AssertionError: Bad argument number for Name: 3, expecting 4\n",
            "WARNING: Entity <bound method Dense.call of <tensorflow.python.layers.core.Dense object at 0x7f2aac09bfd0>> could not be transformed and will be executed as-is. Please report this to the AutgoGraph team. When filing the bug, set the verbosity to 10 (on Linux, `export AUTOGRAPH_VERBOSITY=10`) and attach the full output. Cause: converting <bound method Dense.call of <tensorflow.python.layers.core.Dense object at 0x7f2aac09bfd0>>: AssertionError: Bad argument number for Name: 3, expecting 4\n",
            "WARNING: Entity <bound method Dense.call of <tensorflow.python.layers.core.Dense object at 0x7f2aac09bfd0>> could not be transformed and will be executed as-is. Please report this to the AutgoGraph team. When filing the bug, set the verbosity to 10 (on Linux, `export AUTOGRAPH_VERBOSITY=10`) and attach the full output. Cause: converting <bound method Dense.call of <tensorflow.python.layers.core.Dense object at 0x7f2aac09bfd0>>: AssertionError: Bad argument number for Name: 3, expecting 4\n",
            "WARNING: Entity <bound method Dense.call of <tensorflow.python.layers.core.Dense object at 0x7f2aac09bfd0>> could not be transformed and will be executed as-is. Please report this to the AutgoGraph team. When filing the bug, set the verbosity to 10 (on Linux, `export AUTOGRAPH_VERBOSITY=10`) and attach the full output. Cause: converting <bound method Dense.call of <tensorflow.python.layers.core.Dense object at 0x7f2aac09bfd0>>: AssertionError: Bad argument number for Name: 3, expecting 4\n",
            "WARNING: Entity <bound method Dense.call of <tensorflow.python.layers.core.Dense object at 0x7f2aaeaf65d0>> could not be transformed and will be executed as-is. Please report this to the AutgoGraph team. When filing the bug, set the verbosity to 10 (on Linux, `export AUTOGRAPH_VERBOSITY=10`) and attach the full output. Cause: converting <bound method Dense.call of <tensorflow.python.layers.core.Dense object at 0x7f2aaeaf65d0>>: AssertionError: Bad argument number for Name: 3, expecting 4\n",
            "WARNING: Entity <bound method Dense.call of <tensorflow.python.layers.core.Dense object at 0x7f2aaea03750>> could not be transformed and will be executed as-is. Please report this to the AutgoGraph team. When filing the bug, set the verbosity to 10 (on Linux, `export AUTOGRAPH_VERBOSITY=10`) and attach the full output. Cause: converting <bound method Dense.call of <tensorflow.python.layers.core.Dense object at 0x7f2aaea03750>>: AssertionError: Bad argument number for Name: 3, expecting 4\n",
            "WARNING: Entity <bound method Dense.call of <tensorflow.python.layers.core.Dense object at 0x7f2aaea51dd0>> could not be transformed and will be executed as-is. Please report this to the AutgoGraph team. When filing the bug, set the verbosity to 10 (on Linux, `export AUTOGRAPH_VERBOSITY=10`) and attach the full output. Cause: converting <bound method Dense.call of <tensorflow.python.layers.core.Dense object at 0x7f2aaea51dd0>>: AssertionError: Bad argument number for Name: 3, expecting 4\n",
            "WARNING: Entity <bound method Dense.call of <tensorflow.python.layers.core.Dense object at 0x7f2aaeaf6910>> could not be transformed and will be executed as-is. Please report this to the AutgoGraph team. When filing the bug, set the verbosity to 10 (on Linux, `export AUTOGRAPH_VERBOSITY=10`) and attach the full output. Cause: converting <bound method Dense.call of <tensorflow.python.layers.core.Dense object at 0x7f2aaeaf6910>>: AssertionError: Bad argument number for Name: 3, expecting 4\n",
            "WARNING: Entity <bound method Dense.call of <tensorflow.python.layers.core.Dense object at 0x7f2aaeaf6910>> could not be transformed and will be executed as-is. Please report this to the AutgoGraph team. When filing the bug, set the verbosity to 10 (on Linux, `export AUTOGRAPH_VERBOSITY=10`) and attach the full output. Cause: converting <bound method Dense.call of <tensorflow.python.layers.core.Dense object at 0x7f2aaeaf6910>>: AssertionError: Bad argument number for Name: 3, expecting 4\n",
            "WARNING: Entity <bound method Dense.call of <tensorflow.python.layers.core.Dense object at 0x7f2aaeaf6910>> could not be transformed and will be executed as-is. Please report this to the AutgoGraph team. When filing the bug, set the verbosity to 10 (on Linux, `export AUTOGRAPH_VERBOSITY=10`) and attach the full output. Cause: converting <bound method Dense.call of <tensorflow.python.layers.core.Dense object at 0x7f2aaeaf6910>>: AssertionError: Bad argument number for Name: 3, expecting 4\n",
            "WARNING: Entity <bound method Dense.call of <tensorflow.python.layers.core.Dense object at 0x7f2aae7e76d0>> could not be transformed and will be executed as-is. Please report this to the AutgoGraph team. When filing the bug, set the verbosity to 10 (on Linux, `export AUTOGRAPH_VERBOSITY=10`) and attach the full output. Cause: converting <bound method Dense.call of <tensorflow.python.layers.core.Dense object at 0x7f2aae7e76d0>>: AssertionError: Bad argument number for Name: 3, expecting 4\n",
            "WARNING: Entity <bound method Dense.call of <tensorflow.python.layers.core.Dense object at 0x7f2acf667e90>> could not be transformed and will be executed as-is. Please report this to the AutgoGraph team. When filing the bug, set the verbosity to 10 (on Linux, `export AUTOGRAPH_VERBOSITY=10`) and attach the full output. Cause: converting <bound method Dense.call of <tensorflow.python.layers.core.Dense object at 0x7f2acf667e90>>: AssertionError: Bad argument number for Name: 3, expecting 4\n",
            "WARNING: Entity <bound method Dense.call of <tensorflow.python.layers.core.Dense object at 0x7f2aae94b390>> could not be transformed and will be executed as-is. Please report this to the AutgoGraph team. When filing the bug, set the verbosity to 10 (on Linux, `export AUTOGRAPH_VERBOSITY=10`) and attach the full output. Cause: converting <bound method Dense.call of <tensorflow.python.layers.core.Dense object at 0x7f2aae94b390>>: AssertionError: Bad argument number for Name: 3, expecting 4\n",
            "WARNING: Entity <bound method Dense.call of <tensorflow.python.layers.core.Dense object at 0x7f2acf466b50>> could not be transformed and will be executed as-is. Please report this to the AutgoGraph team. When filing the bug, set the verbosity to 10 (on Linux, `export AUTOGRAPH_VERBOSITY=10`) and attach the full output. Cause: converting <bound method Dense.call of <tensorflow.python.layers.core.Dense object at 0x7f2acf466b50>>: AssertionError: Bad argument number for Name: 3, expecting 4\n",
            "WARNING: Entity <bound method Dense.call of <tensorflow.python.layers.core.Dense object at 0x7f2aae69ff10>> could not be transformed and will be executed as-is. Please report this to the AutgoGraph team. When filing the bug, set the verbosity to 10 (on Linux, `export AUTOGRAPH_VERBOSITY=10`) and attach the full output. Cause: converting <bound method Dense.call of <tensorflow.python.layers.core.Dense object at 0x7f2aae69ff10>>: AssertionError: Bad argument number for Name: 3, expecting 4\n",
            "WARNING: Entity <bound method Dense.call of <tensorflow.python.layers.core.Dense object at 0x7f2aae69ff10>> could not be transformed and will be executed as-is. Please report this to the AutgoGraph team. When filing the bug, set the verbosity to 10 (on Linux, `export AUTOGRAPH_VERBOSITY=10`) and attach the full output. Cause: converting <bound method Dense.call of <tensorflow.python.layers.core.Dense object at 0x7f2aae69ff10>>: AssertionError: Bad argument number for Name: 3, expecting 4\n",
            "WARNING: Entity <bound method Dense.call of <tensorflow.python.layers.core.Dense object at 0x7f2aae603550>> could not be transformed and will be executed as-is. Please report this to the AutgoGraph team. When filing the bug, set the verbosity to 10 (on Linux, `export AUTOGRAPH_VERBOSITY=10`) and attach the full output. Cause: converting <bound method Dense.call of <tensorflow.python.layers.core.Dense object at 0x7f2aae603550>>: AssertionError: Bad argument number for Name: 3, expecting 4\n",
            "WARNING: Entity <bound method Dense.call of <tensorflow.python.layers.core.Dense object at 0x7f2acf2fc590>> could not be transformed and will be executed as-is. Please report this to the AutgoGraph team. When filing the bug, set the verbosity to 10 (on Linux, `export AUTOGRAPH_VERBOSITY=10`) and attach the full output. Cause: converting <bound method Dense.call of <tensorflow.python.layers.core.Dense object at 0x7f2acf2fc590>>: AssertionError: Bad argument number for Name: 3, expecting 4\n",
            "WARNING: Entity <bound method Dense.call of <tensorflow.python.layers.core.Dense object at 0x7f2aaea51dd0>> could not be transformed and will be executed as-is. Please report this to the AutgoGraph team. When filing the bug, set the verbosity to 10 (on Linux, `export AUTOGRAPH_VERBOSITY=10`) and attach the full output. Cause: converting <bound method Dense.call of <tensorflow.python.layers.core.Dense object at 0x7f2aaea51dd0>>: AssertionError: Bad argument number for Name: 3, expecting 4\n",
            "WARNING: Entity <bound method Dense.call of <tensorflow.python.layers.core.Dense object at 0x7f2a1af44f90>> could not be transformed and will be executed as-is. Please report this to the AutgoGraph team. When filing the bug, set the verbosity to 10 (on Linux, `export AUTOGRAPH_VERBOSITY=10`) and attach the full output. Cause: converting <bound method Dense.call of <tensorflow.python.layers.core.Dense object at 0x7f2a1af44f90>>: AssertionError: Bad argument number for Name: 3, expecting 4\n",
            "WARNING: Entity <bound method Dense.call of <tensorflow.python.layers.core.Dense object at 0x7f2aae3f8790>> could not be transformed and will be executed as-is. Please report this to the AutgoGraph team. When filing the bug, set the verbosity to 10 (on Linux, `export AUTOGRAPH_VERBOSITY=10`) and attach the full output. Cause: converting <bound method Dense.call of <tensorflow.python.layers.core.Dense object at 0x7f2aae3f8790>>: AssertionError: Bad argument number for Name: 3, expecting 4\n",
            "WARNING: Entity <bound method Dense.call of <tensorflow.python.layers.core.Dense object at 0x7f2aae3f8790>> could not be transformed and will be executed as-is. Please report this to the AutgoGraph team. When filing the bug, set the verbosity to 10 (on Linux, `export AUTOGRAPH_VERBOSITY=10`) and attach the full output. Cause: converting <bound method Dense.call of <tensorflow.python.layers.core.Dense object at 0x7f2aae3f8790>>: AssertionError: Bad argument number for Name: 3, expecting 4\n",
            "WARNING: Entity <bound method Dense.call of <tensorflow.python.layers.core.Dense object at 0x7f2aae422d90>> could not be transformed and will be executed as-is. Please report this to the AutgoGraph team. When filing the bug, set the verbosity to 10 (on Linux, `export AUTOGRAPH_VERBOSITY=10`) and attach the full output. Cause: converting <bound method Dense.call of <tensorflow.python.layers.core.Dense object at 0x7f2aae422d90>>: AssertionError: Bad argument number for Name: 3, expecting 4\n",
            "WARNING: Entity <bound method Dense.call of <tensorflow.python.layers.core.Dense object at 0x7f2acf2fc590>> could not be transformed and will be executed as-is. Please report this to the AutgoGraph team. When filing the bug, set the verbosity to 10 (on Linux, `export AUTOGRAPH_VERBOSITY=10`) and attach the full output. Cause: converting <bound method Dense.call of <tensorflow.python.layers.core.Dense object at 0x7f2acf2fc590>>: AssertionError: Bad argument number for Name: 3, expecting 4\n",
            "WARNING: Entity <bound method Dense.call of <tensorflow.python.layers.core.Dense object at 0x7f2aae696050>> could not be transformed and will be executed as-is. Please report this to the AutgoGraph team. When filing the bug, set the verbosity to 10 (on Linux, `export AUTOGRAPH_VERBOSITY=10`) and attach the full output. Cause: converting <bound method Dense.call of <tensorflow.python.layers.core.Dense object at 0x7f2aae696050>>: AssertionError: Bad argument number for Name: 3, expecting 4\n",
            "WARNING: Entity <bound method Dense.call of <tensorflow.python.layers.core.Dense object at 0x7f2a1ae1f350>> could not be transformed and will be executed as-is. Please report this to the AutgoGraph team. When filing the bug, set the verbosity to 10 (on Linux, `export AUTOGRAPH_VERBOSITY=10`) and attach the full output. Cause: converting <bound method Dense.call of <tensorflow.python.layers.core.Dense object at 0x7f2a1ae1f350>>: AssertionError: Bad argument number for Name: 3, expecting 4\n",
            "WARNING: Entity <bound method Dense.call of <tensorflow.python.layers.core.Dense object at 0x7f2a1aef2a90>> could not be transformed and will be executed as-is. Please report this to the AutgoGraph team. When filing the bug, set the verbosity to 10 (on Linux, `export AUTOGRAPH_VERBOSITY=10`) and attach the full output. Cause: converting <bound method Dense.call of <tensorflow.python.layers.core.Dense object at 0x7f2a1aef2a90>>: AssertionError: Bad argument number for Name: 3, expecting 4\n",
            "WARNING: Entity <bound method Dense.call of <tensorflow.python.layers.core.Dense object at 0x7f2a1af44290>> could not be transformed and will be executed as-is. Please report this to the AutgoGraph team. When filing the bug, set the verbosity to 10 (on Linux, `export AUTOGRAPH_VERBOSITY=10`) and attach the full output. Cause: converting <bound method Dense.call of <tensorflow.python.layers.core.Dense object at 0x7f2a1af44290>>: AssertionError: Bad argument number for Name: 3, expecting 4\n",
            "WARNING: Entity <bound method Dense.call of <tensorflow.python.layers.core.Dense object at 0x7f2a1ae554d0>> could not be transformed and will be executed as-is. Please report this to the AutgoGraph team. When filing the bug, set the verbosity to 10 (on Linux, `export AUTOGRAPH_VERBOSITY=10`) and attach the full output. Cause: converting <bound method Dense.call of <tensorflow.python.layers.core.Dense object at 0x7f2a1ae554d0>>: AssertionError: Bad argument number for Name: 3, expecting 4\n",
            "WARNING: Entity <bound method Dense.call of <tensorflow.python.layers.core.Dense object at 0x7f2acf2fc590>> could not be transformed and will be executed as-is. Please report this to the AutgoGraph team. When filing the bug, set the verbosity to 10 (on Linux, `export AUTOGRAPH_VERBOSITY=10`) and attach the full output. Cause: converting <bound method Dense.call of <tensorflow.python.layers.core.Dense object at 0x7f2acf2fc590>>: AssertionError: Bad argument number for Name: 3, expecting 4\n",
            "WARNING: Entity <bound method Dense.call of <tensorflow.python.layers.core.Dense object at 0x7f2acfae7890>> could not be transformed and will be executed as-is. Please report this to the AutgoGraph team. When filing the bug, set the verbosity to 10 (on Linux, `export AUTOGRAPH_VERBOSITY=10`) and attach the full output. Cause: converting <bound method Dense.call of <tensorflow.python.layers.core.Dense object at 0x7f2acfae7890>>: AssertionError: Bad argument number for Name: 3, expecting 4\n",
            "WARNING: Entity <bound method Dense.call of <tensorflow.python.layers.core.Dense object at 0x7f2a1ad481d0>> could not be transformed and will be executed as-is. Please report this to the AutgoGraph team. When filing the bug, set the verbosity to 10 (on Linux, `export AUTOGRAPH_VERBOSITY=10`) and attach the full output. Cause: converting <bound method Dense.call of <tensorflow.python.layers.core.Dense object at 0x7f2a1ad481d0>>: AssertionError: Bad argument number for Name: 3, expecting 4\n",
            "WARNING: Entity <bound method Dense.call of <tensorflow.python.layers.core.Dense object at 0x7f2a1ac71cd0>> could not be transformed and will be executed as-is. Please report this to the AutgoGraph team. When filing the bug, set the verbosity to 10 (on Linux, `export AUTOGRAPH_VERBOSITY=10`) and attach the full output. Cause: converting <bound method Dense.call of <tensorflow.python.layers.core.Dense object at 0x7f2a1ac71cd0>>: AssertionError: Bad argument number for Name: 3, expecting 4\n",
            "WARNING: Entity <bound method Dense.call of <tensorflow.python.layers.core.Dense object at 0x7f2aae8c3750>> could not be transformed and will be executed as-is. Please report this to the AutgoGraph team. When filing the bug, set the verbosity to 10 (on Linux, `export AUTOGRAPH_VERBOSITY=10`) and attach the full output. Cause: converting <bound method Dense.call of <tensorflow.python.layers.core.Dense object at 0x7f2aae8c3750>>: AssertionError: Bad argument number for Name: 3, expecting 4\n",
            "WARNING: Entity <bound method Dense.call of <tensorflow.python.layers.core.Dense object at 0x7f2aaea6d0d0>> could not be transformed and will be executed as-is. Please report this to the AutgoGraph team. When filing the bug, set the verbosity to 10 (on Linux, `export AUTOGRAPH_VERBOSITY=10`) and attach the full output. Cause: converting <bound method Dense.call of <tensorflow.python.layers.core.Dense object at 0x7f2aaea6d0d0>>: AssertionError: Bad argument number for Name: 3, expecting 4\n",
            "WARNING: Entity <bound method Dense.call of <tensorflow.python.layers.core.Dense object at 0x7f2aae9391d0>> could not be transformed and will be executed as-is. Please report this to the AutgoGraph team. When filing the bug, set the verbosity to 10 (on Linux, `export AUTOGRAPH_VERBOSITY=10`) and attach the full output. Cause: converting <bound method Dense.call of <tensorflow.python.layers.core.Dense object at 0x7f2aae9391d0>>: AssertionError: Bad argument number for Name: 3, expecting 4\n",
            "WARNING: Entity <bound method Dense.call of <tensorflow.python.layers.core.Dense object at 0x7f2a1adbd050>> could not be transformed and will be executed as-is. Please report this to the AutgoGraph team. When filing the bug, set the verbosity to 10 (on Linux, `export AUTOGRAPH_VERBOSITY=10`) and attach the full output. Cause: converting <bound method Dense.call of <tensorflow.python.layers.core.Dense object at 0x7f2a1adbd050>>: AssertionError: Bad argument number for Name: 3, expecting 4\n",
            "WARNING: Entity <bound method Dense.call of <tensorflow.python.layers.core.Dense object at 0x7f2aac08a1d0>> could not be transformed and will be executed as-is. Please report this to the AutgoGraph team. When filing the bug, set the verbosity to 10 (on Linux, `export AUTOGRAPH_VERBOSITY=10`) and attach the full output. Cause: converting <bound method Dense.call of <tensorflow.python.layers.core.Dense object at 0x7f2aac08a1d0>>: AssertionError: Bad argument number for Name: 3, expecting 4\n",
            "WARNING: Entity <bound method Dense.call of <tensorflow.python.layers.core.Dense object at 0x7f2adeb3bf10>> could not be transformed and will be executed as-is. Please report this to the AutgoGraph team. When filing the bug, set the verbosity to 10 (on Linux, `export AUTOGRAPH_VERBOSITY=10`) and attach the full output. Cause: converting <bound method Dense.call of <tensorflow.python.layers.core.Dense object at 0x7f2adeb3bf10>>: AssertionError: Bad argument number for Name: 3, expecting 4\n",
            "WARNING: Entity <bound method Dense.call of <tensorflow.python.layers.core.Dense object at 0x7f2adeb3bf10>> could not be transformed and will be executed as-is. Please report this to the AutgoGraph team. When filing the bug, set the verbosity to 10 (on Linux, `export AUTOGRAPH_VERBOSITY=10`) and attach the full output. Cause: converting <bound method Dense.call of <tensorflow.python.layers.core.Dense object at 0x7f2adeb3bf10>>: AssertionError: Bad argument number for Name: 3, expecting 4\n",
            "WARNING: Entity <bound method Dense.call of <tensorflow.python.layers.core.Dense object at 0x7f2acf384510>> could not be transformed and will be executed as-is. Please report this to the AutgoGraph team. When filing the bug, set the verbosity to 10 (on Linux, `export AUTOGRAPH_VERBOSITY=10`) and attach the full output. Cause: converting <bound method Dense.call of <tensorflow.python.layers.core.Dense object at 0x7f2acf384510>>: AssertionError: Bad argument number for Name: 3, expecting 4\n",
            "WARNING: Entity <bound method Dense.call of <tensorflow.python.layers.core.Dense object at 0x7f2ad6ed4ad0>> could not be transformed and will be executed as-is. Please report this to the AutgoGraph team. When filing the bug, set the verbosity to 10 (on Linux, `export AUTOGRAPH_VERBOSITY=10`) and attach the full output. Cause: converting <bound method Dense.call of <tensorflow.python.layers.core.Dense object at 0x7f2ad6ed4ad0>>: AssertionError: Bad argument number for Name: 3, expecting 4\n",
            "WARNING: Entity <bound method Dense.call of <tensorflow.python.layers.core.Dense object at 0x7f2a1abd46d0>> could not be transformed and will be executed as-is. Please report this to the AutgoGraph team. When filing the bug, set the verbosity to 10 (on Linux, `export AUTOGRAPH_VERBOSITY=10`) and attach the full output. Cause: converting <bound method Dense.call of <tensorflow.python.layers.core.Dense object at 0x7f2a1abd46d0>>: AssertionError: Bad argument number for Name: 3, expecting 4\n",
            "WARNING: Entity <bound method Dense.call of <tensorflow.python.layers.core.Dense object at 0x7f2acf7f9d90>> could not be transformed and will be executed as-is. Please report this to the AutgoGraph team. When filing the bug, set the verbosity to 10 (on Linux, `export AUTOGRAPH_VERBOSITY=10`) and attach the full output. Cause: converting <bound method Dense.call of <tensorflow.python.layers.core.Dense object at 0x7f2acf7f9d90>>: AssertionError: Bad argument number for Name: 3, expecting 4\n",
            "WARNING: Entity <bound method Dense.call of <tensorflow.python.layers.core.Dense object at 0x7f2ad7474210>> could not be transformed and will be executed as-is. Please report this to the AutgoGraph team. When filing the bug, set the verbosity to 10 (on Linux, `export AUTOGRAPH_VERBOSITY=10`) and attach the full output. Cause: converting <bound method Dense.call of <tensorflow.python.layers.core.Dense object at 0x7f2ad7474210>>: AssertionError: Bad argument number for Name: 3, expecting 4\n",
            "WARNING: Entity <bound method Dense.call of <tensorflow.python.layers.core.Dense object at 0x7f2ad7474210>> could not be transformed and will be executed as-is. Please report this to the AutgoGraph team. When filing the bug, set the verbosity to 10 (on Linux, `export AUTOGRAPH_VERBOSITY=10`) and attach the full output. Cause: converting <bound method Dense.call of <tensorflow.python.layers.core.Dense object at 0x7f2ad7474210>>: AssertionError: Bad argument number for Name: 3, expecting 4\n",
            "WARNING: Entity <bound method Dense.call of <tensorflow.python.layers.core.Dense object at 0x7f2ad454aad0>> could not be transformed and will be executed as-is. Please report this to the AutgoGraph team. When filing the bug, set the verbosity to 10 (on Linux, `export AUTOGRAPH_VERBOSITY=10`) and attach the full output. Cause: converting <bound method Dense.call of <tensorflow.python.layers.core.Dense object at 0x7f2ad454aad0>>: AssertionError: Bad argument number for Name: 3, expecting 4\n",
            "WARNING: Entity <bound method Dense.call of <tensorflow.python.layers.core.Dense object at 0x7f2ad6ed4ad0>> could not be transformed and will be executed as-is. Please report this to the AutgoGraph team. When filing the bug, set the verbosity to 10 (on Linux, `export AUTOGRAPH_VERBOSITY=10`) and attach the full output. Cause: converting <bound method Dense.call of <tensorflow.python.layers.core.Dense object at 0x7f2ad6ed4ad0>>: AssertionError: Bad argument number for Name: 3, expecting 4\n",
            "WARNING: Entity <bound method Dense.call of <tensorflow.python.layers.core.Dense object at 0x7f2acee525d0>> could not be transformed and will be executed as-is. Please report this to the AutgoGraph team. When filing the bug, set the verbosity to 10 (on Linux, `export AUTOGRAPH_VERBOSITY=10`) and attach the full output. Cause: converting <bound method Dense.call of <tensorflow.python.layers.core.Dense object at 0x7f2acee525d0>>: AssertionError: Bad argument number for Name: 3, expecting 4\n",
            "WARNING: Entity <bound method Dense.call of <tensorflow.python.layers.core.Dense object at 0x7f2acc8a2790>> could not be transformed and will be executed as-is. Please report this to the AutgoGraph team. When filing the bug, set the verbosity to 10 (on Linux, `export AUTOGRAPH_VERBOSITY=10`) and attach the full output. Cause: converting <bound method Dense.call of <tensorflow.python.layers.core.Dense object at 0x7f2acc8a2790>>: AssertionError: Bad argument number for Name: 3, expecting 4\n",
            "WARNING: Entity <bound method Dense.call of <tensorflow.python.layers.core.Dense object at 0x7f2acc8a2790>> could not be transformed and will be executed as-is. Please report this to the AutgoGraph team. When filing the bug, set the verbosity to 10 (on Linux, `export AUTOGRAPH_VERBOSITY=10`) and attach the full output. Cause: converting <bound method Dense.call of <tensorflow.python.layers.core.Dense object at 0x7f2acc8a2790>>: AssertionError: Bad argument number for Name: 3, expecting 4\n",
            "WARNING: Entity <bound method Dense.call of <tensorflow.python.layers.core.Dense object at 0x7f2acc8a2790>> could not be transformed and will be executed as-is. Please report this to the AutgoGraph team. When filing the bug, set the verbosity to 10 (on Linux, `export AUTOGRAPH_VERBOSITY=10`) and attach the full output. Cause: converting <bound method Dense.call of <tensorflow.python.layers.core.Dense object at 0x7f2acc8a2790>>: AssertionError: Bad argument number for Name: 3, expecting 4\n",
            "WARNING: Entity <bound method Dense.call of <tensorflow.python.layers.core.Dense object at 0x7f2aae4ac790>> could not be transformed and will be executed as-is. Please report this to the AutgoGraph team. When filing the bug, set the verbosity to 10 (on Linux, `export AUTOGRAPH_VERBOSITY=10`) and attach the full output. Cause: converting <bound method Dense.call of <tensorflow.python.layers.core.Dense object at 0x7f2aae4ac790>>: AssertionError: Bad argument number for Name: 3, expecting 4\n",
            "WARNING: Entity <bound method Dense.call of <tensorflow.python.layers.core.Dense object at 0x7f2ad6ed4ad0>> could not be transformed and will be executed as-is. Please report this to the AutgoGraph team. When filing the bug, set the verbosity to 10 (on Linux, `export AUTOGRAPH_VERBOSITY=10`) and attach the full output. Cause: converting <bound method Dense.call of <tensorflow.python.layers.core.Dense object at 0x7f2ad6ed4ad0>>: AssertionError: Bad argument number for Name: 3, expecting 4\n",
            "WARNING: Entity <bound method Dense.call of <tensorflow.python.layers.core.Dense object at 0x7f2acf94f9d0>> could not be transformed and will be executed as-is. Please report this to the AutgoGraph team. When filing the bug, set the verbosity to 10 (on Linux, `export AUTOGRAPH_VERBOSITY=10`) and attach the full output. Cause: converting <bound method Dense.call of <tensorflow.python.layers.core.Dense object at 0x7f2acf94f9d0>>: AssertionError: Bad argument number for Name: 3, expecting 4\n",
            "WARNING: Entity <bound method Dense.call of <tensorflow.python.layers.core.Dense object at 0x7f2ada37f890>> could not be transformed and will be executed as-is. Please report this to the AutgoGraph team. When filing the bug, set the verbosity to 10 (on Linux, `export AUTOGRAPH_VERBOSITY=10`) and attach the full output. Cause: converting <bound method Dense.call of <tensorflow.python.layers.core.Dense object at 0x7f2ada37f890>>: AssertionError: Bad argument number for Name: 3, expecting 4\n",
            "WARNING: Entity <bound method Dense.call of <tensorflow.python.layers.core.Dense object at 0x7f2ada37f890>> could not be transformed and will be executed as-is. Please report this to the AutgoGraph team. When filing the bug, set the verbosity to 10 (on Linux, `export AUTOGRAPH_VERBOSITY=10`) and attach the full output. Cause: converting <bound method Dense.call of <tensorflow.python.layers.core.Dense object at 0x7f2ada37f890>>: AssertionError: Bad argument number for Name: 3, expecting 4\n",
            "WARNING: Entity <bound method Dense.call of <tensorflow.python.layers.core.Dense object at 0x7f2ada37f890>> could not be transformed and will be executed as-is. Please report this to the AutgoGraph team. When filing the bug, set the verbosity to 10 (on Linux, `export AUTOGRAPH_VERBOSITY=10`) and attach the full output. Cause: converting <bound method Dense.call of <tensorflow.python.layers.core.Dense object at 0x7f2ada37f890>>: AssertionError: Bad argument number for Name: 3, expecting 4\n",
            "WARNING: Entity <bound method Dense.call of <tensorflow.python.layers.core.Dense object at 0x7f2ada37f490>> could not be transformed and will be executed as-is. Please report this to the AutgoGraph team. When filing the bug, set the verbosity to 10 (on Linux, `export AUTOGRAPH_VERBOSITY=10`) and attach the full output. Cause: converting <bound method Dense.call of <tensorflow.python.layers.core.Dense object at 0x7f2ada37f490>>: AssertionError: Bad argument number for Name: 3, expecting 4\n",
            "WARNING: Entity <bound method Dense.call of <tensorflow.python.layers.core.Dense object at 0x7f2ad6ed4ad0>> could not be transformed and will be executed as-is. Please report this to the AutgoGraph team. When filing the bug, set the verbosity to 10 (on Linux, `export AUTOGRAPH_VERBOSITY=10`) and attach the full output. Cause: converting <bound method Dense.call of <tensorflow.python.layers.core.Dense object at 0x7f2ad6ed4ad0>>: AssertionError: Bad argument number for Name: 3, expecting 4\n",
            "WARNING: Entity <bound method Dense.call of <tensorflow.python.layers.core.Dense object at 0x7f2aae422d90>> could not be transformed and will be executed as-is. Please report this to the AutgoGraph team. When filing the bug, set the verbosity to 10 (on Linux, `export AUTOGRAPH_VERBOSITY=10`) and attach the full output. Cause: converting <bound method Dense.call of <tensorflow.python.layers.core.Dense object at 0x7f2aae422d90>>: AssertionError: Bad argument number for Name: 3, expecting 4\n",
            "WARNING: Entity <bound method Dense.call of <tensorflow.python.layers.core.Dense object at 0x7f2aafacc710>> could not be transformed and will be executed as-is. Please report this to the AutgoGraph team. When filing the bug, set the verbosity to 10 (on Linux, `export AUTOGRAPH_VERBOSITY=10`) and attach the full output. Cause: converting <bound method Dense.call of <tensorflow.python.layers.core.Dense object at 0x7f2aafacc710>>: AssertionError: Bad argument number for Name: 3, expecting 4\n",
            "WARNING: Entity <bound method Dense.call of <tensorflow.python.layers.core.Dense object at 0x7f2aafacb310>> could not be transformed and will be executed as-is. Please report this to the AutgoGraph team. When filing the bug, set the verbosity to 10 (on Linux, `export AUTOGRAPH_VERBOSITY=10`) and attach the full output. Cause: converting <bound method Dense.call of <tensorflow.python.layers.core.Dense object at 0x7f2aafacb310>>: AssertionError: Bad argument number for Name: 3, expecting 4\n",
            "WARNING: Entity <bound method Dense.call of <tensorflow.python.layers.core.Dense object at 0x7f2aafacb310>> could not be transformed and will be executed as-is. Please report this to the AutgoGraph team. When filing the bug, set the verbosity to 10 (on Linux, `export AUTOGRAPH_VERBOSITY=10`) and attach the full output. Cause: converting <bound method Dense.call of <tensorflow.python.layers.core.Dense object at 0x7f2aafacb310>>: AssertionError: Bad argument number for Name: 3, expecting 4\n",
            "WARNING: Entity <bound method Dense.call of <tensorflow.python.layers.core.Dense object at 0x7f2adaa89b50>> could not be transformed and will be executed as-is. Please report this to the AutgoGraph team. When filing the bug, set the verbosity to 10 (on Linux, `export AUTOGRAPH_VERBOSITY=10`) and attach the full output. Cause: converting <bound method Dense.call of <tensorflow.python.layers.core.Dense object at 0x7f2adaa89b50>>: AssertionError: Bad argument number for Name: 3, expecting 4\n",
            "WARNING: Entity <bound method Dense.call of <tensorflow.python.layers.core.Dense object at 0x7f2ab5032bd0>> could not be transformed and will be executed as-is. Please report this to the AutgoGraph team. When filing the bug, set the verbosity to 10 (on Linux, `export AUTOGRAPH_VERBOSITY=10`) and attach the full output. Cause: converting <bound method Dense.call of <tensorflow.python.layers.core.Dense object at 0x7f2ab5032bd0>>: AssertionError: Bad argument number for Name: 3, expecting 4\n",
            "WARNING: Entity <bound method Dense.call of <tensorflow.python.layers.core.Dense object at 0x7f2ada37f490>> could not be transformed and will be executed as-is. Please report this to the AutgoGraph team. When filing the bug, set the verbosity to 10 (on Linux, `export AUTOGRAPH_VERBOSITY=10`) and attach the full output. Cause: converting <bound method Dense.call of <tensorflow.python.layers.core.Dense object at 0x7f2ada37f490>>: AssertionError: Bad argument number for Name: 3, expecting 4\n",
            "WARNING: Entity <bound method Dense.call of <tensorflow.python.layers.core.Dense object at 0x7f2ac50f5b50>> could not be transformed and will be executed as-is. Please report this to the AutgoGraph team. When filing the bug, set the verbosity to 10 (on Linux, `export AUTOGRAPH_VERBOSITY=10`) and attach the full output. Cause: converting <bound method Dense.call of <tensorflow.python.layers.core.Dense object at 0x7f2ac50f5b50>>: AssertionError: Bad argument number for Name: 3, expecting 4\n"
          ],
          "name": "stdout"
        },
        {
          "output_type": "error",
          "ename": "FileNotFoundError",
          "evalue": "ignored",
          "traceback": [
            "\u001b[0;31m---------------------------------------------------------------------------\u001b[0m",
            "\u001b[0;31mFileNotFoundError\u001b[0m                         Traceback (most recent call last)",
            "\u001b[0;32m<ipython-input-14-6b04ede9e219>\u001b[0m in \u001b[0;36m<module>\u001b[0;34m\u001b[0m\n\u001b[1;32m      8\u001b[0m \u001b[0mpred_y\u001b[0m \u001b[0;34m=\u001b[0m \u001b[0mrun_sosc\u001b[0m\u001b[0;34m.\u001b[0m\u001b[0mmain\u001b[0m\u001b[0;34m(\u001b[0m\u001b[0;34m)\u001b[0m\u001b[0;34m\u001b[0m\u001b[0;34m\u001b[0m\u001b[0m\n\u001b[1;32m      9\u001b[0m \u001b[0mdest\u001b[0m \u001b[0;34m=\u001b[0m \u001b[0mshutil\u001b[0m\u001b[0;34m.\u001b[0m\u001b[0mmove\u001b[0m\u001b[0;34m(\u001b[0m\u001b[0msource_dir\u001b[0m\u001b[0;34m,\u001b[0m \u001b[0mdes_dir\u001b[0m\u001b[0;34m,\u001b[0m \u001b[0mcopy_function\u001b[0m \u001b[0;34m=\u001b[0m \u001b[0mshutil\u001b[0m\u001b[0;34m.\u001b[0m\u001b[0mcopytree\u001b[0m\u001b[0;34m)\u001b[0m\u001b[0;34m\u001b[0m\u001b[0;34m\u001b[0m\u001b[0m\n\u001b[0;32m---> 10\u001b[0;31m \u001b[0mshutil\u001b[0m\u001b[0;34m.\u001b[0m\u001b[0mcopy2\u001b[0m\u001b[0;34m(\u001b[0m\u001b[0;34m'sosc_output/test_results.csv'\u001b[0m\u001b[0;34m,\u001b[0m \u001b[0mdest_file\u001b[0m\u001b[0;34m)\u001b[0m\u001b[0;34m\u001b[0m\u001b[0;34m\u001b[0m\u001b[0m\n\u001b[0m\u001b[1;32m     11\u001b[0m \u001b[0mprint\u001b[0m\u001b[0;34m(\u001b[0m\u001b[0;34m\"=========> Result has been copied to %s\"\u001b[0m \u001b[0;34m%\u001b[0m \u001b[0;34m(\u001b[0m\u001b[0mdest_file\u001b[0m\u001b[0;34m)\u001b[0m\u001b[0;34m)\u001b[0m\u001b[0;34m\u001b[0m\u001b[0;34m\u001b[0m\u001b[0m\n\u001b[1;32m     12\u001b[0m \u001b[0mshutil\u001b[0m\u001b[0;34m.\u001b[0m\u001b[0mrmtree\u001b[0m\u001b[0;34m(\u001b[0m\u001b[0;34m\"sosc_output/\"\u001b[0m\u001b[0;34m,\u001b[0m \u001b[0mignore_errors\u001b[0m\u001b[0;34m=\u001b[0m\u001b[0;32mTrue\u001b[0m\u001b[0;34m)\u001b[0m\u001b[0;34m\u001b[0m\u001b[0;34m\u001b[0m\u001b[0m\n",
            "\u001b[0;32m~/.conda/envs/sentiment_bert/lib/python3.7/shutil.py\u001b[0m in \u001b[0;36mcopy2\u001b[0;34m(src, dst, follow_symlinks)\u001b[0m\n\u001b[1;32m    264\u001b[0m     \u001b[0;32mif\u001b[0m \u001b[0mos\u001b[0m\u001b[0;34m.\u001b[0m\u001b[0mpath\u001b[0m\u001b[0;34m.\u001b[0m\u001b[0misdir\u001b[0m\u001b[0;34m(\u001b[0m\u001b[0mdst\u001b[0m\u001b[0;34m)\u001b[0m\u001b[0;34m:\u001b[0m\u001b[0;34m\u001b[0m\u001b[0;34m\u001b[0m\u001b[0m\n\u001b[1;32m    265\u001b[0m         \u001b[0mdst\u001b[0m \u001b[0;34m=\u001b[0m \u001b[0mos\u001b[0m\u001b[0;34m.\u001b[0m\u001b[0mpath\u001b[0m\u001b[0;34m.\u001b[0m\u001b[0mjoin\u001b[0m\u001b[0;34m(\u001b[0m\u001b[0mdst\u001b[0m\u001b[0;34m,\u001b[0m \u001b[0mos\u001b[0m\u001b[0;34m.\u001b[0m\u001b[0mpath\u001b[0m\u001b[0;34m.\u001b[0m\u001b[0mbasename\u001b[0m\u001b[0;34m(\u001b[0m\u001b[0msrc\u001b[0m\u001b[0;34m)\u001b[0m\u001b[0;34m)\u001b[0m\u001b[0;34m\u001b[0m\u001b[0;34m\u001b[0m\u001b[0m\n\u001b[0;32m--> 266\u001b[0;31m     \u001b[0mcopyfile\u001b[0m\u001b[0;34m(\u001b[0m\u001b[0msrc\u001b[0m\u001b[0;34m,\u001b[0m \u001b[0mdst\u001b[0m\u001b[0;34m,\u001b[0m \u001b[0mfollow_symlinks\u001b[0m\u001b[0;34m=\u001b[0m\u001b[0mfollow_symlinks\u001b[0m\u001b[0;34m)\u001b[0m\u001b[0;34m\u001b[0m\u001b[0;34m\u001b[0m\u001b[0m\n\u001b[0m\u001b[1;32m    267\u001b[0m     \u001b[0mcopystat\u001b[0m\u001b[0;34m(\u001b[0m\u001b[0msrc\u001b[0m\u001b[0;34m,\u001b[0m \u001b[0mdst\u001b[0m\u001b[0;34m,\u001b[0m \u001b[0mfollow_symlinks\u001b[0m\u001b[0;34m=\u001b[0m\u001b[0mfollow_symlinks\u001b[0m\u001b[0;34m)\u001b[0m\u001b[0;34m\u001b[0m\u001b[0;34m\u001b[0m\u001b[0m\n\u001b[1;32m    268\u001b[0m     \u001b[0;32mreturn\u001b[0m \u001b[0mdst\u001b[0m\u001b[0;34m\u001b[0m\u001b[0;34m\u001b[0m\u001b[0m\n",
            "\u001b[0;32m~/.conda/envs/sentiment_bert/lib/python3.7/shutil.py\u001b[0m in \u001b[0;36mcopyfile\u001b[0;34m(src, dst, follow_symlinks)\u001b[0m\n\u001b[1;32m    118\u001b[0m         \u001b[0mos\u001b[0m\u001b[0;34m.\u001b[0m\u001b[0msymlink\u001b[0m\u001b[0;34m(\u001b[0m\u001b[0mos\u001b[0m\u001b[0;34m.\u001b[0m\u001b[0mreadlink\u001b[0m\u001b[0;34m(\u001b[0m\u001b[0msrc\u001b[0m\u001b[0;34m)\u001b[0m\u001b[0;34m,\u001b[0m \u001b[0mdst\u001b[0m\u001b[0;34m)\u001b[0m\u001b[0;34m\u001b[0m\u001b[0;34m\u001b[0m\u001b[0m\n\u001b[1;32m    119\u001b[0m     \u001b[0;32melse\u001b[0m\u001b[0;34m:\u001b[0m\u001b[0;34m\u001b[0m\u001b[0;34m\u001b[0m\u001b[0m\n\u001b[0;32m--> 120\u001b[0;31m         \u001b[0;32mwith\u001b[0m \u001b[0mopen\u001b[0m\u001b[0;34m(\u001b[0m\u001b[0msrc\u001b[0m\u001b[0;34m,\u001b[0m \u001b[0;34m'rb'\u001b[0m\u001b[0;34m)\u001b[0m \u001b[0;32mas\u001b[0m \u001b[0mfsrc\u001b[0m\u001b[0;34m:\u001b[0m\u001b[0;34m\u001b[0m\u001b[0;34m\u001b[0m\u001b[0m\n\u001b[0m\u001b[1;32m    121\u001b[0m             \u001b[0;32mwith\u001b[0m \u001b[0mopen\u001b[0m\u001b[0;34m(\u001b[0m\u001b[0mdst\u001b[0m\u001b[0;34m,\u001b[0m \u001b[0;34m'wb'\u001b[0m\u001b[0;34m)\u001b[0m \u001b[0;32mas\u001b[0m \u001b[0mfdst\u001b[0m\u001b[0;34m:\u001b[0m\u001b[0;34m\u001b[0m\u001b[0;34m\u001b[0m\u001b[0m\n\u001b[1;32m    122\u001b[0m                 \u001b[0mcopyfileobj\u001b[0m\u001b[0;34m(\u001b[0m\u001b[0mfsrc\u001b[0m\u001b[0;34m,\u001b[0m \u001b[0mfdst\u001b[0m\u001b[0;34m)\u001b[0m\u001b[0;34m\u001b[0m\u001b[0;34m\u001b[0m\u001b[0m\n",
            "\u001b[0;31mFileNotFoundError\u001b[0m: [Errno 2] No such file or directory: 'sosc_output/test_results.csv'"
          ]
        }
      ]
    },
    {
      "cell_type": "markdown",
      "metadata": {
        "id": "wqo0frRtooGX"
      },
      "source": [
        "#### Metrics"
      ]
    },
    {
      "cell_type": "code",
      "metadata": {
        "id": "TwJZiAUyqpCF"
      },
      "source": [
        "from sklearn.metrics import accuracy_score, precision_score, recall_score, f1_score"
      ],
      "execution_count": null,
      "outputs": []
    },
    {
      "cell_type": "code",
      "metadata": {
        "colab": {
          "base_uri": "https://localhost:8080/"
        },
        "id": "18FTMPpZorZv",
        "outputId": "27a4c040-f95a-4663-e93c-62b54498f4c9"
      },
      "source": [
        "datasets = [\"DatasetSenti4SDSO\", \"OrtuJIRA\", \"GitHub\"]\n",
        "\n",
        "# dataset = datasets[0]\n",
        "input_file = \"/home/mdabdullahal.alamin/alamin/sentiment/cross_platform/final_output/combined.csv\"\n",
        "pred_file = '/home/mdabdullahal.alamin/alamin/sentiment/bert/output/out/twitter_cross_platform.csv' ### UPDATE when changed or rerunned\n",
        "\n",
        "def calc_metrics(dataset):\n",
        "  print(f'Dataset: {dataset}')\n",
        "  dataset = dataset.lower()\n",
        "  df_all = pd.read_csv(input_file, usecols=['id', 'dataset', 'text', 'oracle'], dtype={'oracle': str})\n",
        "  df_all = df_all[['id', 'text', 'oracle', 'dataset']]\n",
        "  df_all.loc[df_all.oracle == '0', 'oracle'] = 'Neutral'\n",
        "  df_all.loc[df_all.oracle == '-1', 'oracle'] = 'Negative'\n",
        "  df_all.loc[df_all.oracle == '1', 'oracle'] = 'Positive'\n",
        "  dataset_df = df_all[df_all['dataset'].astype(str).str.lower().str.contains(dataset)]\n",
        "\n",
        "  df_pred = pd.read_csv(pred_file, header=None, names=['id','oracle'], dtype={'oracle': str})\n",
        "  dataset_pred = df_pred[df_pred.id.isin(dataset_df.id)]\n",
        "\n",
        "  test_y = dataset_df['oracle']\n",
        "  pred_y = dataset_pred['oracle']\n",
        "  accuracy = accuracy_score(test_y, pred_y)\n",
        "  precision_micro = precision_score(test_y, pred_y, average = 'micro')\n",
        "  precision_macro = precision_score(test_y, pred_y, average = 'macro')\n",
        "  recall_micro = recall_score(test_y, pred_y, average = 'micro')\n",
        "  recall_macro = recall_score(test_y, pred_y, average = 'macro')\n",
        "  f1score_micro = f1_score(test_y, pred_y, average = 'micro')\n",
        "  f1score_macro = f1_score(test_y, pred_y, average = 'macro')\n",
        "  print(\"Accuracy: %.3f, Precision (Macro): %.3f, Recall (Macro): %.3f, F1 score (Micro): %.3f, F1 score (Macro): %.3f\" % (accuracy, precision_macro, recall_macro, f1score_micro, f1score_macro))\n",
        "\n",
        "for dataset in datasets:\n",
        "  calc_metrics(dataset)"
      ],
      "execution_count": null,
      "outputs": [
        {
          "output_type": "stream",
          "text": [
            "Dataset: DatasetSenti4SDSO\n",
            "Accuracy: 0.649, Precision (Macro): 0.729, Recall (Macro): 0.679, F1 score (Micro): 0.649, F1 score (Macro): 0.652\n",
            "Dataset: OrtuJIRA\n",
            "Accuracy: 0.554, Precision (Macro): 0.607, Recall (Macro): 0.676, F1 score (Micro): 0.554, F1 score (Macro): 0.567\n",
            "Dataset: GitHub\n",
            "Accuracy: 0.509, Precision (Macro): 0.641, Recall (Macro): 0.547, F1 score (Micro): 0.509, F1 score (Macro): 0.514\n"
          ],
          "name": "stdout"
        }
      ]
    },
    {
      "cell_type": "markdown",
      "metadata": {
        "id": "iHHW5AG3biaz"
      },
      "source": [
        "## Graphs"
      ]
    },
    {
      "cell_type": "code",
      "metadata": {
        "id": "f_7EW1JacCzS"
      },
      "source": [
        "%matplotlib inline\n",
        "import matplotlib.pyplot as plt\n",
        "import pandas as pd\n",
        "import numpy as np\n"
      ],
      "execution_count": null,
      "outputs": []
    },
    {
      "cell_type": "code",
      "metadata": {
        "id": "iQxZW7lQcIgq"
      },
      "source": [
        "moji_dir = '/home/mdabdullahal.alamin/alamin/sentiment/sentimoji/output/out'\n",
        "bert_dir = '/home/mdabdullahal.alamin/alamin/sentiment/bert/output/out'\n",
        "fig_dir = '/home/mdabdullahal.alamin/alamin/sentiment/res'\n",
        "FIG_EXT = '.pdf'\n",
        "file_github = '/github_learning_curve.csv'\n",
        "file_so = '/datasetsenti4sdso_learning_curve.csv'\n",
        "file_jira = '/ortujira_learning_curve.csv'\n",
        "itr_github = 356\n",
        "itr_so = 221\n",
        "itr_jira = 293"
      ],
      "execution_count": null,
      "outputs": []
    },
    {
      "cell_type": "code",
      "metadata": {
        "id": "086NDOltbk0d"
      },
      "source": [
        "github_moji = pd.read_csv(moji_dir + file_github)\n",
        "github_bert = pd.read_csv(bert_dir + file_github)"
      ],
      "execution_count": null,
      "outputs": []
    },
    {
      "cell_type": "code",
      "metadata": {
        "colab": {
          "base_uri": "https://localhost:8080/",
          "height": 489
        },
        "id": "Sr6mW_VTeWo9",
        "outputId": "1bd2ce85-487a-4b31-f40f-ba42616799d3"
      },
      "source": [
        "columns = ['iteration', 'f1_macro']\n",
        "temp = github_moji[columns].join(github_bert[columns], lsuffix='_moji', rsuffix='_bert')\n",
        "temp['training_set'] = temp['iteration_moji'] * itr_github\n",
        "temp"
      ],
      "execution_count": null,
      "outputs": [
        {
          "output_type": "execute_result",
          "data": {
            "text/plain": [
              "    iteration_moji  f1_macro_moji  iteration_bert  f1_macro_bert  training_set\n",
              "0                1       0.789147               1       0.495605           356\n",
              "1                2       0.844161               2       0.854726           712\n",
              "2                3       0.862589               3       0.875997          1068\n",
              "3                4       0.876006               4       0.899030          1424\n",
              "4                5       0.877224               5       0.903542          1780\n",
              "5                6       0.889880               6       0.905533          2136\n",
              "6                7       0.895429               7       0.910555          2492\n",
              "7                8       0.889813               8       0.920875          2848\n",
              "8                9       0.901886               9       0.912816          3204\n",
              "9               10       0.901182              10       0.922929          3560\n",
              "10              11       0.899219              11       0.916777          3916\n",
              "11              12       0.903357              12       0.919155          4272\n",
              "12              13       0.907176              13       0.928252          4628\n",
              "13              14       0.903463              14       0.923589          4984"
            ],
            "text/html": [
              "<div>\n",
              "<style scoped>\n",
              "    .dataframe tbody tr th:only-of-type {\n",
              "        vertical-align: middle;\n",
              "    }\n",
              "\n",
              "    .dataframe tbody tr th {\n",
              "        vertical-align: top;\n",
              "    }\n",
              "\n",
              "    .dataframe thead th {\n",
              "        text-align: right;\n",
              "    }\n",
              "</style>\n",
              "<table border=\"1\" class=\"dataframe\">\n",
              "  <thead>\n",
              "    <tr style=\"text-align: right;\">\n",
              "      <th></th>\n",
              "      <th>iteration_moji</th>\n",
              "      <th>f1_macro_moji</th>\n",
              "      <th>iteration_bert</th>\n",
              "      <th>f1_macro_bert</th>\n",
              "      <th>training_set</th>\n",
              "    </tr>\n",
              "  </thead>\n",
              "  <tbody>\n",
              "    <tr>\n",
              "      <th>0</th>\n",
              "      <td>1</td>\n",
              "      <td>0.789147</td>\n",
              "      <td>1</td>\n",
              "      <td>0.495605</td>\n",
              "      <td>356</td>\n",
              "    </tr>\n",
              "    <tr>\n",
              "      <th>1</th>\n",
              "      <td>2</td>\n",
              "      <td>0.844161</td>\n",
              "      <td>2</td>\n",
              "      <td>0.854726</td>\n",
              "      <td>712</td>\n",
              "    </tr>\n",
              "    <tr>\n",
              "      <th>2</th>\n",
              "      <td>3</td>\n",
              "      <td>0.862589</td>\n",
              "      <td>3</td>\n",
              "      <td>0.875997</td>\n",
              "      <td>1068</td>\n",
              "    </tr>\n",
              "    <tr>\n",
              "      <th>3</th>\n",
              "      <td>4</td>\n",
              "      <td>0.876006</td>\n",
              "      <td>4</td>\n",
              "      <td>0.899030</td>\n",
              "      <td>1424</td>\n",
              "    </tr>\n",
              "    <tr>\n",
              "      <th>4</th>\n",
              "      <td>5</td>\n",
              "      <td>0.877224</td>\n",
              "      <td>5</td>\n",
              "      <td>0.903542</td>\n",
              "      <td>1780</td>\n",
              "    </tr>\n",
              "    <tr>\n",
              "      <th>5</th>\n",
              "      <td>6</td>\n",
              "      <td>0.889880</td>\n",
              "      <td>6</td>\n",
              "      <td>0.905533</td>\n",
              "      <td>2136</td>\n",
              "    </tr>\n",
              "    <tr>\n",
              "      <th>6</th>\n",
              "      <td>7</td>\n",
              "      <td>0.895429</td>\n",
              "      <td>7</td>\n",
              "      <td>0.910555</td>\n",
              "      <td>2492</td>\n",
              "    </tr>\n",
              "    <tr>\n",
              "      <th>7</th>\n",
              "      <td>8</td>\n",
              "      <td>0.889813</td>\n",
              "      <td>8</td>\n",
              "      <td>0.920875</td>\n",
              "      <td>2848</td>\n",
              "    </tr>\n",
              "    <tr>\n",
              "      <th>8</th>\n",
              "      <td>9</td>\n",
              "      <td>0.901886</td>\n",
              "      <td>9</td>\n",
              "      <td>0.912816</td>\n",
              "      <td>3204</td>\n",
              "    </tr>\n",
              "    <tr>\n",
              "      <th>9</th>\n",
              "      <td>10</td>\n",
              "      <td>0.901182</td>\n",
              "      <td>10</td>\n",
              "      <td>0.922929</td>\n",
              "      <td>3560</td>\n",
              "    </tr>\n",
              "    <tr>\n",
              "      <th>10</th>\n",
              "      <td>11</td>\n",
              "      <td>0.899219</td>\n",
              "      <td>11</td>\n",
              "      <td>0.916777</td>\n",
              "      <td>3916</td>\n",
              "    </tr>\n",
              "    <tr>\n",
              "      <th>11</th>\n",
              "      <td>12</td>\n",
              "      <td>0.903357</td>\n",
              "      <td>12</td>\n",
              "      <td>0.919155</td>\n",
              "      <td>4272</td>\n",
              "    </tr>\n",
              "    <tr>\n",
              "      <th>12</th>\n",
              "      <td>13</td>\n",
              "      <td>0.907176</td>\n",
              "      <td>13</td>\n",
              "      <td>0.928252</td>\n",
              "      <td>4628</td>\n",
              "    </tr>\n",
              "    <tr>\n",
              "      <th>13</th>\n",
              "      <td>14</td>\n",
              "      <td>0.903463</td>\n",
              "      <td>14</td>\n",
              "      <td>0.923589</td>\n",
              "      <td>4984</td>\n",
              "    </tr>\n",
              "  </tbody>\n",
              "</table>\n",
              "</div>"
            ]
          },
          "metadata": {
            "tags": []
          },
          "execution_count": 4
        }
      ]
    },
    {
      "cell_type": "code",
      "metadata": {
        "colab": {
          "base_uri": "https://localhost:8080/",
          "height": 269
        },
        "id": "mu0pXO5liILF",
        "outputId": "9131f203-af5a-46f3-ebb0-d78a50afc1d2"
      },
      "source": [
        "fig, ax = plt.subplots(figsize=(8,4))\n",
        "\n",
        "temp_fig = temp[['training_set', 'f1_macro_moji', 'f1_macro_bert']].set_index('training_set') \n",
        "ax = temp_fig['f1_macro_moji'].plot.line(ax=ax, linestyle='-', marker='o')\n",
        "ax = temp_fig['f1_macro_bert'].plot.line(ax=ax, linestyle='-', marker='^')\n",
        "ax.set_xticks(temp['training_set'])\n",
        "ax.set_yticks(np.arange(min(ax.get_yticks())+0.05, max(ax.get_yticks()), 0.05))\n",
        "ax.legend(['SentiMoji', 'BERT4SentiSE'],loc='lower right')\n",
        "ax.set_xlabel('')\n",
        "ax.set_ylabel('Macro f1 score', fontsize=14)\n",
        "\n",
        "plt.savefig(fig_dir+'/github_learning_curve'+FIG_EXT, bbox_inches='tight')"
      ],
      "execution_count": null,
      "outputs": [
        {
          "output_type": "display_data",
          "data": {
            "text/plain": [
              "<Figure size 576x288 with 1 Axes>"
            ],
            "image/png": "[encoded data removed]"
          },
          "metadata": {
            "tags": [],
            "needs_background": "light"
          }
        }
      ]
    },
    {
      "cell_type": "code",
      "metadata": {
        "id": "WS6WpmA1nuqZ"
      },
      "source": [
        "def draw_curve(file_name, itr_count):\n",
        "  so_moji = pd.read_csv(moji_dir + file_name)\n",
        "  so_bert = pd.read_csv(bert_dir + file_name)\n",
        "  temp = so_moji[columns].join(so_bert[columns], lsuffix='_moji', rsuffix='_bert')\n",
        "  temp['training_set'] = temp['iteration_moji'] * itr_count\n",
        "  temp_fig = temp[['training_set', 'f1_macro_moji', 'f1_macro_bert']].set_index('training_set') \n",
        "  fig, ax = plt.subplots(figsize=(8,3.5))\n",
        "  ax = temp_fig['f1_macro_moji'].plot.line(ax=ax, linestyle='-', marker='o')\n",
        "  ax = temp_fig['f1_macro_bert'].plot.line(ax=ax, linestyle='-', marker='^')\n",
        "  ax.set_xticks(temp['training_set'])\n",
        "  ax.set_yticks(np.arange(min(ax.get_yticks()), max(ax.get_yticks()), 0.05))\n",
        "  ax.legend(['SentiMoji', 'BERT4SentiSE'],loc='lower right')\n",
        "  ax.set_xlabel('')\n",
        "  ax.set_ylabel('Macro f1 score', fontsize=14)"
      ],
      "execution_count": null,
      "outputs": []
    },
    {
      "cell_type": "code",
      "metadata": {
        "colab": {
          "base_uri": "https://localhost:8080/",
          "height": 242
        },
        "id": "yDFXLQJpkZ9X",
        "outputId": "2985dd87-e608-414b-89b2-3f6d85782d6e"
      },
      "source": [
        "draw_curve(file_so, itr_so)\n",
        "plt.savefig(fig_dir+'/so_learning_curve'+FIG_EXT, bbox_inches='tight')"
      ],
      "execution_count": null,
      "outputs": [
        {
          "output_type": "display_data",
          "data": {
            "text/plain": [
              "<Figure size 576x252 with 1 Axes>"
            ],
            "image/png": "[encoded data removed]"
          },
          "metadata": {
            "tags": [],
            "needs_background": "light"
          }
        }
      ]
    },
    {
      "cell_type": "code",
      "metadata": {
        "colab": {
          "base_uri": "https://localhost:8080/",
          "height": 238
        },
        "id": "3wRfKCUKohFE",
        "outputId": "2992705f-3926-4a58-e130-39fedbc969fd"
      },
      "source": [
        "draw_curve(file_jira, itr_jira)\n",
        "plt.savefig(fig_dir+'/jira_learning_curve'+FIG_EXT, bbox_inches='tight')"
      ],
      "execution_count": null,
      "outputs": [
        {
          "output_type": "display_data",
          "data": {
            "text/plain": [
              "<Figure size 576x252 with 1 Axes>"
            ],
            "image/png": "[encoded data removed]"
          },
          "metadata": {
            "tags": [],
            "needs_background": "light"
          }
        }
      ]
    }
  ]
}