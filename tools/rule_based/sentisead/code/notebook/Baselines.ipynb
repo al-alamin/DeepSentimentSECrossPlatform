{
 "cells": [
  {
   "cell_type": "code",
   "execution_count": 1,
   "metadata": {},
   "outputs": [],
   "source": [
    "from __future__ import division\n",
    "%load_ext autoreload\n",
    "%autoreload 2\n",
    "from django.conf import settings\n",
    "import cPickle as pickle\n",
    "import csv\n",
    "import os\n",
    "import sys\n",
    "import numpy as np\n",
    "import pandas as pd\n",
    "sys.path.append('c:\\dev\\opinion\\opinion\\python\\opinion')\n",
    "import utils.fileutils as fileutils\n",
    "import utils.metrics as metrics\n",
    "import nltk"
   ]
  },
  {
   "cell_type": "code",
   "execution_count": 2,
   "metadata": {},
   "outputs": [],
   "source": [
    "def computePerformanceOverallOfLearner(learnerCol, infile, filenames):\n",
    "        #infile = os.path.join(dirConsolidated, \"ResultsConsolidated_\"+algo+\".xls\")\n",
    "        df = fileutils.readExcel(infile, \"Sheet1\", encoding=\"ISO-8859-1\")\n",
    "        exps = []\n",
    "        gots = []\n",
    "        labels = set()\n",
    "        for index, row in df.iterrows():\n",
    "            fname = row[\"File\"]\n",
    "            fname = fname.split(\"_\")[0]\n",
    "            if fname not in filenames:\n",
    "                #print fname, \" not in filenmaes\"\n",
    "                #return\n",
    "                continue\n",
    "            else:\n",
    "                exp = row[\"ManualLabel\"]\n",
    "                got = row[learnerCol]\n",
    "                labels.add(exp)\n",
    "                exps.append(exp)\n",
    "                gots.append(got)\n",
    "        computer = metrics.PerformanceMultiClass(exps, gots, labels = list(labels))\n",
    "        for label in labels:\n",
    "            pr = computer.precision(label)\n",
    "            re = computer.recall(label)\n",
    "            f1 = 2*pr*re/(pr+re)\n",
    "            print \"Label = %s. Precision = %.3f. Recall = %.3f. F1 = %.3f\"%(label, pr, re, f1)\n",
    "        f1_macro = computer.f1_macro_average()\n",
    "        pr_macro = computer.precision_macro_average()\n",
    "        rec_macro = computer.recall_macro_average()\n",
    "        f1_micro, _, _ = computer.compute_micro_average()\n",
    "        print \"F1 Macro = %.3f. Micro = %.3f\"%(f1_macro, f1_micro)\n",
    "        print \"Macro Precision = %.3f. Recall = %.3f\"%(pr_macro, rec_macro)\n",
    "        print \"-------------------------------\"\n",
    "\n",
    "\n",
    "def computePerformancOfLearner(learnerCol, infile, filenames):\n",
    "        #infile = os.path.join(dirConsolidated, \"ResultsConsolidated_\"+algo+\".xls\")\n",
    "        df = fileutils.readExcel(infile, \"Sheet1\", encoding=\"ISO-8859-1\")\n",
    "        \n",
    "        \n",
    "        exps = dict()\n",
    "        gots = dict()\n",
    "        labels = dict()\n",
    "        for index, row in df.iterrows():\n",
    "            fname = row[\"File\"]\n",
    "            fname = fname.split(\"_\")[0]\n",
    "            if fname not in filenames:\n",
    "                #print fname, \" not in filenmaes\"\n",
    "                continue\n",
    "            else:\n",
    "                if fname not in exps:\n",
    "                    exps[fname] = []\n",
    "                    gots[fname] = []\n",
    "                    labels[fname] = set()\n",
    "            exp = row[\"ManualLabel\"]\n",
    "            got = row[learnerCol]\n",
    "            labels[fname].add(exp)\n",
    "            exps[fname].append(exp)\n",
    "            gots[fname].append(got)\n",
    "        for fname in filenames:\n",
    "            computer = metrics.PerformanceMultiClass(exps[fname], gots[fname], labels = list(labels[fname]))\n",
    "            for label in labels[fname]:\n",
    "                pr = computer.precision(label)\n",
    "                re = computer.recall(label)\n",
    "                f1 = 2*pr*re/(pr+re)\n",
    "                print \"File %s. Label = %s. Precision = %.3f. Recall = %.3f. F1 = %.3f\"%(fname, label, pr, re, f1)\n",
    "            f1_macro = computer.f1_macro_average()\n",
    "            f1_micro, _, _ = computer.compute_micro_average()\n",
    "            print \"File = %s. F1 Macro = %.3f. Micro = %.3f\"%(fname, f1_macro, f1_micro)\n",
    "            print \"-------------------------------\""
   ]
  },
  {
   "cell_type": "code",
   "execution_count": 3,
   "metadata": {},
   "outputs": [],
   "source": [
    "indir = r\"C:\\dev\\opinion\\papers\\sentiplus\\Hybrid\"\n",
    "infile = os.path.join(indir, \"ConsolidatedWithBestTrainedClfsFromThreeSETools.xls\")"
   ]
  },
  {
   "cell_type": "code",
   "execution_count": 4,
   "metadata": {},
   "outputs": [],
   "source": [
    "filenames = [\"DatasetLinJIRA\", \n",
    "             \"BenchmarkUddinSO\", \"DatasetLinAppReviews\", \n",
    "                     \"DatasetLinSO\", \"DatasetSenti4SDSO\", \"OrtuJIRA\"]"
   ]
  },
  {
   "cell_type": "code",
   "execution_count": 30,
   "metadata": {},
   "outputs": [
    {
     "name": "stdout",
     "output_type": "stream",
     "text": [
      "Label = p. Precision = 0.803. Recall = 0.667. F1 = 0.728\n",
      "Label = o. Precision = 0.767. Recall = 0.903. F1 = 0.830\n",
      "Label = n. Precision = 0.804. Recall = 0.599. F1 = 0.687\n",
      "F1 Macro = 0.756. Micro = 0.780\n",
      "Macro Precision = 0.791. Recall = 0.723\n",
      "-------------------------------\n"
     ]
    }
   ],
   "source": [
    "learnerCol = \"SentiCR\"\n",
    "computePerformanceOverallOfLearner(learnerCol, infile, filenames)"
   ]
  },
  {
   "cell_type": "code",
   "execution_count": 31,
   "metadata": {},
   "outputs": [
    {
     "name": "stdout",
     "output_type": "stream",
     "text": [
      "File DatasetLinJIRA. Label = p. Precision = 0.972. Recall = 0.841. F1 = 0.902\n",
      "File DatasetLinJIRA. Label = n. Precision = 0.932. Recall = 0.989. F1 = 0.960\n",
      "File = DatasetLinJIRA. F1 Macro = 0.933. Micro = 0.943\n",
      "-------------------------------\n",
      "File BenchmarkUddinSO. Label = p. Precision = 0.468. Recall = 0.149. F1 = 0.226\n",
      "File BenchmarkUddinSO. Label = o. Precision = 0.620. Recall = 0.907. F1 = 0.736\n",
      "File BenchmarkUddinSO. Label = n. Precision = 0.423. Recall = 0.167. F1 = 0.239\n",
      "File = BenchmarkUddinSO. F1 Macro = 0.451. Micro = 0.594\n",
      "-------------------------------\n",
      "File DatasetLinAppReviews. Label = p. Precision = 0.801. Recall = 0.909. F1 = 0.851\n",
      "File DatasetLinAppReviews. Label = o. Precision = 0.071. Recall = 0.040. F1 = 0.051\n",
      "File DatasetLinAppReviews. Label = n. Precision = 0.819. Recall = 0.731. F1 = 0.772\n",
      "File = DatasetLinAppReviews. F1 Macro = 0.562. Micro = 0.777\n",
      "-------------------------------\n",
      "File DatasetLinSO. Label = p. Precision = 0.526. Recall = 0.305. F1 = 0.386\n",
      "File DatasetLinSO. Label = o. Precision = 0.854. Recall = 0.946. F1 = 0.898\n",
      "File DatasetLinSO. Label = n. Precision = 0.606. Recall = 0.354. F1 = 0.447\n",
      "File = DatasetLinSO. F1 Macro = 0.592. Micro = 0.820\n",
      "-------------------------------\n",
      "File DatasetSenti4SDSO. Label = p. Precision = 0.871. Recall = 0.914. F1 = 0.892\n",
      "File DatasetSenti4SDSO. Label = o. Precision = 0.780. Recall = 0.841. F1 = 0.809\n",
      "File DatasetSenti4SDSO. Label = n. Precision = 0.835. Recall = 0.690. F1 = 0.755\n",
      "File = DatasetSenti4SDSO. F1 Macro = 0.822. Micro = 0.825\n",
      "-------------------------------\n",
      "File OrtuJIRA. Label = p. Precision = 0.786. Recall = 0.770. F1 = 0.778\n",
      "File OrtuJIRA. Label = o. Precision = 0.872. Recall = 0.920. F1 = 0.896\n",
      "File OrtuJIRA. Label = n. Precision = 0.853. Recall = 0.641. F1 = 0.732\n",
      "File = OrtuJIRA. F1 Macro = 0.806. Micro = 0.854\n",
      "-------------------------------\n"
     ]
    }
   ],
   "source": [
    "learnerCol = \"SentiCR\"\n",
    "computePerformancOfLearner(learnerCol, infile, filenames)"
   ]
  },
  {
   "cell_type": "code",
   "execution_count": 32,
   "metadata": {},
   "outputs": [
    {
     "name": "stdout",
     "output_type": "stream",
     "text": [
      "Label = p. Precision = 0.773. Recall = 0.692. F1 = 0.731\n",
      "Label = o. Precision = 0.783. Recall = 0.865. F1 = 0.822\n",
      "Label = n. Precision = 0.748. Recall = 0.640. F1 = 0.690\n",
      "F1 Macro = 0.750. Micro = 0.774\n",
      "Macro Precision = 0.768. Recall = 0.732\n",
      "-------------------------------\n"
     ]
    }
   ],
   "source": [
    "learnerCol = \"Senti4SD\"\n",
    "computePerformanceOverallOfLearner(learnerCol, infile, filenames)"
   ]
  },
  {
   "cell_type": "code",
   "execution_count": 33,
   "metadata": {},
   "outputs": [
    {
     "name": "stdout",
     "output_type": "stream",
     "text": [
      "File DatasetLinJIRA. Label = p. Precision = 0.913. Recall = 0.941. F1 = 0.927\n",
      "File DatasetLinJIRA. Label = n. Precision = 0.973. Recall = 0.959. F1 = 0.966\n",
      "File = DatasetLinJIRA. F1 Macro = 0.947. Micro = 0.954\n",
      "-------------------------------\n",
      "File BenchmarkUddinSO. Label = p. Precision = 0.477. Recall = 0.295. F1 = 0.364\n",
      "File BenchmarkUddinSO. Label = o. Precision = 0.665. Recall = 0.853. F1 = 0.747\n",
      "File BenchmarkUddinSO. Label = n. Precision = 0.459. Recall = 0.269. F1 = 0.340\n",
      "File = BenchmarkUddinSO. F1 Macro = 0.501. Micro = 0.615\n",
      "-------------------------------\n",
      "File DatasetLinAppReviews. Label = p. Precision = 0.826. Recall = 0.892. F1 = 0.858\n",
      "File DatasetLinAppReviews. Label = o. Precision = 0.000. Recall = 0.000. F1 = nan\n",
      "File DatasetLinAppReviews. Label = n. Precision = 0.777. Recall = 0.831. F1 = 0.803\n",
      "File = DatasetLinAppReviews. F1 Macro = 0.554. Micro = 0.804\n",
      "-------------------------------\n",
      "File DatasetLinSO. Label = p. Precision = 0.556. Recall = 0.229. F1 = 0.324\n",
      "File DatasetLinSO. Label = o. Precision = 0.858. Recall = 0.954. F1 = 0.903\n",
      "File DatasetLinSO. Label = n. Precision = 0.549. Recall = 0.376. F1 = 0.447\n",
      "File = DatasetLinSO. F1 Macro = 0.579. Micro = 0.822\n",
      "-------------------------------\n",
      "File DatasetSenti4SDSO. Label = p. Precision = 0.896. Recall = 0.916. F1 = 0.906\n",
      "File DatasetSenti4SDSO. Label = o. Precision = 0.822. Recall = 0.776. F1 = 0.798\n",
      "File DatasetSenti4SDSO. Label = n. Precision = 0.785. Recall = 0.824. F1 = 0.804\n",
      "File = DatasetSenti4SDSO. F1 Macro = 0.836. Micro = 0.837\n",
      "-------------------------------\n",
      "File OrtuJIRA. Label = p. Precision = 0.737. Recall = 0.715. F1 = 0.726\n",
      "File OrtuJIRA. Label = o. Precision = 0.840. Recall = 0.890. F1 = 0.864\n",
      "File OrtuJIRA. Label = n. Precision = 0.703. Recall = 0.523. F1 = 0.600\n",
      "File = OrtuJIRA. F1 Macro = 0.734. Micro = 0.807\n",
      "-------------------------------\n"
     ]
    },
    {
     "name": "stderr",
     "output_type": "stream",
     "text": [
      "C:\\anaconda3\\envs\\opinion2\\lib\\site-packages\\ipykernel_launcher.py:64: RuntimeWarning: invalid value encountered in double_scalars\n"
     ]
    }
   ],
   "source": [
    "learnerCol = \"Senti4SD\"\n",
    "computePerformancOfLearner(learnerCol, infile, filenames)"
   ]
  },
  {
   "cell_type": "code",
   "execution_count": 34,
   "metadata": {},
   "outputs": [
    {
     "name": "stdout",
     "output_type": "stream",
     "text": [
      "Label = p. Precision = 0.752. Recall = 0.690. F1 = 0.720\n",
      "Label = o. Precision = 0.750. Recall = 0.847. F1 = 0.795\n",
      "Label = n. Precision = 0.736. Recall = 0.566. F1 = 0.640\n",
      "F1 Macro = 0.723. Micro = 0.748\n",
      "Macro Precision = 0.746. Recall = 0.701\n",
      "-------------------------------\n"
     ]
    }
   ],
   "source": [
    "learnerCol = \"SentistrengthSE\"\n",
    "computePerformanceOverallOfLearner(learnerCol, infile, filenames)"
   ]
  },
  {
   "cell_type": "code",
   "execution_count": 35,
   "metadata": {},
   "outputs": [
    {
     "name": "stdout",
     "output_type": "stream",
     "text": [
      "File DatasetLinJIRA. Label = p. Precision = 0.954. Recall = 0.993. F1 = 0.973\n",
      "File DatasetLinJIRA. Label = n. Precision = 0.996. Recall = 0.972. F1 = 0.984\n",
      "File = DatasetLinJIRA. F1 Macro = 0.979. Micro = 0.980\n",
      "-------------------------------\n",
      "File BenchmarkUddinSO. Label = p. Precision = 0.487. Recall = 0.224. F1 = 0.307\n",
      "File BenchmarkUddinSO. Label = o. Precision = 0.629. Recall = 0.893. F1 = 0.738\n",
      "File BenchmarkUddinSO. Label = n. Precision = 0.430. Recall = 0.153. F1 = 0.225\n",
      "File = BenchmarkUddinSO. F1 Macro = 0.465. Micro = 0.601\n",
      "-------------------------------\n",
      "File DatasetLinAppReviews. Label = p. Precision = 0.741. Recall = 0.817. F1 = 0.777\n",
      "File DatasetLinAppReviews. Label = o. Precision = 0.106. Recall = 0.400. F1 = 0.168\n",
      "File DatasetLinAppReviews. Label = n. Precision = 0.929. Recall = 0.300. F1 = 0.453\n",
      "File = DatasetLinAppReviews. F1 Macro = 0.546. Micro = 0.589\n",
      "-------------------------------\n",
      "File DatasetLinSO. Label = p. Precision = 0.312. Recall = 0.221. F1 = 0.259\n",
      "File DatasetLinSO. Label = o. Precision = 0.824. Recall = 0.929. F1 = 0.873\n",
      "File DatasetLinSO. Label = n. Precision = 0.492. Recall = 0.180. F1 = 0.263\n",
      "File = DatasetLinSO. F1 Macro = 0.488. Micro = 0.778\n",
      "-------------------------------\n",
      "File DatasetSenti4SDSO. Label = p. Precision = 0.908. Recall = 0.821. F1 = 0.862\n",
      "File DatasetSenti4SDSO. Label = o. Precision = 0.725. Recall = 0.786. F1 = 0.754\n",
      "File DatasetSenti4SDSO. Label = n. Precision = 0.756. Recall = 0.759. F1 = 0.757\n",
      "File = DatasetSenti4SDSO. F1 Macro = 0.792. Micro = 0.791\n",
      "-------------------------------\n",
      "File OrtuJIRA. Label = p. Precision = 0.685. Recall = 0.918. F1 = 0.785\n",
      "File OrtuJIRA. Label = o. Precision = 0.921. Recall = 0.819. F1 = 0.867\n",
      "File OrtuJIRA. Label = n. Precision = 0.683. Recall = 0.730. F1 = 0.706\n",
      "File = OrtuJIRA. F1 Macro = 0.792. Micro = 0.826\n",
      "-------------------------------\n"
     ]
    }
   ],
   "source": [
    "learnerCol = \"SentistrengthSE\"\n",
    "computePerformancOfLearner(learnerCol, infile, filenames)"
   ]
  },
  {
   "cell_type": "code",
   "execution_count": 36,
   "metadata": {},
   "outputs": [
    {
     "name": "stdout",
     "output_type": "stream",
     "text": [
      "Label = p. Precision = 0.799. Recall = 0.691. F1 = 0.741\n",
      "Label = o. Precision = 0.793. Recall = 0.872. F1 = 0.831\n",
      "Label = n. Precision = 0.749. Recall = 0.678. F1 = 0.712\n",
      "F1 Macro = 0.763. Micro = 0.786\n",
      "Macro Precision = 0.780. Recall = 0.747\n",
      "-------------------------------\n"
     ]
    }
   ],
   "source": [
    "learnerCol = \"DSOSE\"\n",
    "computePerformanceOverallOfLearner(learnerCol, infile, filenames)"
   ]
  },
  {
   "cell_type": "code",
   "execution_count": 37,
   "metadata": {},
   "outputs": [
    {
     "name": "stdout",
     "output_type": "stream",
     "text": [
      "File DatasetLinJIRA. Label = p. Precision = 0.966. Recall = 0.890. F1 = 0.926\n",
      "File DatasetLinJIRA. Label = n. Precision = 0.951. Recall = 0.986. F1 = 0.968\n",
      "File = DatasetLinJIRA. F1 Macro = 0.948. Micro = 0.956\n",
      "-------------------------------\n",
      "File BenchmarkUddinSO. Label = p. Precision = 0.490. Recall = 0.252. F1 = 0.333\n",
      "File BenchmarkUddinSO. Label = o. Precision = 0.659. Recall = 0.862. F1 = 0.747\n",
      "File BenchmarkUddinSO. Label = n. Precision = 0.487. Recall = 0.312. F1 = 0.381\n",
      "File = BenchmarkUddinSO. F1 Macro = 0.508. Micro = 0.619\n",
      "-------------------------------\n",
      "File DatasetLinAppReviews. Label = p. Precision = 0.814. Recall = 0.941. F1 = 0.873\n",
      "File DatasetLinAppReviews. Label = o. Precision = 0.000. Recall = 0.000. F1 = nan\n",
      "File DatasetLinAppReviews. Label = n. Precision = 0.848. Recall = 0.815. F1 = 0.831\n",
      "File = DatasetLinAppReviews. F1 Macro = 0.569. Micro = 0.824\n",
      "-------------------------------\n",
      "File DatasetLinSO. Label = p. Precision = 0.578. Recall = 0.198. F1 = 0.295\n",
      "File DatasetLinSO. Label = o. Precision = 0.853. Recall = 0.940. F1 = 0.895\n",
      "File DatasetLinSO. Label = n. Precision = 0.458. Recall = 0.365. F1 = 0.406\n",
      "File = DatasetLinSO. F1 Macro = 0.558. Micro = 0.807\n",
      "-------------------------------\n",
      "File DatasetSenti4SDSO. Label = p. Precision = 0.884. Recall = 0.929. F1 = 0.906\n",
      "File DatasetSenti4SDSO. Label = o. Precision = 0.859. Recall = 0.754. F1 = 0.803\n",
      "File DatasetSenti4SDSO. Label = n. Precision = 0.758. Recall = 0.839. F1 = 0.797\n",
      "File = DatasetSenti4SDSO. F1 Macro = 0.837. Micro = 0.838\n",
      "-------------------------------\n",
      "File OrtuJIRA. Label = p. Precision = 0.793. Recall = 0.742. F1 = 0.766\n",
      "File OrtuJIRA. Label = o. Precision = 0.862. Recall = 0.914. F1 = 0.887\n",
      "File OrtuJIRA. Label = n. Precision = 0.787. Recall = 0.622. F1 = 0.695\n",
      "File = OrtuJIRA. F1 Macro = 0.786. Micro = 0.842\n",
      "-------------------------------\n"
     ]
    },
    {
     "name": "stderr",
     "output_type": "stream",
     "text": [
      "C:\\anaconda3\\envs\\opinion2\\lib\\site-packages\\ipykernel_launcher.py:64: RuntimeWarning: invalid value encountered in double_scalars\n"
     ]
    }
   ],
   "source": [
    "learnerCol = \"DSOSE\"\n",
    "computePerformancOfLearner(learnerCol, infile, filenames)"
   ]
  },
  {
   "cell_type": "markdown",
   "metadata": {},
   "source": [
    "# SVC"
   ]
  },
  {
   "cell_type": "code",
   "execution_count": 38,
   "metadata": {},
   "outputs": [
    {
     "name": "stdout",
     "output_type": "stream",
     "text": [
      "Label = p. Precision = 0.777. Recall = 0.708. F1 = 0.741\n",
      "Label = o. Precision = 0.789. Recall = 0.869. F1 = 0.827\n",
      "Label = n. Precision = 0.775. Recall = 0.655. F1 = 0.710\n",
      "F1 Macro = 0.762. Micro = 0.784\n",
      "Macro Precision = 0.780. Recall = 0.744\n",
      "-------------------------------\n",
      "File DatasetLinJIRA. Label = p. Precision = 0.957. Recall = 0.921. F1 = 0.938\n",
      "File DatasetLinJIRA. Label = n. Precision = 0.964. Recall = 0.981. F1 = 0.973\n",
      "File = DatasetLinJIRA. F1 Macro = 0.956. Micro = 0.962\n",
      "-------------------------------\n",
      "File BenchmarkUddinSO. Label = p. Precision = 0.412. Recall = 0.260. F1 = 0.319\n",
      "File BenchmarkUddinSO. Label = o. Precision = 0.649. Recall = 0.831. F1 = 0.729\n",
      "File BenchmarkUddinSO. Label = n. Precision = 0.433. Recall = 0.249. F1 = 0.316\n",
      "File = BenchmarkUddinSO. F1 Macro = 0.471. Micro = 0.591\n",
      "-------------------------------\n",
      "File DatasetLinAppReviews. Label = p. Precision = 0.856. Recall = 0.930. F1 = 0.892\n",
      "File DatasetLinAppReviews. Label = o. Precision = 0.333. Recall = 0.040. F1 = 0.071\n",
      "File DatasetLinAppReviews. Label = n. Precision = 0.838. Recall = 0.877. F1 = 0.857\n",
      "File = DatasetLinAppReviews. F1 Macro = 0.644. Micro = 0.845\n",
      "-------------------------------\n",
      "File DatasetLinSO. Label = p. Precision = 0.725. Recall = 0.282. F1 = 0.407\n",
      "File DatasetLinSO. Label = o. Precision = 0.845. Recall = 0.959. F1 = 0.898\n",
      "File DatasetLinSO. Label = n. Precision = 0.536. Recall = 0.292. F1 = 0.378\n",
      "File = DatasetLinSO. F1 Macro = 0.592. Micro = 0.821\n",
      "-------------------------------\n",
      "File DatasetSenti4SDSO. Label = p. Precision = 0.905. Recall = 0.933. F1 = 0.919\n",
      "File DatasetSenti4SDSO. Label = o. Precision = 0.838. Recall = 0.793. F1 = 0.815\n",
      "File DatasetSenti4SDSO. Label = n. Precision = 0.797. Recall = 0.826. F1 = 0.811\n",
      "File = DatasetSenti4SDSO. F1 Macro = 0.849. Micro = 0.850\n",
      "-------------------------------\n",
      "File OrtuJIRA. Label = p. Precision = 0.755. Recall = 0.777. F1 = 0.766\n",
      "File OrtuJIRA. Label = o. Precision = 0.867. Recall = 0.906. F1 = 0.886\n",
      "File OrtuJIRA. Label = n. Precision = 0.829. Recall = 0.609. F1 = 0.702\n",
      "File = OrtuJIRA. F1 Macro = 0.790. Micro = 0.841\n",
      "-------------------------------\n"
     ]
    }
   ],
   "source": [
    "indir = r\"C:\\dev\\opinion\\papers\\sentiplus\\Hybrid\"\n",
    "infile = os.path.join(indir, \"ResultsConsolidated_SVC.xls\")\n",
    "learnerCol = \"Sentisead\"\n",
    "computePerformanceOverallOfLearner(learnerCol, infile, filenames)\n",
    "computePerformancOfLearner(learnerCol, infile, filenames)"
   ]
  },
  {
   "cell_type": "code",
   "execution_count": null,
   "metadata": {},
   "outputs": [
    {
     "name": "stdout",
     "output_type": "stream",
     "text": [
      "Label = p. Precision = 0.824. Recall = 0.717. F1 = 0.767\n",
      "Label = o. Precision = 0.798. Recall = 0.884. F1 = 0.839\n",
      "Label = n. Precision = 0.785. Recall = 0.686. F1 = 0.732\n",
      "F1 Macro = 0.782. Micro = 0.801\n",
      "Macro Precision = 0.802. Recall = 0.762\n",
      "-------------------------------\n",
      "File DatasetLinJIRA. Label = p. Precision = 0.964. Recall = 0.931. F1 = 0.947\n",
      "File DatasetLinJIRA. Label = n. Precision = 0.969. Recall = 0.984. F1 = 0.977\n",
      "File = DatasetLinJIRA. F1 Macro = 0.962. Micro = 0.968\n",
      "-------------------------------\n",
      "File BenchmarkUddinSO. Label = p. Precision = 0.552. Recall = 0.261. F1 = 0.355\n",
      "File BenchmarkUddinSO. Label = o. Precision = 0.656. Recall = 0.885. F1 = 0.753\n",
      "File BenchmarkUddinSO. Label = n. Precision = 0.517. Recall = 0.288. F1 = 0.370\n",
      "File = BenchmarkUddinSO. F1 Macro = 0.522. Micro = 0.630\n",
      "-------------------------------\n",
      "File DatasetLinAppReviews. Label = p. Precision = 0.859. Recall = 0.946. F1 = 0.900\n",
      "File DatasetLinAppReviews. Label = o. Precision = nan. Recall = 0.000. F1 = nan\n",
      "File DatasetLinAppReviews. Label = n. Precision = 0.853. Recall = 0.892. F1 = 0.872\n",
      "File = DatasetLinAppReviews. F1 Macro = 0.591. Micro = 0.856\n",
      "-------------------------------\n",
      "File DatasetLinSO. Label = p. Precision = 0.714. Recall = 0.229. F1 = 0.347\n",
      "File DatasetLinSO. Label = o. Precision = 0.850. Recall = 0.963. F1 = 0.903\n",
      "File DatasetLinSO. Label = n. Precision = 0.569. Recall = 0.348. F1 = 0.432\n",
      "File = DatasetLinSO. F1 Macro = 0.596. Micro = 0.826\n",
      "-------------------------------\n",
      "File DatasetSenti4SDSO. Label = p. Precision = 0.912. Recall = 0.944. F1 = 0.928\n",
      "File DatasetSenti4SDSO. Label = o. Precision = 0.858. Recall = 0.786. F1 = 0.820\n",
      "File DatasetSenti4SDSO. Label = n. Precision = 0.790. Recall = 0.849. F1 = 0.819\n",
      "File = DatasetSenti4SDSO. F1 Macro = 0.857. Micro = 0.858\n",
      "-------------------------------\n",
      "File OrtuJIRA. Label = p. Precision = 0.784. Recall = 0.798. F1 = 0.791\n",
      "File OrtuJIRA. Label = o. Precision = 0.881. Recall = 0.908. F1 = 0.894\n",
      "File OrtuJIRA. Label = n. Precision = 0.806. Recall = 0.660. F1 = 0.726\n",
      "File = OrtuJIRA. F1 Macro = 0.806. Micro = 0.854\n",
      "-------------------------------\n"
     ]
    }
   ],
   "source": [
    "indir = r\"C:\\dev\\opinion\\papers\\sentiplus\\Hybrid\"\n",
    "infile = os.path.join(indir, \"ResultsConsolidated_RF.xls\")\n",
    "learnerCol = \"Sentisead\"\n",
    "computePerformanceOverallOfLearner(learnerCol, infile, filenames)\n",
    "computePerformancOfLearner(learnerCol, infile, filenames)"
   ]
  },
  {
   "cell_type": "code",
   "execution_count": 6,
   "metadata": {},
   "outputs": [
    {
     "name": "stdout",
     "output_type": "stream",
     "text": [
      "Label = p. Precision = 0.709. Recall = 0.794. F1 = 0.749\n",
      "Label = o. Precision = 0.844. Recall = 0.744. F1 = 0.791\n",
      "Label = n. Precision = 0.660. Recall = 0.766. F1 = 0.709\n",
      "F1 Macro = 0.753. Micro = 0.761\n",
      "Macro Precision = 0.738. Recall = 0.768\n",
      "-------------------------------\n",
      "File DatasetLinJIRA. Label = p. Precision = 0.985. Recall = 0.931. F1 = 0.957\n",
      "File DatasetLinJIRA. Label = n. Precision = 0.970. Recall = 0.994. F1 = 0.982\n",
      "File = DatasetLinJIRA. F1 Macro = 0.970. Micro = 0.975\n",
      "-------------------------------\n",
      "File BenchmarkUddinSO. Label = p. Precision = 0.442. Recall = 0.412. F1 = 0.426\n",
      "File BenchmarkUddinSO. Label = o. Precision = 0.699. Recall = 0.712. F1 = 0.705\n",
      "File BenchmarkUddinSO. Label = n. Precision = 0.407. Recall = 0.418. F1 = 0.412\n",
      "File = BenchmarkUddinSO. F1 Macro = 0.515. Micro = 0.588\n",
      "-------------------------------\n",
      "File DatasetLinAppReviews. Label = p. Precision = 0.841. Recall = 0.941. F1 = 0.888\n",
      "File DatasetLinAppReviews. Label = o. Precision = 0.111. Recall = 0.080. F1 = 0.093\n",
      "File DatasetLinAppReviews. Label = n. Precision = 0.887. Recall = 0.785. F1 = 0.833\n",
      "File = DatasetLinAppReviews. F1 Macro = 0.607. Micro = 0.818\n",
      "-------------------------------\n",
      "File DatasetLinSO. Label = p. Precision = 0.322. Recall = 0.366. F1 = 0.343\n",
      "File DatasetLinSO. Label = o. Precision = 0.894. Recall = 0.833. F1 = 0.863\n",
      "File DatasetLinSO. Label = n. Precision = 0.459. Recall = 0.624. F1 = 0.529\n",
      "File = DatasetLinSO. F1 Macro = 0.582. Micro = 0.767\n",
      "-------------------------------\n",
      "File DatasetSenti4SDSO. Label = p. Precision = 0.873. Recall = 0.950. F1 = 0.910\n",
      "File DatasetSenti4SDSO. Label = o. Precision = 0.898. Recall = 0.664. F1 = 0.763\n",
      "File DatasetSenti4SDSO. Label = n. Precision = 0.716. Recall = 0.900. F1 = 0.798\n",
      "File = DatasetSenti4SDSO. F1 Macro = 0.833. Micro = 0.827\n",
      "-------------------------------\n",
      "File OrtuJIRA. Label = p. Precision = 0.675. Recall = 0.939. F1 = 0.785\n",
      "File OrtuJIRA. Label = o. Precision = 0.934. Recall = 0.779. F1 = 0.849\n",
      "File OrtuJIRA. Label = n. Precision = 0.618. Recall = 0.788. F1 = 0.692\n",
      "File = OrtuJIRA. F1 Macro = 0.786. Micro = 0.811\n",
      "-------------------------------\n"
     ]
    }
   ],
   "source": [
    "indir = r\"C:\\dev\\opinion\\papers\\sentiplus\\Hybrid\"\n",
    "infile = os.path.join(indir, \"ConsolidatedWithBestTrainedClfsFromThreeSETools.xls\")\n",
    "learnerCol = \"Majority\"\n",
    "computePerformanceOverallOfLearner(learnerCol, infile, filenames)\n",
    "computePerformancOfLearner(learnerCol, infile, filenames)"
   ]
  },
  {
   "cell_type": "code",
   "execution_count": null,
   "metadata": {},
   "outputs": [],
   "source": []
  }
 ],
 "metadata": {
  "kernelspec": {
   "display_name": "Python 3",
   "language": "python",
   "name": "python3"
  },
  "language_info": {
   "codemirror_mode": {
    "name": "ipython",
    "version": 3
   },
   "file_extension": ".py",
   "mimetype": "text/x-python",
   "name": "python",
   "nbconvert_exporter": "python",
   "pygments_lexer": "ipython3",
   "version": "3.9.1"
  }
 },
 "nbformat": 4,
 "nbformat_minor": 2
}
