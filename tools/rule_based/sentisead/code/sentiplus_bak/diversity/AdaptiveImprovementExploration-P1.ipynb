{
 "cells": [
  {
   "cell_type": "code",
   "execution_count": 1,
   "metadata": {
    "collapsed": true
   },
   "outputs": [],
   "source": [
    "%load_ext autoreload\n",
    "%autoreload 2\n",
    "%reload_ext autoreload\n",
    "import sys\n",
    "from __future__ import division\n",
    "#sys.path.append(\"/home/gias/dev/opinion/opinion/python/opinion\")\n",
    "sys.path.append(r\"C:\\dev\\opinion\\opinion\\python\\opinion\")\n",
    "import os\n",
    "import utils.fileutils as fileutils\n",
    "import utils.nlputils as nlputils\n",
    "import cPickle as pickle\n",
    "import pandas as pd\n",
    "import numpy as np\n",
    "import utils.metrics as metrics\n",
    "\n",
    "from nltk.tokenize import sent_tokenize, word_tokenize\n",
    "from nltk.corpus import stopwords\n",
    "stopWords = set(stopwords.words('english'))"
   ]
  },
  {
   "cell_type": "code",
   "execution_count": 12,
   "metadata": {
    "collapsed": true
   },
   "outputs": [],
   "source": [
    "from nltk.corpus import sentiwordnet as swn"
   ]
  },
  {
   "cell_type": "code",
   "execution_count": 6,
   "metadata": {
    "collapsed": true
   },
   "outputs": [],
   "source": [
    "import os\n",
    "java_path = r\"C:\\Program Files\\Java\\jdk1.8.0_172\\bin\\java.exe\"\n",
    "os.environ['JAVAHOME'] = java_path"
   ]
  },
  {
   "cell_type": "code",
   "execution_count": 3,
   "metadata": {
    "collapsed": false
   },
   "outputs": [],
   "source": [
    "from nltk.parse.stanford import StanfordDependencyParser\n",
    "\n",
    "dirJarStanfordParser = r\"C:\\dev\\opinion\\external\\java-libs\\stanford-parser-full-3.9.1\"\n",
    "jarStanfordParser = os.path.join(dirJarStanfordParser, 'stanford-parser.jar')\n",
    "jarStanfordParserModels = os.path.join(dirJarStanfordParser, 'stanford-parser-3.9.1-models.jar')\n",
    "dependency_parser = StanfordDependencyParser(path_to_jar=jarStanfordParser, path_to_models_jar=jarStanfordParserModels)"
   ]
  },
  {
   "cell_type": "code",
   "execution_count": 9,
   "metadata": {
    "collapsed": false
   },
   "outputs": [
    {
     "data": {
      "text/plain": [
       "[((u'looks', u'VBZ'), u'nsubj', (u'This', u'DT')),\n",
       " ((u'looks', u'VBZ'), u'xcomp', (u'reasonable', u'JJ')),\n",
       " ((u'reasonable', u'JJ'), u'nmod', (u'me', u'PRP')),\n",
       " ((u'me', u'PRP'), u'case', (u'to', u'TO')),\n",
       " ((u'looks', u'VBZ'), u'parataxis', (u'have', u'VBP')),\n",
       " ((u'have', u'VBP'), u'nsubj', (u'sucks', u'NNP')),\n",
       " ((u'sucks', u'NNP'), u'dep', (u'we', u'PRP')),\n",
       " ((u'have', u'VBP'), u'nmod', (u'case', u'NN')),\n",
       " ((u'case', u'NN'), u'case', (u'to', u'TO')),\n",
       " ((u'case', u'NN'), u'amod', (u'special', u'JJ')),\n",
       " ((u'have', u'VBP'), u'xcomp', (u'handling', u'VBG')),\n",
       " ((u'handling', u'VBG'), u'nmod', (u'of', u'IN'))]"
      ]
     },
     "execution_count": 9,
     "metadata": {},
     "output_type": "execute_result"
    }
   ],
   "source": [
    "result = dependency_parser.raw_parse('This looks reasonable to me... sucks we have to special case handling of \" \"...')\n",
    "dep = result.next()\n",
    "list(dep.triples())"
   ]
  },
  {
   "cell_type": "code",
   "execution_count": 11,
   "metadata": {
    "collapsed": false
   },
   "outputs": [
    {
     "data": {
      "text/plain": [
       "[((u'handling', u'NN'), u'advmod', (u'sucks', u'RB')),\n",
       " ((u'handling', u'NN'), u'nsubj', (u'we', u'PRP')),\n",
       " ((u'handling', u'NN'), u'aux', (u'have', u'VBP')),\n",
       " ((u'handling', u'NN'), u'case', (u'to', u'TO')),\n",
       " ((u'handling', u'NN'), u'amod', (u'special', u'JJ')),\n",
       " ((u'handling', u'NN'), u'compound', (u'case', u'NN')),\n",
       " ((u'handling', u'NN'), u'acl', (u'of', u'IN'))]"
      ]
     },
     "execution_count": 11,
     "metadata": {},
     "output_type": "execute_result"
    }
   ],
   "source": [
    "result = dependency_parser.raw_parse('sucks we have to special case handling of \" \".')\n",
    "dep = result.next()\n",
    "list(dep.triples())"
   ]
  },
  {
   "cell_type": "code",
   "execution_count": 15,
   "metadata": {
    "collapsed": false
   },
   "outputs": [
    {
     "data": {
      "text/plain": [
       "[SentiSynset('sucking.n.01'),\n",
       " SentiSynset('suck.v.01'),\n",
       " SentiSynset('suck.v.02'),\n",
       " SentiSynset('suck.v.03'),\n",
       " SentiSynset('suck.v.04'),\n",
       " SentiSynset('fellate.v.01'),\n",
       " SentiSynset('absorb.v.04'),\n",
       " SentiSynset('breastfeed.v.01')]"
      ]
     },
     "execution_count": 15,
     "metadata": {},
     "output_type": "execute_result"
    }
   ],
   "source": [
    "list(swn.senti_synsets('sucks'))"
   ]
  },
  {
   "cell_type": "code",
   "execution_count": 18,
   "metadata": {
    "collapsed": false
   },
   "outputs": [
    {
     "name": "stdout",
     "output_type": "stream",
     "text": [
      "<suck.v.04: PosScore=0.0 NegScore=0.625>\n"
     ]
    }
   ],
   "source": [
    "print swn.senti_synset('suck.v.04')"
   ]
  },
  {
   "cell_type": "code",
   "execution_count": 19,
   "metadata": {
    "collapsed": false
   },
   "outputs": [
    {
     "data": {
      "text/plain": [
       "[((u'welcome', u'VBP'), u'nsubj', (u'Ok', u'NN')),\n",
       " ((u'Ok', u'NN'), u'appos', (u'wow', u'NN')),\n",
       " ((u'welcome', u'VBP'), u'nmod', (u'hell', u'NNP')),\n",
       " ((u'hell', u'NNP'), u'case', (u'to', u'TO')),\n",
       " ((u'hell', u'NNP'), u'compound', (u'Linux', u'NNP'))]"
      ]
     },
     "execution_count": 19,
     "metadata": {},
     "output_type": "execute_result"
    }
   ],
   "source": [
    "result = dependency_parser.raw_parse('Ok, wow, welcome to Linux hell...')\n",
    "dep = result.next()\n",
    "list(dep.triples())"
   ]
  },
  {
   "cell_type": "code",
   "execution_count": 20,
   "metadata": {
    "collapsed": false
   },
   "outputs": [
    {
     "data": {
      "text/plain": [
       "[SentiSynset('hell.n.01'),\n",
       " SentiSynset('hell.n.02'),\n",
       " SentiSynset('hell.n.03'),\n",
       " SentiSynset('hell.n.04'),\n",
       " SentiSynset('sin.n.06'),\n",
       " SentiSynset('hell.n.06')]"
      ]
     },
     "execution_count": 20,
     "metadata": {},
     "output_type": "execute_result"
    }
   ],
   "source": [
    "list(swn.senti_synsets('hell'))"
   ]
  },
  {
   "cell_type": "code",
   "execution_count": 21,
   "metadata": {
    "collapsed": false
   },
   "outputs": [
    {
     "name": "stdout",
     "output_type": "stream",
     "text": [
      "<hell.n.01: PosScore=0.0 NegScore=0.375>\n"
     ]
    }
   ],
   "source": [
    "print swn.senti_synset('hell.n.01')"
   ]
  },
  {
   "cell_type": "code",
   "execution_count": 22,
   "metadata": {
    "collapsed": false
   },
   "outputs": [
    {
     "data": {
      "text/plain": [
       "[SentiSynset('crap.n.01'),\n",
       " SentiSynset('bullshit.n.01'),\n",
       " SentiSynset('jack.n.01'),\n",
       " SentiSynset('shit.n.04'),\n",
       " SentiSynset('asshole.n.01'),\n",
       " SentiSynset('damn.n.01'),\n",
       " SentiSynset('denounce.v.04'),\n",
       " SentiSynset('stool.v.04')]"
      ]
     },
     "execution_count": 22,
     "metadata": {},
     "output_type": "execute_result"
    }
   ],
   "source": [
    "list(swn.senti_synsets('shit'))"
   ]
  },
  {
   "cell_type": "code",
   "execution_count": 23,
   "metadata": {
    "collapsed": false
   },
   "outputs": [
    {
     "name": "stdout",
     "output_type": "stream",
     "text": [
      "<crap.n.01: PosScore=0.0 NegScore=0.25>\n"
     ]
    }
   ],
   "source": [
    "print swn.senti_synset('shit.n.01')"
   ]
  },
  {
   "cell_type": "code",
   "execution_count": null,
   "metadata": {
    "collapsed": true
   },
   "outputs": [],
   "source": []
  }
 ],
 "metadata": {
  "kernelspec": {
   "display_name": "Python 2",
   "language": "python",
   "name": "python2"
  },
  "language_info": {
   "codemirror_mode": {
    "name": "ipython",
    "version": 2
   },
   "file_extension": ".py",
   "mimetype": "text/x-python",
   "name": "python",
   "nbconvert_exporter": "python",
   "pygments_lexer": "ipython2",
   "version": "2.7.15"
  }
 },
 "nbformat": 4,
 "nbformat_minor": 0
}
