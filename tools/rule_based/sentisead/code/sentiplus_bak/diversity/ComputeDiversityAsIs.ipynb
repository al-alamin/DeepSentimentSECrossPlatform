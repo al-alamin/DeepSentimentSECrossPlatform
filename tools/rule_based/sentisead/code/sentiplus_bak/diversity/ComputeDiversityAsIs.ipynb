{
 "cells": [
  {
   "cell_type": "code",
   "execution_count": 5,
   "metadata": {
    "collapsed": false
   },
   "outputs": [
    {
     "name": "stdout",
     "output_type": "stream",
     "text": [
      "The autoreload extension is already loaded. To reload it, use:\n",
      "  %reload_ext autoreload\n"
     ]
    }
   ],
   "source": [
    "%load_ext autoreload\n",
    "%autoreload 2\n",
    "%reload_ext autoreload\n",
    "import sys\n",
    "from __future__ import division\n",
    "#sys.path.append(\"/home/gias/dev/opinion/opinion/python/opinion\")\n",
    "sys.path.append(r\"C:\\dev\\opinion\\opinion\\python\\opinion\")\n",
    "import os\n",
    "import utils.fileutils as fileutils\n",
    "import utils.nlputils as nlputils\n",
    "import cPickle as pickle\n",
    "import pandas as pd\n",
    "import numpy as np\n",
    "import utils.metrics as metrics\n",
    "\n",
    "from nltk.tokenize import sent_tokenize, word_tokenize\n",
    "from nltk.corpus import stopwords\n",
    "stopWords = set(stopwords.words('english'))"
   ]
  },
  {
   "cell_type": "code",
   "execution_count": 2,
   "metadata": {
    "collapsed": true
   },
   "outputs": [],
   "source": [
    "import sentimentdetect.diversity.DiversityMetrics as dm"
   ]
  },
  {
   "cell_type": "code",
   "execution_count": 3,
   "metadata": {
    "collapsed": true
   },
   "outputs": [],
   "source": [
    "indir = r\"C:\\dev\\opinion\\papers\\sentimentDiversity\"\n",
    "dirDataset = os.path.join(indir, \"dataset\")"
   ]
  },
  {
   "cell_type": "code",
   "execution_count": 16,
   "metadata": {
    "collapsed": true
   },
   "outputs": [],
   "source": [
    "def computeDiversity(infile, outfile):\n",
    "    shannons = []\n",
    "    simpsons = []\n",
    "    invSimpsons = []\n",
    "    df = fileutils.readExcel(infile, \"Sheet1\")\n",
    "    for index, row in df.iterrows():\n",
    "        sentence = row[\"sentence\"]\n",
    "        words = word_tokenize(sentence)\n",
    "        data = dict()\n",
    "        for w in words:\n",
    "            #if w not in stopWords:\n",
    "            data[w] = data.get(w, 0) + 1\n",
    "        shannon = dm.shannon(data)\n",
    "        shannons.append(shannon)\n",
    "        simpson = dm.simpson(data)\n",
    "        simpsons.append(simpson)\n",
    "        simpson_inv = dm.inverse_simpson(data)        \n",
    "        invSimpsons.append(simpson_inv)\n",
    "    df[\"shannon\"] = (pd.Series(shannons)).values\n",
    "    df[\"simpson\"]= (pd.Series(simpsons)).values\n",
    "    df[\"simpson_inv\"]= (pd.Series(invSimpsons)).values\n",
    "    fileutils.writeExcel(outfile, \"Sheet1\", df)"
   ]
  },
  {
   "cell_type": "code",
   "execution_count": 18,
   "metadata": {
    "collapsed": false
   },
   "outputs": [],
   "source": [
    "infile = \"ConsolidatedTSE.xls\"\n",
    "infile = os.path.join(dirDataset, infile)\n",
    "computeDiversity(infile, infile)\n"
   ]
  },
  {
   "cell_type": "code",
   "execution_count": 25,
   "metadata": {
    "collapsed": false
   },
   "outputs": [],
   "source": [
    "infile = \"DatasetLinAppReviewsWithToolOutputs.xls\"\n",
    "infile = os.path.join(dirDataset, infile)\n",
    "computeDiversity(infile, infile)"
   ]
  },
  {
   "cell_type": "code",
   "execution_count": 26,
   "metadata": {
    "collapsed": true
   },
   "outputs": [],
   "source": [
    "infile = \"DatasetLinJIRAWithToolOutputs.xls\"\n",
    "infile = os.path.join(dirDataset, infile)\n",
    "computeDiversity(infile, infile)"
   ]
  },
  {
   "cell_type": "code",
   "execution_count": 28,
   "metadata": {
    "collapsed": false
   },
   "outputs": [],
   "source": [
    "infile = \"DatasetLinStackOverflowWithToolOutputs.xls\"\n",
    "infile = os.path.join(dirDataset, infile)\n",
    "computeDiversity(infile, infile)"
   ]
  },
  {
   "cell_type": "code",
   "execution_count": 37,
   "metadata": {
    "collapsed": false
   },
   "outputs": [],
   "source": [
    "infile = \"DatasetSenti4SDWithToolOutputs.xls\"\n",
    "infile = os.path.join(dirDataset, infile)\n",
    "computeDiversity(infile, infile)"
   ]
  },
  {
   "cell_type": "code",
   "execution_count": 14,
   "metadata": {
    "collapsed": false
   },
   "outputs": [],
   "source": [
    "def CheckClassifier(df, gt_name, clf_name):\n",
    "    shannons = dict()\n",
    "    simpsons = dict()\n",
    "    inv_simpsons = dict()\n",
    "    for t in [True, False]:\n",
    "        shannons[t] = []\n",
    "        simpsons[t] = []\n",
    "        inv_simpsons[t]  = []\n",
    "    for index, row in df.iterrows():\n",
    "        #sentence = row[text_name]\n",
    "        shannon = row[\"shannon\"]\n",
    "        simpson = row[\"simpson\"]\n",
    "        simpson_inv = row[\"simpson_inv\"]\n",
    "        manualLabel = row[gt_name]\n",
    "        sentiLabel = row[clf_name]\n",
    "        shannons[sentiLabel == manualLabel].append(shannon)\n",
    "        simpsons[sentiLabel == manualLabel].append(simpson)\n",
    "        inv_simpsons[sentiLabel == manualLabel].append(simpson_inv)\n",
    "        #print manualLabel, sentiSELabel, manualLabel != sentiSELabel, shannon, simpson#, simpson_inv\n",
    "    for t in [True, False]:\n",
    "        print t\n",
    "        sn = np.array(shannons[t])\n",
    "        sm = np.array(simpsons[t])\n",
    "        inv_sm = np.array(inv_simpsons[t])\n",
    "        print \"\\t Shannon: Mean = %.3f. STD = %.3f. Median = %.3f\"%(np.mean(sn), np.std(sn), np.median(sn))\n",
    "        print \"\\t Simpson: Mean = %.3f. STD = %.3f. Median = %.3f\"%(np.mean(sm), np.std(sm), np.median(sm))\n",
    "        print \"\\t Simpson Inverse: Mean = %.3f. STD = %.3f. Median = %.3f\"%(np.mean(inv_sm), np.std(inv_sm), np.median(inv_sm))   \n",
    "    print \"Changes between Truth and False.\"\n",
    "    snT = np.array(shannons[True])\n",
    "    mean_snT = np.mean(snT)\n",
    "    smT = np.array(simpsons[True])\n",
    "    mean_smT = np.mean(smT)\n",
    "    inv_smT = np.array(inv_simpsons[True])\n",
    "    mean_inv_smT = np.mean(inv_smT)\n",
    "    \n",
    "    snF = np.array(shannons[False])\n",
    "    mean_snF = np.mean(snF)\n",
    "    smF = np.array(simpsons[False])\n",
    "    mean_smF = np.mean(smF)\n",
    "    inv_smF = np.array(inv_simpsons[False])\n",
    "    mean_inv_smF = np.mean(inv_smF)\n",
    "    \n",
    "    rsn = (mean_snF - mean_snT) *100 / mean_snT\n",
    "    rsm = (mean_smF - mean_smT) *100 / mean_smT\n",
    "    rsim = (mean_inv_smF - mean_inv_smT) *100 / mean_inv_smT\n",
    "    print \"Shannon = %.3f. Simson = %.3f. Inverse Simpson = %.3f\"%(rsn, rsm, rsim)"
   ]
  },
  {
   "cell_type": "code",
   "execution_count": 19,
   "metadata": {
    "collapsed": false
   },
   "outputs": [
    {
     "data": {
      "text/html": [
       "<div>\n",
       "<style scoped>\n",
       "    .dataframe tbody tr th:only-of-type {\n",
       "        vertical-align: middle;\n",
       "    }\n",
       "\n",
       "    .dataframe tbody tr th {\n",
       "        vertical-align: top;\n",
       "    }\n",
       "\n",
       "    .dataframe thead th {\n",
       "        text-align: right;\n",
       "    }\n",
       "</style>\n",
       "<table border=\"1\" class=\"dataframe\">\n",
       "  <thead>\n",
       "    <tr style=\"text-align: right;\">\n",
       "      <th></th>\n",
       "      <th>thread</th>\n",
       "      <th>id</th>\n",
       "      <th>sentence</th>\n",
       "      <th>Sentistrength-se</th>\n",
       "      <th>SentiSE</th>\n",
       "      <th>InitialLabel</th>\n",
       "      <th>Sentistrength</th>\n",
       "      <th>Lexicons</th>\n",
       "      <th>OpinerDSO</th>\n",
       "      <th>ManualLabel</th>\n",
       "      <th>tid</th>\n",
       "      <th>sid</th>\n",
       "      <th>OpinerDSOSenti</th>\n",
       "      <th>Senti4SD</th>\n",
       "      <th>Stanford</th>\n",
       "      <th>SentiCR</th>\n",
       "      <th>shannon</th>\n",
       "      <th>simpson</th>\n",
       "      <th>simpson_inv</th>\n",
       "    </tr>\n",
       "  </thead>\n",
       "  <tbody>\n",
       "    <tr>\n",
       "      <th>0</th>\n",
       "      <td>15936368</td>\n",
       "      <td>1</td>\n",
       "      <td>JAXB Bindings File Sets @XmlElement type to St...</td>\n",
       "      <td>1 -1</td>\n",
       "      <td>o</td>\n",
       "      <td>o</td>\n",
       "      <td>o</td>\n",
       "      <td>NaN</td>\n",
       "      <td>o</td>\n",
       "      <td>o</td>\n",
       "      <td>15936368:1</td>\n",
       "      <td>1</td>\n",
       "      <td>o</td>\n",
       "      <td>o</td>\n",
       "      <td>o</td>\n",
       "      <td>o</td>\n",
       "      <td>2.484907</td>\n",
       "      <td>0.083333</td>\n",
       "      <td>12.000000</td>\n",
       "    </tr>\n",
       "    <tr>\n",
       "      <th>1</th>\n",
       "      <td>15936368</td>\n",
       "      <td>2</td>\n",
       "      <td>I'm trying to create an CODETERM1 that takes i...</td>\n",
       "      <td>1 -1</td>\n",
       "      <td>o</td>\n",
       "      <td>o</td>\n",
       "      <td>o</td>\n",
       "      <td>NaN</td>\n",
       "      <td>o</td>\n",
       "      <td>o</td>\n",
       "      <td>15936368:2</td>\n",
       "      <td>2</td>\n",
       "      <td>o</td>\n",
       "      <td>o</td>\n",
       "      <td>o</td>\n",
       "      <td>o</td>\n",
       "      <td>2.566599</td>\n",
       "      <td>0.085938</td>\n",
       "      <td>11.636364</td>\n",
       "    </tr>\n",
       "    <tr>\n",
       "      <th>2</th>\n",
       "      <td>15936368</td>\n",
       "      <td>3</td>\n",
       "      <td>The purpose is simlply to remove timezone data...</td>\n",
       "      <td>1 -1</td>\n",
       "      <td>o</td>\n",
       "      <td>o</td>\n",
       "      <td>o</td>\n",
       "      <td>NaN</td>\n",
       "      <td>o</td>\n",
       "      <td>o</td>\n",
       "      <td>15936368:3</td>\n",
       "      <td>3</td>\n",
       "      <td>o</td>\n",
       "      <td>o</td>\n",
       "      <td>o</td>\n",
       "      <td>o</td>\n",
       "      <td>2.540036</td>\n",
       "      <td>0.081633</td>\n",
       "      <td>12.250000</td>\n",
       "    </tr>\n",
       "    <tr>\n",
       "      <th>3</th>\n",
       "      <td>15936368</td>\n",
       "      <td>4</td>\n",
       "      <td>It looks like this: CODESNIPPET_JAVA1</td>\n",
       "      <td>1 -1</td>\n",
       "      <td>o</td>\n",
       "      <td>p</td>\n",
       "      <td>p</td>\n",
       "      <td>NaN</td>\n",
       "      <td>o</td>\n",
       "      <td>o</td>\n",
       "      <td>15936368:4</td>\n",
       "      <td>4</td>\n",
       "      <td>p</td>\n",
       "      <td>o</td>\n",
       "      <td>o</td>\n",
       "      <td>o</td>\n",
       "      <td>1.791759</td>\n",
       "      <td>0.166667</td>\n",
       "      <td>6.000000</td>\n",
       "    </tr>\n",
       "    <tr>\n",
       "      <th>4</th>\n",
       "      <td>15936368</td>\n",
       "      <td>5</td>\n",
       "      <td>This works fine for the following code: CODESN...</td>\n",
       "      <td>3 -1</td>\n",
       "      <td>p</td>\n",
       "      <td>p</td>\n",
       "      <td>p</td>\n",
       "      <td>works</td>\n",
       "      <td>p</td>\n",
       "      <td>p</td>\n",
       "      <td>15936368:5</td>\n",
       "      <td>5</td>\n",
       "      <td>p</td>\n",
       "      <td>p</td>\n",
       "      <td>p</td>\n",
       "      <td>o</td>\n",
       "      <td>2.197225</td>\n",
       "      <td>0.111111</td>\n",
       "      <td>9.000000</td>\n",
       "    </tr>\n",
       "  </tbody>\n",
       "</table>\n",
       "</div>"
      ],
      "text/plain": [
       "     thread  id                                           sentence  \\\n",
       "0  15936368   1  JAXB Bindings File Sets @XmlElement type to St...   \n",
       "1  15936368   2  I'm trying to create an CODETERM1 that takes i...   \n",
       "2  15936368   3  The purpose is simlply to remove timezone data...   \n",
       "3  15936368   4             It looks like this: CODESNIPPET_JAVA1    \n",
       "4  15936368   5  This works fine for the following code: CODESN...   \n",
       "\n",
       "  Sentistrength-se SentiSE InitialLabel Sentistrength Lexicons OpinerDSO  \\\n",
       "0             1 -1       o            o             o      NaN         o   \n",
       "1             1 -1       o            o             o      NaN         o   \n",
       "2             1 -1       o            o             o      NaN         o   \n",
       "3             1 -1       o            p             p      NaN         o   \n",
       "4             3 -1       p            p             p    works         p   \n",
       "\n",
       "  ManualLabel         tid  sid OpinerDSOSenti Senti4SD Stanford SentiCR  \\\n",
       "0           o  15936368:1    1              o        o        o       o   \n",
       "1           o  15936368:2    2              o        o        o       o   \n",
       "2           o  15936368:3    3              o        o        o       o   \n",
       "3           o  15936368:4    4              p        o        o       o   \n",
       "4           p  15936368:5    5              p        p        p       o   \n",
       "\n",
       "    shannon   simpson  simpson_inv  \n",
       "0  2.484907  0.083333    12.000000  \n",
       "1  2.566599  0.085938    11.636364  \n",
       "2  2.540036  0.081633    12.250000  \n",
       "3  1.791759  0.166667     6.000000  \n",
       "4  2.197225  0.111111     9.000000  "
      ]
     },
     "execution_count": 19,
     "metadata": {},
     "output_type": "execute_result"
    }
   ],
   "source": [
    "infileOpiner = os.path.join(dirDataset, \"ConsolidatedTSE.xls\")\n",
    "df = fileutils.readExcel(infileOpiner, \"Sheet1\")\n",
    "df.head()"
   ]
  },
  {
   "cell_type": "code",
   "execution_count": 20,
   "metadata": {
    "collapsed": false
   },
   "outputs": [
    {
     "name": "stdout",
     "output_type": "stream",
     "text": [
      "True\n",
      "\t Shannon: Mean = 2.442. STD = 0.746. Median = 2.565\n",
      "\t Simpson: Mean = 0.129. STD = 0.175. Median = 0.079\n",
      "\t Simpson Inverse: Mean = 13.614. STD = 7.673. Median = 12.583\n",
      "False\n",
      "\t Shannon: Mean = 2.533. STD = 0.724. Median = 2.639\n",
      "\t Simpson: Mean = 0.114. STD = 0.147. Median = 0.071\n",
      "\t Simpson Inverse: Mean = 14.824. STD = 8.358. Median = 14.000\n",
      "Changes between Truth and False.\n",
      "Shannon = 3.712. Simson = -11.785. Inverse Simpson = 8.889\n"
     ]
    }
   ],
   "source": [
    "gt_name = \"ManualLabel\"\n",
    "clf_name = \"Senti4SD\"\n",
    "CheckClassifier(df, gt_name, clf_name)"
   ]
  },
  {
   "cell_type": "code",
   "execution_count": 21,
   "metadata": {
    "collapsed": false
   },
   "outputs": [
    {
     "name": "stdout",
     "output_type": "stream",
     "text": [
      "True\n",
      "\t Shannon: Mean = 2.434. STD = 0.742. Median = 2.565\n",
      "\t Simpson: Mean = 0.129. STD = 0.171. Median = 0.081\n",
      "\t Simpson Inverse: Mean = 13.537. STD = 7.618. Median = 12.349\n",
      "False\n",
      "\t Shannon: Mean = 2.548. STD = 0.725. Median = 2.639\n",
      "\t Simpson: Mean = 0.113. STD = 0.149. Median = 0.071\n",
      "\t Simpson Inverse: Mean = 15.004. STD = 8.444. Median = 14.000\n",
      "Changes between Truth and False.\n",
      "Shannon = 4.693. Simson = -12.518. Inverse Simpson = 10.835\n"
     ]
    }
   ],
   "source": [
    "gt_name = \"ManualLabel\"\n",
    "clf_name = \"Sentistrength\"\n",
    "CheckClassifier(df, gt_name, clf_name)"
   ]
  },
  {
   "cell_type": "code",
   "execution_count": 22,
   "metadata": {
    "collapsed": false
   },
   "outputs": [
    {
     "name": "stdout",
     "output_type": "stream",
     "text": [
      "True\n",
      "\t Shannon: Mean = 2.426. STD = 0.766. Median = 2.565\n",
      "\t Simpson: Mean = 0.134. STD = 0.182. Median = 0.080\n",
      "\t Simpson Inverse: Mean = 13.539. STD = 7.776. Median = 12.565\n",
      "False\n",
      "\t Shannon: Mean = 2.580. STD = 0.677. Median = 2.686\n",
      "\t Simpson: Mean = 0.104. STD = 0.123. Median = 0.071\n",
      "\t Simpson Inverse: Mean = 15.233. STD = 8.324. Median = 14.000\n",
      "Changes between Truth and False.\n",
      "Shannon = 6.342. Simson = -22.470. Inverse Simpson = 12.510\n"
     ]
    }
   ],
   "source": [
    "gt_name = \"ManualLabel\"\n",
    "clf_name = \"SentiSE\"\n",
    "CheckClassifier(df, gt_name, clf_name)"
   ]
  },
  {
   "cell_type": "code",
   "execution_count": 29,
   "metadata": {
    "collapsed": false
   },
   "outputs": [
    {
     "data": {
      "text/html": [
       "<div>\n",
       "<style scoped>\n",
       "    .dataframe tbody tr th:only-of-type {\n",
       "        vertical-align: middle;\n",
       "    }\n",
       "\n",
       "    .dataframe tbody tr th {\n",
       "        vertical-align: top;\n",
       "    }\n",
       "\n",
       "    .dataframe thead th {\n",
       "        text-align: right;\n",
       "    }\n",
       "</style>\n",
       "<table border=\"1\" class=\"dataframe\">\n",
       "  <thead>\n",
       "    <tr style=\"text-align: right;\">\n",
       "      <th></th>\n",
       "      <th>sentence</th>\n",
       "      <th>ManualLabel</th>\n",
       "      <th>SentiSE</th>\n",
       "      <th>Senti4SD</th>\n",
       "      <th>shannon</th>\n",
       "      <th>simpson</th>\n",
       "      <th>simpson_inv</th>\n",
       "    </tr>\n",
       "  </thead>\n",
       "  <tbody>\n",
       "    <tr>\n",
       "      <th>0</th>\n",
       "      <td>package file invalid i had my phone on factory...</td>\n",
       "      <td>n</td>\n",
       "      <td>n</td>\n",
       "      <td>n</td>\n",
       "      <td>3.798278</td>\n",
       "      <td>0.025531</td>\n",
       "      <td>39.168421</td>\n",
       "    </tr>\n",
       "    <tr>\n",
       "      <th>1</th>\n",
       "      <td>iffy nice clean app but sometimes it works and...</td>\n",
       "      <td>n</td>\n",
       "      <td>p</td>\n",
       "      <td>p</td>\n",
       "      <td>3.276098</td>\n",
       "      <td>0.041016</td>\n",
       "      <td>24.380952</td>\n",
       "    </tr>\n",
       "    <tr>\n",
       "      <th>2</th>\n",
       "      <td>cool just freezes everytime</td>\n",
       "      <td>n</td>\n",
       "      <td>p</td>\n",
       "      <td>p</td>\n",
       "      <td>1.386294</td>\n",
       "      <td>0.250000</td>\n",
       "      <td>4.000000</td>\n",
       "    </tr>\n",
       "    <tr>\n",
       "      <th>3</th>\n",
       "      <td>network error! suddenly after downloading an u...</td>\n",
       "      <td>n</td>\n",
       "      <td>p</td>\n",
       "      <td>n</td>\n",
       "      <td>3.352470</td>\n",
       "      <td>0.040123</td>\n",
       "      <td>24.923077</td>\n",
       "    </tr>\n",
       "    <tr>\n",
       "      <th>4</th>\n",
       "      <td>annoying it let me choose the pictures i want ...</td>\n",
       "      <td>n</td>\n",
       "      <td>n</td>\n",
       "      <td>n</td>\n",
       "      <td>2.714452</td>\n",
       "      <td>0.079365</td>\n",
       "      <td>12.600000</td>\n",
       "    </tr>\n",
       "  </tbody>\n",
       "</table>\n",
       "</div>"
      ],
      "text/plain": [
       "                                            sentence ManualLabel SentiSE  \\\n",
       "0  package file invalid i had my phone on factory...           n       n   \n",
       "1  iffy nice clean app but sometimes it works and...           n       p   \n",
       "2                        cool just freezes everytime           n       p   \n",
       "3  network error! suddenly after downloading an u...           n       p   \n",
       "4  annoying it let me choose the pictures i want ...           n       n   \n",
       "\n",
       "  Senti4SD   shannon   simpson  simpson_inv  \n",
       "0        n  3.798278  0.025531    39.168421  \n",
       "1        p  3.276098  0.041016    24.380952  \n",
       "2        p  1.386294  0.250000     4.000000  \n",
       "3        n  3.352470  0.040123    24.923077  \n",
       "4        n  2.714452  0.079365    12.600000  "
      ]
     },
     "execution_count": 29,
     "metadata": {},
     "output_type": "execute_result"
    }
   ],
   "source": [
    "infile = os.path.join(dirDataset, \"DatasetLinAppReviewsWithToolOutputs.xls\")\n",
    "df = fileutils.readExcel(infile, \"Sheet1\")\n",
    "df.head()"
   ]
  },
  {
   "cell_type": "code",
   "execution_count": 30,
   "metadata": {
    "collapsed": false
   },
   "outputs": [
    {
     "name": "stdout",
     "output_type": "stream",
     "text": [
      "True\n",
      "\t Shannon: Mean = 2.578. STD = 0.795. Median = 2.458\n",
      "\t Simpson: Mean = 0.104. STD = 0.070. Median = 0.089\n",
      "\t Simpson Inverse: Mean = 16.297. STD = 13.118. Median = 11.267\n",
      "False\n",
      "\t Shannon: Mean = 2.878. STD = 0.776. Median = 2.888\n",
      "\t Simpson: Mean = 0.081. STD = 0.065. Median = 0.059\n",
      "\t Simpson Inverse: Mean = 20.452. STD = 14.057. Median = 16.917\n",
      "Changes between Truth and False.\n",
      "Shannon = 11.613. Simson = -22.593. Inverse Simpson = 25.494\n"
     ]
    }
   ],
   "source": [
    "gt_name = \"ManualLabel\"\n",
    "clf_name = \"SentiSE\"\n",
    "CheckClassifier(df, gt_name, clf_name)"
   ]
  },
  {
   "cell_type": "code",
   "execution_count": 31,
   "metadata": {
    "collapsed": false
   },
   "outputs": [
    {
     "name": "stdout",
     "output_type": "stream",
     "text": [
      "True\n",
      "\t Shannon: Mean = 2.584. STD = 0.792. Median = 2.482\n",
      "\t Simpson: Mean = 0.105. STD = 0.072. Median = 0.087\n",
      "\t Simpson Inverse: Mean = 16.304. STD = 13.194. Median = 11.516\n",
      "False\n",
      "\t Shannon: Mean = 2.909. STD = 0.774. Median = 2.926\n",
      "\t Simpson: Mean = 0.077. STD = 0.059. Median = 0.058\n",
      "\t Simpson Inverse: Mean = 21.015. STD = 13.963. Median = 17.308\n",
      "Changes between Truth and False.\n",
      "Shannon = 12.565. Simson = -26.323. Inverse Simpson = 28.897\n"
     ]
    }
   ],
   "source": [
    "gt_name = \"ManualLabel\"\n",
    "clf_name = \"Senti4SD\"\n",
    "CheckClassifier(df, gt_name, clf_name)"
   ]
  },
  {
   "cell_type": "code",
   "execution_count": 39,
   "metadata": {
    "collapsed": false
   },
   "outputs": [
    {
     "data": {
      "text/html": [
       "<div>\n",
       "<style scoped>\n",
       "    .dataframe tbody tr th:only-of-type {\n",
       "        vertical-align: middle;\n",
       "    }\n",
       "\n",
       "    .dataframe tbody tr th {\n",
       "        vertical-align: top;\n",
       "    }\n",
       "\n",
       "    .dataframe thead th {\n",
       "        text-align: right;\n",
       "    }\n",
       "</style>\n",
       "<table border=\"1\" class=\"dataframe\">\n",
       "  <thead>\n",
       "    <tr style=\"text-align: right;\">\n",
       "      <th></th>\n",
       "      <th>sentence</th>\n",
       "      <th>ManualLabel</th>\n",
       "      <th>SentiSE</th>\n",
       "      <th>shannon</th>\n",
       "      <th>simpson</th>\n",
       "      <th>simpson_inv</th>\n",
       "    </tr>\n",
       "  </thead>\n",
       "  <tbody>\n",
       "    <tr>\n",
       "      <th>0</th>\n",
       "      <td>Vineet, what you are trying to do is a terribl...</td>\n",
       "      <td>n</td>\n",
       "      <td>n</td>\n",
       "      <td>3.811141</td>\n",
       "      <td>0.024454</td>\n",
       "      <td>40.893617</td>\n",
       "    </tr>\n",
       "    <tr>\n",
       "      <th>1</th>\n",
       "      <td>'Course I do, corrected.</td>\n",
       "      <td>p</td>\n",
       "      <td>o</td>\n",
       "      <td>1.791759</td>\n",
       "      <td>0.166667</td>\n",
       "      <td>6.000000</td>\n",
       "    </tr>\n",
       "    <tr>\n",
       "      <th>2</th>\n",
       "      <td>Excellent, happy to help! If you don't mind, c...</td>\n",
       "      <td>p</td>\n",
       "      <td>p</td>\n",
       "      <td>2.736339</td>\n",
       "      <td>0.067901</td>\n",
       "      <td>14.727273</td>\n",
       "    </tr>\n",
       "    <tr>\n",
       "      <th>3</th>\n",
       "      <td>@DrabJay: excellent suggestion! Code changed. :-)</td>\n",
       "      <td>p</td>\n",
       "      <td>p</td>\n",
       "      <td>2.369382</td>\n",
       "      <td>0.097222</td>\n",
       "      <td>10.285714</td>\n",
       "    </tr>\n",
       "    <tr>\n",
       "      <th>4</th>\n",
       "      <td>Any decent browser should protect against mali...</td>\n",
       "      <td>o</td>\n",
       "      <td>p</td>\n",
       "      <td>3.764228</td>\n",
       "      <td>0.025377</td>\n",
       "      <td>39.405405</td>\n",
       "    </tr>\n",
       "  </tbody>\n",
       "</table>\n",
       "</div>"
      ],
      "text/plain": [
       "                                            sentence ManualLabel SentiSE  \\\n",
       "0  Vineet, what you are trying to do is a terribl...           n       n   \n",
       "1                           'Course I do, corrected.           p       o   \n",
       "2  Excellent, happy to help! If you don't mind, c...           p       p   \n",
       "3  @DrabJay: excellent suggestion! Code changed. :-)           p       p   \n",
       "4  Any decent browser should protect against mali...           o       p   \n",
       "\n",
       "    shannon   simpson  simpson_inv  \n",
       "0  3.811141  0.024454    40.893617  \n",
       "1  1.791759  0.166667     6.000000  \n",
       "2  2.736339  0.067901    14.727273  \n",
       "3  2.369382  0.097222    10.285714  \n",
       "4  3.764228  0.025377    39.405405  "
      ]
     },
     "execution_count": 39,
     "metadata": {},
     "output_type": "execute_result"
    }
   ],
   "source": [
    "infile = os.path.join(dirDataset, \"DatasetSenti4SDWithToolOutputs.xls\")\n",
    "df = fileutils.readExcel(infile, \"Sheet1\") #pd.read_csv(infile, encoding='ISO-8859-1')\n",
    "df.head()"
   ]
  },
  {
   "cell_type": "code",
   "execution_count": 40,
   "metadata": {
    "collapsed": false
   },
   "outputs": [
    {
     "name": "stdout",
     "output_type": "stream",
     "text": [
      "True\n",
      "\t Shannon: Mean = 2.889. STD = 0.790. Median = 2.896\n",
      "\t Simpson: Mean = 0.080. STD = 0.071. Median = 0.057\n",
      "\t Simpson Inverse: Mean = 21.321. STD = 13.800. Median = 17.640\n",
      "False\n",
      "\t Shannon: Mean = 3.225. STD = 0.717. Median = 3.389\n",
      "\t Simpson: Mean = 0.057. STD = 0.057. Median = 0.037\n",
      "\t Simpson Inverse: Mean = 27.383. STD = 14.130. Median = 27.272\n",
      "Changes between Truth and False.\n",
      "Shannon = 11.655. Simson = -28.766. Inverse Simpson = 28.435\n"
     ]
    }
   ],
   "source": [
    "gt_name = \"ManualLabel\"\n",
    "clf_name = \"SentiSE\"\n",
    "CheckClassifier(df, gt_name, clf_name)"
   ]
  },
  {
   "cell_type": "code",
   "execution_count": 41,
   "metadata": {
    "collapsed": false
   },
   "outputs": [
    {
     "data": {
      "text/html": [
       "<div>\n",
       "<style scoped>\n",
       "    .dataframe tbody tr th:only-of-type {\n",
       "        vertical-align: middle;\n",
       "    }\n",
       "\n",
       "    .dataframe tbody tr th {\n",
       "        vertical-align: top;\n",
       "    }\n",
       "\n",
       "    .dataframe thead th {\n",
       "        text-align: right;\n",
       "    }\n",
       "</style>\n",
       "<table border=\"1\" class=\"dataframe\">\n",
       "  <thead>\n",
       "    <tr style=\"text-align: right;\">\n",
       "      <th></th>\n",
       "      <th>sentence</th>\n",
       "      <th>ManualLabel</th>\n",
       "      <th>SentiSE</th>\n",
       "      <th>Senti4SD</th>\n",
       "      <th>shannon</th>\n",
       "      <th>simpson</th>\n",
       "      <th>simpson_inv</th>\n",
       "    </tr>\n",
       "  </thead>\n",
       "  <tbody>\n",
       "    <tr>\n",
       "      <th>0</th>\n",
       "      <td>guys... this is so stupid...</td>\n",
       "      <td>n</td>\n",
       "      <td>n</td>\n",
       "      <td>n</td>\n",
       "      <td>1.747868</td>\n",
       "      <td>0.183673</td>\n",
       "      <td>5.444444</td>\n",
       "    </tr>\n",
       "    <tr>\n",
       "      <th>1</th>\n",
       "      <td>I lost the whole morning cause HBase's RegionS...</td>\n",
       "      <td>n</td>\n",
       "      <td>o</td>\n",
       "      <td>n</td>\n",
       "      <td>3.467994</td>\n",
       "      <td>0.032407</td>\n",
       "      <td>30.857143</td>\n",
       "    </tr>\n",
       "    <tr>\n",
       "      <th>2</th>\n",
       "      <td>{quote}You are messing down deep below hbase i...</td>\n",
       "      <td>n</td>\n",
       "      <td>n</td>\n",
       "      <td>o</td>\n",
       "      <td>2.564949</td>\n",
       "      <td>0.076923</td>\n",
       "      <td>13.000000</td>\n",
       "    </tr>\n",
       "    <tr>\n",
       "      <th>3</th>\n",
       "      <td>And I think if we're going to do a sweep up of...</td>\n",
       "      <td>n</td>\n",
       "      <td>n</td>\n",
       "      <td>o</td>\n",
       "      <td>2.978508</td>\n",
       "      <td>0.052154</td>\n",
       "      <td>19.173913</td>\n",
       "    </tr>\n",
       "    <tr>\n",
       "      <th>4</th>\n",
       "      <td>@idiot Yeah, I was on that idiot-path for a go...</td>\n",
       "      <td>n</td>\n",
       "      <td>n</td>\n",
       "      <td>p</td>\n",
       "      <td>3.262568</td>\n",
       "      <td>0.040000</td>\n",
       "      <td>25.000000</td>\n",
       "    </tr>\n",
       "  </tbody>\n",
       "</table>\n",
       "</div>"
      ],
      "text/plain": [
       "                                            sentence ManualLabel SentiSE  \\\n",
       "0                       guys... this is so stupid...           n       n   \n",
       "1  I lost the whole morning cause HBase's RegionS...           n       o   \n",
       "2  {quote}You are messing down deep below hbase i...           n       n   \n",
       "3  And I think if we're going to do a sweep up of...           n       n   \n",
       "4  @idiot Yeah, I was on that idiot-path for a go...           n       n   \n",
       "\n",
       "  Senti4SD   shannon   simpson  simpson_inv  \n",
       "0        n  1.747868  0.183673     5.444444  \n",
       "1        n  3.467994  0.032407    30.857143  \n",
       "2        o  2.564949  0.076923    13.000000  \n",
       "3        o  2.978508  0.052154    19.173913  \n",
       "4        p  3.262568  0.040000    25.000000  "
      ]
     },
     "execution_count": 41,
     "metadata": {},
     "output_type": "execute_result"
    }
   ],
   "source": [
    "infile = os.path.join(dirDataset, \"DatasetLinJIRAWithToolOutputs.xls\")\n",
    "df = fileutils.readExcel(infile, \"Sheet1\") #pd.read_csv(infile, encoding='ISO-8859-1')\n",
    "df.head()"
   ]
  },
  {
   "cell_type": "code",
   "execution_count": 42,
   "metadata": {
    "collapsed": false
   },
   "outputs": [
    {
     "name": "stdout",
     "output_type": "stream",
     "text": [
      "True\n",
      "\t Shannon: Mean = 1.993. STD = 0.690. Median = 1.946\n",
      "\t Simpson: Mean = 0.173. STD = 0.121. Median = 0.143\n",
      "\t Simpson Inverse: Mean = 9.049. STD = 6.166. Median = 7.000\n",
      "False\n",
      "\t Shannon: Mean = 2.438. STD = 0.606. Median = 2.485\n",
      "\t Simpson: Mean = 0.107. STD = 0.072. Median = 0.086\n",
      "\t Simpson Inverse: Mean = 13.103. STD = 7.199. Median = 11.636\n",
      "Changes between Truth and False.\n",
      "Shannon = 22.320. Simson = -37.925. Inverse Simpson = 44.811\n"
     ]
    }
   ],
   "source": [
    "gt_name = \"ManualLabel\"\n",
    "clf_name = \"SentiSE\"\n",
    "CheckClassifier(df, gt_name, clf_name)"
   ]
  },
  {
   "cell_type": "code",
   "execution_count": 43,
   "metadata": {
    "collapsed": false
   },
   "outputs": [
    {
     "name": "stdout",
     "output_type": "stream",
     "text": [
      "True\n",
      "\t Shannon: Mean = 1.968. STD = 0.685. Median = 1.946\n",
      "\t Simpson: Mean = 0.175. STD = 0.116. Median = 0.143\n",
      "\t Simpson Inverse: Mean = 8.865. STD = 6.334. Median = 7.000\n",
      "False\n",
      "\t Shannon: Mean = 2.261. STD = 0.678. Median = 2.303\n",
      "\t Simpson: Mean = 0.135. STD = 0.110. Median = 0.100\n",
      "\t Simpson Inverse: Mean = 11.438. STD = 6.731. Median = 10.000\n",
      "Changes between Truth and False.\n",
      "Shannon = 14.889. Simson = -22.786. Inverse Simpson = 29.020\n"
     ]
    }
   ],
   "source": [
    "gt_name = \"ManualLabel\"\n",
    "clf_name = \"Senti4SD\"\n",
    "CheckClassifier(df, gt_name, clf_name)"
   ]
  },
  {
   "cell_type": "code",
   "execution_count": 44,
   "metadata": {
    "collapsed": false
   },
   "outputs": [
    {
     "data": {
      "text/html": [
       "<div>\n",
       "<style scoped>\n",
       "    .dataframe tbody tr th:only-of-type {\n",
       "        vertical-align: middle;\n",
       "    }\n",
       "\n",
       "    .dataframe tbody tr th {\n",
       "        vertical-align: top;\n",
       "    }\n",
       "\n",
       "    .dataframe thead th {\n",
       "        text-align: right;\n",
       "    }\n",
       "</style>\n",
       "<table border=\"1\" class=\"dataframe\">\n",
       "  <thead>\n",
       "    <tr style=\"text-align: right;\">\n",
       "      <th></th>\n",
       "      <th>sentence</th>\n",
       "      <th>ManualLabel</th>\n",
       "      <th>SentiSE</th>\n",
       "      <th>Senti4SD</th>\n",
       "      <th>shannon</th>\n",
       "      <th>simpson</th>\n",
       "      <th>simpson_inv</th>\n",
       "    </tr>\n",
       "  </thead>\n",
       "  <tbody>\n",
       "    <tr>\n",
       "      <th>0</th>\n",
       "      <td>But sadly this is not working.</td>\n",
       "      <td>n</td>\n",
       "      <td>n</td>\n",
       "      <td>n</td>\n",
       "      <td>1.945910</td>\n",
       "      <td>0.142857</td>\n",
       "      <td>7.000000</td>\n",
       "    </tr>\n",
       "    <tr>\n",
       "      <th>1</th>\n",
       "      <td>So, everything builds fine, but when we try to...</td>\n",
       "      <td>n</td>\n",
       "      <td>p</td>\n",
       "      <td>p</td>\n",
       "      <td>3.044820</td>\n",
       "      <td>0.050296</td>\n",
       "      <td>19.882353</td>\n",
       "    </tr>\n",
       "    <tr>\n",
       "      <th>2</th>\n",
       "      <td>That is what is causing your null pointer exce...</td>\n",
       "      <td>n</td>\n",
       "      <td>o</td>\n",
       "      <td>o</td>\n",
       "      <td>2.163956</td>\n",
       "      <td>0.120000</td>\n",
       "      <td>8.333333</td>\n",
       "    </tr>\n",
       "    <tr>\n",
       "      <th>3</th>\n",
       "      <td>All attempts I've made were, in a shortcut, un...</td>\n",
       "      <td>n</td>\n",
       "      <td>o</td>\n",
       "      <td>n</td>\n",
       "      <td>2.458311</td>\n",
       "      <td>0.088757</td>\n",
       "      <td>11.266667</td>\n",
       "    </tr>\n",
       "    <tr>\n",
       "      <th>4</th>\n",
       "      <td>Don't use.</td>\n",
       "      <td>n</td>\n",
       "      <td>o</td>\n",
       "      <td>o</td>\n",
       "      <td>1.386294</td>\n",
       "      <td>0.250000</td>\n",
       "      <td>4.000000</td>\n",
       "    </tr>\n",
       "  </tbody>\n",
       "</table>\n",
       "</div>"
      ],
      "text/plain": [
       "                                            sentence ManualLabel SentiSE  \\\n",
       "0                     But sadly this is not working.           n       n   \n",
       "1  So, everything builds fine, but when we try to...           n       p   \n",
       "2  That is what is causing your null pointer exce...           n       o   \n",
       "3  All attempts I've made were, in a shortcut, un...           n       o   \n",
       "4                                         Don't use.           n       o   \n",
       "\n",
       "  Senti4SD   shannon   simpson  simpson_inv  \n",
       "0        n  1.945910  0.142857     7.000000  \n",
       "1        p  3.044820  0.050296    19.882353  \n",
       "2        o  2.163956  0.120000     8.333333  \n",
       "3        n  2.458311  0.088757    11.266667  \n",
       "4        o  1.386294  0.250000     4.000000  "
      ]
     },
     "execution_count": 44,
     "metadata": {},
     "output_type": "execute_result"
    }
   ],
   "source": [
    "infile = os.path.join(dirDataset, \"DatasetLinStackOverflowWithToolOutputs.xls\")\n",
    "df = fileutils.readExcel(infile, \"Sheet1\") #pd.read_csv(infile, encoding='ISO-8859-1')\n",
    "df.head()"
   ]
  },
  {
   "cell_type": "code",
   "execution_count": 45,
   "metadata": {
    "collapsed": false
   },
   "outputs": [
    {
     "name": "stdout",
     "output_type": "stream",
     "text": [
      "True\n",
      "\t Shannon: Mean = 2.313. STD = 0.514. Median = 2.352\n",
      "\t Simpson: Mean = 0.115. STD = 0.065. Median = 0.100\n",
      "\t Simpson Inverse: Mean = 11.114. STD = 5.419. Median = 10.000\n",
      "False\n",
      "\t Shannon: Mean = 2.401. STD = 0.567. Median = 2.485\n",
      "\t Simpson: Mean = 0.109. STD = 0.074. Median = 0.083\n",
      "\t Simpson Inverse: Mean = 12.396. STD = 6.204. Median = 12.000\n",
      "Changes between Truth and False.\n",
      "Shannon = 3.790. Simson = -5.105. Inverse Simpson = 11.538\n"
     ]
    }
   ],
   "source": [
    "gt_name = \"ManualLabel\"\n",
    "clf_name = \"SentiSE\"\n",
    "CheckClassifier(df, gt_name, clf_name)"
   ]
  },
  {
   "cell_type": "code",
   "execution_count": 46,
   "metadata": {
    "collapsed": false
   },
   "outputs": [
    {
     "name": "stdout",
     "output_type": "stream",
     "text": [
      "True\n",
      "\t Shannon: Mean = 2.316. STD = 0.511. Median = 2.352\n",
      "\t Simpson: Mean = 0.115. STD = 0.065. Median = 0.100\n",
      "\t Simpson Inverse: Mean = 11.132. STD = 5.423. Median = 10.000\n",
      "False\n",
      "\t Shannon: Mean = 2.388. STD = 0.576. Median = 2.485\n",
      "\t Simpson: Mean = 0.111. STD = 0.074. Median = 0.085\n",
      "\t Simpson Inverse: Mean = 12.289. STD = 6.180. Median = 11.786\n",
      "Changes between Truth and False.\n",
      "Shannon = 3.105. Simson = -3.372. Inverse Simpson = 10.395\n"
     ]
    }
   ],
   "source": [
    "gt_name = \"ManualLabel\"\n",
    "clf_name = \"Senti4SD\"\n",
    "CheckClassifier(df, gt_name, clf_name)"
   ]
  },
  {
   "cell_type": "code",
   "execution_count": null,
   "metadata": {
    "collapsed": true
   },
   "outputs": [],
   "source": []
  }
 ],
 "metadata": {
  "kernelspec": {
   "display_name": "Python 2",
   "language": "python",
   "name": "python2"
  },
  "language_info": {
   "codemirror_mode": {
    "name": "ipython",
    "version": 2
   },
   "file_extension": ".py",
   "mimetype": "text/x-python",
   "name": "python",
   "nbconvert_exporter": "python",
   "pygments_lexer": "ipython2",
   "version": "2.7.15"
  }
 },
 "nbformat": 4,
 "nbformat_minor": 0
}
