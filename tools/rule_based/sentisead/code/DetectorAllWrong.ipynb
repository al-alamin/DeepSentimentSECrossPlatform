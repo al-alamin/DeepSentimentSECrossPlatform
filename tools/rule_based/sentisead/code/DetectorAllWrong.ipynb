{
 "cells": [
  {
   "cell_type": "code",
   "execution_count": 1,
   "metadata": {},
   "outputs": [],
   "source": [
    "from __future__ import division\n",
    "%load_ext autoreload\n",
    "%autoreload 2\n",
    "from django.conf import settings\n",
    "import cPickle as pickle\n",
    "import csv\n",
    "import os\n",
    "import sys\n",
    "import numpy as np\n",
    "import pandas as pd\n",
    "sys.path.append('c:\\dev\\opinion\\opinion\\python\\opinion')\n",
    "import utils.fileutils as fileutils\n",
    "import utils.metrics as metrics\n",
    "import nltk"
   ]
  },
  {
   "cell_type": "code",
   "execution_count": 4,
   "metadata": {},
   "outputs": [],
   "source": [
    "# First preapre the Target Variable\n",
    "indir = r\"C:\\dev\\opinion\\papers\\sentiplus\\sentisead2\"\n",
    "infile = os.path.join(indir, \"Consolidated.xls\")\n",
    "def isAllWrong(truth, sent4sd, senticr, sentise):\n",
    "    if truth not in [senti4sd, senticr, sentise]:\n",
    "        return 1\n",
    "    else:\n",
    "        return 0\n",
    "labels = []\n",
    "df = pd.read_excel(infile, encoding=\"ISO-8859-1\")\n",
    "for index, row in df.iterrows():\n",
    "    truth = row[\"ManualLabel\"]\n",
    "    dso = row[\"DsoLabelFullText\"]\n",
    "    senti4sd = row[\"Senti4SD\"]\n",
    "    senticr = row[\"SentiCR\"]\n",
    "    sentise = row[\"SentistrengthSE\"]\n",
    "    iswrong = isAllWrong(truth, senti4sd, senticr, sentise)\n",
    "    labels.append(iswrong)\n",
    "df[\"AllWrong\"] = (pd.Series(labels)).values\n",
    "df.to_excel(infile, encoding=\"ISO-8859-1\", index=False)"
   ]
  },
  {
   "cell_type": "markdown",
   "metadata": {},
   "source": [
    "# Now check the performance"
   ]
  },
  {
   "cell_type": "code",
   "execution_count": 5,
   "metadata": {},
   "outputs": [],
   "source": [
    "import sentiplus.TrialTwoHybrid.DetectAllWrong as daw"
   ]
  },
  {
   "cell_type": "code",
   "execution_count": 6,
   "metadata": {},
   "outputs": [],
   "source": [
    "clf = daw.DetectorAllWrong()\n",
    "clf.prepareTrainTestFiles()"
   ]
  },
  {
   "cell_type": "code",
   "execution_count": 12,
   "metadata": {},
   "outputs": [
    {
     "name": "stdout",
     "output_type": "stream",
     "text": [
      "('Algo = ', 'MLPC')\n",
      "Training ....\n",
      "Reading data from oracle..\n",
      "Training classifier model..\n",
      "('saving model ', 'C:\\\\dev\\\\opinion\\\\papers\\\\sentiplus\\\\sentisead2\\\\AllWrong\\\\DetectotAllWrong_MLPC\\\\BenchmarkUddinSO_Train_model.pkl')\n",
      "('Algo = ', 'MLPC')\n",
      "Training ....\n",
      "Reading data from oracle..\n",
      "Training classifier model..\n",
      "('saving model ', 'C:\\\\dev\\\\opinion\\\\papers\\\\sentiplus\\\\sentisead2\\\\AllWrong\\\\DetectotAllWrong_MLPC\\\\DatasetLinAppReviews_Train_model.pkl')\n",
      "('Algo = ', 'MLPC')\n",
      "Training ....\n",
      "Reading data from oracle..\n",
      "Training classifier model..\n",
      "('saving model ', 'C:\\\\dev\\\\opinion\\\\papers\\\\sentiplus\\\\sentisead2\\\\AllWrong\\\\DetectotAllWrong_MLPC\\\\DatasetLinJIRA_Train_model.pkl')\n",
      "('Algo = ', 'MLPC')\n",
      "Training ....\n",
      "Reading data from oracle..\n",
      "Training classifier model..\n",
      "('saving model ', 'C:\\\\dev\\\\opinion\\\\papers\\\\sentiplus\\\\sentisead2\\\\AllWrong\\\\DetectotAllWrong_MLPC\\\\DatasetLinSO_Train_model.pkl')\n",
      "('Algo = ', 'MLPC')\n",
      "Training ....\n",
      "Reading data from oracle..\n",
      "Training classifier model..\n",
      "('saving model ', 'C:\\\\dev\\\\opinion\\\\papers\\\\sentiplus\\\\sentisead2\\\\AllWrong\\\\DetectotAllWrong_MLPC\\\\DatasetSenti4SDSO_Train_model.pkl')\n"
     ]
    }
   ],
   "source": [
    "algo = \"MLPC\"\n",
    "clf = daw.DetectorAllWrong()\n",
    "clf.trainTestClassifier(algo)"
   ]
  },
  {
   "cell_type": "code",
   "execution_count": 13,
   "metadata": {},
   "outputs": [],
   "source": [
    "algo = \"MLPC\"\n",
    "clf = daw.DetectorAllWrong()\n",
    "clf.consolidateResults(algo)"
   ]
  },
  {
   "cell_type": "code",
   "execution_count": 14,
   "metadata": {},
   "outputs": [
    {
     "name": "stdout",
     "output_type": "stream",
     "text": [
      "Label = 0. Precision = 0.916. Recall = 0.930. F1 = 0.923\n",
      "Label = 1. Precision = 0.555. Recall = 0.505. F1 = 0.529\n",
      "F1 Macro = 0.726. Micro = 0.867\n",
      "Macro Precision = 0.735. Recall = 0.717\n",
      "-------------------------------\n"
     ]
    }
   ],
   "source": [
    "algo = \"MLPC\"\n",
    "clf = daw.DetectorAllWrong()\n",
    "clf.computePerformanceOverallOfLearner(algo)"
   ]
  },
  {
   "cell_type": "code",
   "execution_count": 15,
   "metadata": {},
   "outputs": [
    {
     "name": "stdout",
     "output_type": "stream",
     "text": [
      "File BenchmarkUddinSO. Label = 0. Precision = 0.88. Recall = 0.89. F1 = 0.88\n",
      "File BenchmarkUddinSO. Label = 1. Precision = 0.69. Recall = 0.66. F1 = 0.67\n",
      "File = BenchmarkUddinSO. F1 Macro = 0.78. Micro = 0.83\n",
      "-------------------------------\n",
      "File DatasetLinAppReviews. Label = 0. Precision = 0.89. Recall = 0.97. F1 = 0.93\n",
      "File DatasetLinAppReviews. Label = 1. Precision = 0.25. Recall = 0.08. F1 = 0.12\n",
      "File = DatasetLinAppReviews. F1 Macro = 0.55. Micro = 0.86\n",
      "-------------------------------\n",
      "File DatasetLinJIRA. Label = 0. Precision = 1.00. Recall = 1.00. F1 = 1.00\n",
      "File DatasetLinJIRA. Label = 1. Precision = nan. Recall = 0.00. F1 = nan\n",
      "File = DatasetLinJIRA. F1 Macro = 0.50. Micro = 1.00\n",
      "-------------------------------\n",
      "File DatasetLinSO. Label = 0. Precision = 0.89. Recall = 0.88. F1 = 0.89\n",
      "File DatasetLinSO. Label = 1. Precision = 0.16. Recall = 0.17. F1 = 0.17\n",
      "File = DatasetLinSO. F1 Macro = 0.53. Micro = 0.80\n",
      "-------------------------------\n",
      "File DatasetSenti4SDSO. Label = 0. Precision = 0.94. Recall = 0.96. F1 = 0.95\n",
      "File DatasetSenti4SDSO. Label = 1. Precision = 0.17. Recall = 0.11. F1 = 0.14\n",
      "File = DatasetSenti4SDSO. F1 Macro = 0.55. Micro = 0.90\n",
      "-------------------------------\n"
     ]
    }
   ],
   "source": [
    "algo = \"MLPC\"\n",
    "clf = daw.DetectorAllWrong()\n",
    "clf.computePerformancOfLearner(algo)"
   ]
  },
  {
   "cell_type": "code",
   "execution_count": 16,
   "metadata": {},
   "outputs": [
    {
     "name": "stdout",
     "output_type": "stream",
     "text": [
      "('Algo = ', 'RF')\n",
      "Training ....\n",
      "Reading data from oracle..\n",
      "Training classifier model..\n"
     ]
    },
    {
     "name": "stderr",
     "output_type": "stream",
     "text": [
      "C:\\anaconda3\\envs\\opinion2\\lib\\site-packages\\sklearn\\ensemble\\forest.py:246: FutureWarning: The default value of n_estimators will change from 10 in version 0.20 to 100 in 0.22.\n",
      "  \"10 in version 0.20 to 100 in 0.22.\", FutureWarning)\n"
     ]
    },
    {
     "name": "stdout",
     "output_type": "stream",
     "text": [
      "('saving model ', 'C:\\\\dev\\\\opinion\\\\papers\\\\sentiplus\\\\sentisead2\\\\AllWrong\\\\DetectotAllWrong_RF\\\\BenchmarkUddinSO_Train_model.pkl')\n",
      "('Algo = ', 'RF')\n",
      "Training ....\n",
      "Reading data from oracle..\n",
      "Training classifier model..\n",
      "('saving model ', 'C:\\\\dev\\\\opinion\\\\papers\\\\sentiplus\\\\sentisead2\\\\AllWrong\\\\DetectotAllWrong_RF\\\\DatasetLinAppReviews_Train_model.pkl')\n",
      "('Algo = ', 'RF')\n",
      "Training ....\n",
      "Reading data from oracle..\n",
      "Training classifier model..\n",
      "('saving model ', 'C:\\\\dev\\\\opinion\\\\papers\\\\sentiplus\\\\sentisead2\\\\AllWrong\\\\DetectotAllWrong_RF\\\\DatasetLinJIRA_Train_model.pkl')\n",
      "('Algo = ', 'RF')\n",
      "Training ....\n",
      "Reading data from oracle..\n",
      "Training classifier model..\n",
      "('saving model ', 'C:\\\\dev\\\\opinion\\\\papers\\\\sentiplus\\\\sentisead2\\\\AllWrong\\\\DetectotAllWrong_RF\\\\DatasetLinSO_Train_model.pkl')\n",
      "('Algo = ', 'RF')\n",
      "Training ....\n",
      "Reading data from oracle..\n",
      "Training classifier model..\n",
      "('saving model ', 'C:\\\\dev\\\\opinion\\\\papers\\\\sentiplus\\\\sentisead2\\\\AllWrong\\\\DetectotAllWrong_RF\\\\DatasetSenti4SDSO_Train_model.pkl')\n"
     ]
    }
   ],
   "source": [
    "algo = \"RF\"\n",
    "clf = daw.DetectorAllWrong()\n",
    "clf.trainTestClassifier(algo)"
   ]
  },
  {
   "cell_type": "code",
   "execution_count": 17,
   "metadata": {},
   "outputs": [],
   "source": [
    "algo = \"RF\"\n",
    "clf = daw.DetectorAllWrong()\n",
    "clf.consolidateResults(algo)"
   ]
  },
  {
   "cell_type": "code",
   "execution_count": 18,
   "metadata": {},
   "outputs": [
    {
     "name": "stdout",
     "output_type": "stream",
     "text": [
      "Label = 0. Precision = 0.902. Recall = 0.975. F1 = 0.937\n",
      "Label = 1. Precision = 0.729. Recall = 0.389. F1 = 0.508\n",
      "F1 Macro = 0.743. Micro = 0.888\n",
      "Macro Precision = 0.816. Recall = 0.682\n",
      "-------------------------------\n"
     ]
    }
   ],
   "source": [
    "algo = \"RF\"\n",
    "clf = daw.DetectorAllWrong()\n",
    "clf.computePerformanceOverallOfLearner(algo)"
   ]
  },
  {
   "cell_type": "code",
   "execution_count": 19,
   "metadata": {},
   "outputs": [
    {
     "name": "stdout",
     "output_type": "stream",
     "text": [
      "('Algo = ', 'GBT')\n",
      "Training ....\n",
      "Reading data from oracle..\n",
      "Training classifier model..\n",
      "('saving model ', 'C:\\\\dev\\\\opinion\\\\papers\\\\sentiplus\\\\sentisead2\\\\AllWrong\\\\DetectotAllWrong_GBT\\\\BenchmarkUddinSO_Train_model.pkl')\n",
      "('Algo = ', 'GBT')\n",
      "Training ....\n",
      "Reading data from oracle..\n",
      "Training classifier model..\n",
      "('saving model ', 'C:\\\\dev\\\\opinion\\\\papers\\\\sentiplus\\\\sentisead2\\\\AllWrong\\\\DetectotAllWrong_GBT\\\\DatasetLinAppReviews_Train_model.pkl')\n",
      "('Algo = ', 'GBT')\n",
      "Training ....\n",
      "Reading data from oracle..\n",
      "Training classifier model..\n",
      "('saving model ', 'C:\\\\dev\\\\opinion\\\\papers\\\\sentiplus\\\\sentisead2\\\\AllWrong\\\\DetectotAllWrong_GBT\\\\DatasetLinJIRA_Train_model.pkl')\n",
      "('Algo = ', 'GBT')\n",
      "Training ....\n",
      "Reading data from oracle..\n",
      "Training classifier model..\n",
      "('saving model ', 'C:\\\\dev\\\\opinion\\\\papers\\\\sentiplus\\\\sentisead2\\\\AllWrong\\\\DetectotAllWrong_GBT\\\\DatasetLinSO_Train_model.pkl')\n",
      "('Algo = ', 'GBT')\n",
      "Training ....\n",
      "Reading data from oracle..\n",
      "Training classifier model..\n",
      "('saving model ', 'C:\\\\dev\\\\opinion\\\\papers\\\\sentiplus\\\\sentisead2\\\\AllWrong\\\\DetectotAllWrong_GBT\\\\DatasetSenti4SDSO_Train_model.pkl')\n"
     ]
    }
   ],
   "source": [
    "algo = \"GBT\"\n",
    "clf = daw.DetectorAllWrong()\n",
    "clf.trainTestClassifier(algo)"
   ]
  },
  {
   "cell_type": "code",
   "execution_count": 20,
   "metadata": {},
   "outputs": [],
   "source": [
    "algo = \"GBT\"\n",
    "clf = daw.DetectorAllWrong()\n",
    "clf.consolidateResults(algo)"
   ]
  },
  {
   "cell_type": "code",
   "execution_count": 21,
   "metadata": {},
   "outputs": [
    {
     "name": "stdout",
     "output_type": "stream",
     "text": [
      "Label = 0. Precision = 0.906. Recall = 0.954. F1 = 0.929\n",
      "Label = 1. Precision = 0.615. Recall = 0.428. F1 = 0.505\n",
      "F1 Macro = 0.724. Micro = 0.876\n",
      "Macro Precision = 0.760. Recall = 0.691\n",
      "-------------------------------\n"
     ]
    }
   ],
   "source": [
    "algo = \"GBT\"\n",
    "clf = daw.DetectorAllWrong()\n",
    "clf.computePerformanceOverallOfLearner(algo)"
   ]
  },
  {
   "cell_type": "code",
   "execution_count": null,
   "metadata": {},
   "outputs": [],
   "source": []
  }
 ],
 "metadata": {
  "kernelspec": {
   "display_name": "Python 2",
   "language": "python",
   "name": "python2"
  },
  "language_info": {
   "codemirror_mode": {
    "name": "ipython",
    "version": 2
   },
   "file_extension": ".py",
   "mimetype": "text/x-python",
   "name": "python",
   "nbconvert_exporter": "python",
   "pygments_lexer": "ipython2",
   "version": "2.7.15"
  }
 },
 "nbformat": 4,
 "nbformat_minor": 2
}
