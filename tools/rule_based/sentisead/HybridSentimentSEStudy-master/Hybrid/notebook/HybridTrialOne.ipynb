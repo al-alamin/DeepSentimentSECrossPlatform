{
 "cells": [
  {
   "cell_type": "code",
   "execution_count": 3,
   "metadata": {},
   "outputs": [],
   "source": [
    "from __future__ import division\n",
    "%load_ext autoreload\n",
    "%autoreload 2\n",
    "from django.conf import settings\n",
    "import cPickle as pickle\n",
    "import csv\n",
    "import os\n",
    "import sys\n",
    "import numpy as np\n",
    "import pandas as pd\n",
    "sys.path.append('c:\\dev\\opinion\\opinion\\python\\opinion')\n",
    "import utils.fileutils as fileutils\n",
    "import utils.metrics as metrics\n",
    "import nltk"
   ]
  },
  {
   "cell_type": "code",
   "execution_count": 4,
   "metadata": {},
   "outputs": [],
   "source": [
    "rootdir = r\"C:\\dev\\opinion\\papers\\sentiplus\"\n",
    "indir = os.path.join(rootdir, \"Hybrid\")"
   ]
  },
  {
   "cell_type": "markdown",
   "metadata": {},
   "source": [
    "# Compute and Encode Feature Values"
   ]
  },
  {
   "cell_type": "code",
   "execution_count": 5,
   "metadata": {},
   "outputs": [],
   "source": [
    "import sentiplus.Hybrid.Features as feats\n",
    "import sentiplus.Hybrid.SentiseadTenFold as seadTen"
   ]
  },
  {
   "cell_type": "code",
   "execution_count": 5,
   "metadata": {},
   "outputs": [],
   "source": [
    "infile = \"ConsolidatedWithBestTrainedClfsFromThreeSETools.xls\"\n",
    "infile = os.path.join(indir, infile)\n",
    "prep = feats.PrepareFeatureValuesForClassification()\n",
    "prep.computeAndEncodeDiversityScores(infile, infile)"
   ]
  },
  {
   "cell_type": "markdown",
   "metadata": {},
   "source": [
    "# Train and Test Classsifier 10 Fold"
   ]
  },
  {
   "cell_type": "code",
   "execution_count": 16,
   "metadata": {},
   "outputs": [
    {
     "name": "stdout",
     "output_type": "stream",
     "text": [
      "Label = p. Precision = 0.773. Recall = 0.692. F1 = 0.731\n",
      "Label = o. Precision = 0.783. Recall = 0.865. F1 = 0.822\n",
      "Label = n. Precision = 0.748. Recall = 0.640. F1 = 0.690\n",
      "F1 Macro = 0.750. Micro = 0.774\n",
      "Macro Precision = 0.768. Recall = 0.732\n",
      "-------------------------------\n"
     ]
    }
   ],
   "source": [
    "algo = \"RF\"\n",
    "learnerCol = \"Senti4SD\"\n",
    "sead = seadTen.Sentisead()\n",
    "sead.computePerformanceOverallOfLearner(algo, learnerCol)"
   ]
  },
  {
   "cell_type": "code",
   "execution_count": 17,
   "metadata": {},
   "outputs": [
    {
     "name": "stdout",
     "output_type": "stream",
     "text": [
      "Label = p. Precision = 0.803. Recall = 0.667. F1 = 0.728\n",
      "Label = o. Precision = 0.767. Recall = 0.903. F1 = 0.830\n",
      "Label = n. Precision = 0.804. Recall = 0.599. F1 = 0.687\n",
      "F1 Macro = 0.756. Micro = 0.780\n",
      "Macro Precision = 0.791. Recall = 0.723\n",
      "-------------------------------\n"
     ]
    }
   ],
   "source": [
    "algo = \"RF\"\n",
    "learnerCol = \"SentiCR\"\n",
    "sead = seadTen.Sentisead()\n",
    "sead.computePerformanceOverallOfLearner(algo, learnerCol)"
   ]
  },
  {
   "cell_type": "code",
   "execution_count": 18,
   "metadata": {},
   "outputs": [
    {
     "name": "stdout",
     "output_type": "stream",
     "text": [
      "Label = p. Precision = 0.752. Recall = 0.690. F1 = 0.720\n",
      "Label = o. Precision = 0.750. Recall = 0.847. F1 = 0.795\n",
      "Label = n. Precision = 0.736. Recall = 0.566. F1 = 0.640\n",
      "F1 Macro = 0.723. Micro = 0.748\n",
      "Macro Precision = 0.746. Recall = 0.701\n",
      "-------------------------------\n"
     ]
    }
   ],
   "source": [
    "algo = \"RF\"\n",
    "learnerCol = \"SentistrengthSE\"\n",
    "sead = seadTen.Sentisead()\n",
    "sead.computePerformanceOverallOfLearner(algo, learnerCol)"
   ]
  },
  {
   "cell_type": "code",
   "execution_count": 15,
   "metadata": {},
   "outputs": [
    {
     "name": "stdout",
     "output_type": "stream",
     "text": [
      "Label = p. Precision = 0.689. Recall = 0.803. F1 = 0.742\n",
      "Label = o. Precision = 0.857. Recall = 0.720. F1 = 0.783\n",
      "Label = n. Precision = 0.636. Recall = 0.772. F1 = 0.698\n",
      "F1 Macro = 0.746. Micro = 0.752\n",
      "Macro Precision = 0.727. Recall = 0.765\n",
      "-------------------------------\n"
     ]
    }
   ],
   "source": [
    "# with diversity bin\n",
    "algo = \"RF\"\n",
    "learnerCol = \"Opinese\"\n",
    "sead = seadTen.Sentisead()\n",
    "sead.computePerformanceOverallOfLearner(algo, learnerCol)"
   ]
  },
  {
   "cell_type": "code",
   "execution_count": 22,
   "metadata": {},
   "outputs": [
    {
     "name": "stdout",
     "output_type": "stream",
     "text": [
      "Label = p. Precision = 0.689. Recall = 0.800. F1 = 0.741\n",
      "Label = o. Precision = 0.856. Recall = 0.717. F1 = 0.781\n",
      "Label = n. Precision = 0.632. Recall = 0.773. F1 = 0.695\n",
      "F1 Macro = 0.744. Micro = 0.750\n",
      "Macro Precision = 0.726. Recall = 0.764\n",
      "-------------------------------\n"
     ]
    }
   ],
   "source": [
    "# with diversity actual values\n",
    "algo = \"RF\"\n",
    "learnerCol = \"Opinese\"\n",
    "sead = seadTen.Sentisead()\n",
    "sead.computePerformanceOverallOfLearner(algo, learnerCol)"
   ]
  },
  {
   "cell_type": "markdown",
   "metadata": {},
   "source": [
    "## Prep train test files"
   ]
  },
  {
   "cell_type": "code",
   "execution_count": 10,
   "metadata": {},
   "outputs": [],
   "source": [
    "sead = seadTen.Sentisead()\n",
    "sead.prepareTrainTestFiles()"
   ]
  },
  {
   "cell_type": "markdown",
   "metadata": {},
   "source": [
    "## Train Test"
   ]
  },
  {
   "cell_type": "code",
   "execution_count": 5,
   "metadata": {},
   "outputs": [
    {
     "name": "stdout",
     "output_type": "stream",
     "text": [
      "Label = p. Precision = 0.773. Recall = 0.709. F1 = 0.740\n",
      "Label = o. Precision = 0.796. Recall = 0.842. F1 = 0.819\n",
      "Label = n. Precision = 0.720. Recall = 0.684. F1 = 0.701\n",
      "F1 Macro = 0.754. Micro = 0.775\n",
      "Macro Precision = 0.763. Recall = 0.745\n",
      "-------------------------------\n"
     ]
    }
   ],
   "source": [
    "# with diversity actual values and all the preprocessing\n",
    "algo = \"GBT\"\n",
    "learnerCol = \"Opinese\"\n",
    "sead = seadTen.Sentisead(rootdir=rootdir)\n",
    "sead.computePerformanceOverallOfLearner(algo, learnerCol)"
   ]
  },
  {
   "cell_type": "code",
   "execution_count": 6,
   "metadata": {},
   "outputs": [
    {
     "name": "stdout",
     "output_type": "stream",
     "text": [
      "Label = p. Precision = 0.698. Recall = 0.706. F1 = 0.702\n",
      "Label = o. Precision = 0.795. Recall = 0.768. F1 = 0.781\n",
      "Label = n. Precision = 0.640. Recall = 0.687. F1 = 0.663\n",
      "F1 Macro = 0.716. Micro = 0.736\n",
      "Macro Precision = 0.711. Recall = 0.720\n",
      "-------------------------------\n"
     ]
    }
   ],
   "source": [
    "# with diversity actual values and all the preprocessing\n",
    "algo = \"MLPC\"\n",
    "learnerCol = \"Opinese\"\n",
    "sead = seadTen.Sentisead(rootdir=rootdir)\n",
    "sead.computePerformanceOverallOfLearner(algo, learnerCol)"
   ]
  },
  {
   "cell_type": "code",
   "execution_count": 7,
   "metadata": {},
   "outputs": [
    {
     "name": "stdout",
     "output_type": "stream",
     "text": [
      "Label = p. Precision = 0.806. Recall = 0.693. F1 = 0.745\n",
      "Label = o. Precision = 0.795. Recall = 0.863. F1 = 0.827\n",
      "Label = n. Precision = 0.728. Recall = 0.689. F1 = 0.708\n",
      "F1 Macro = 0.762. Micro = 0.784\n",
      "Macro Precision = 0.776. Recall = 0.748\n",
      "-------------------------------\n"
     ]
    }
   ],
   "source": [
    "# with diversity bin and no preprocessing of text\n",
    "algo = \"RF\"\n",
    "learnerCol = \"Opinese\"\n",
    "sead = seadTen.Sentisead(rootdir=rootdir)\n",
    "sead.computePerformanceOverallOfLearner(algo, learnerCol)"
   ]
  },
  {
   "cell_type": "code",
   "execution_count": 9,
   "metadata": {},
   "outputs": [
    {
     "name": "stdout",
     "output_type": "stream",
     "text": [
      "Label = p. Precision = 0.770. Recall = 0.711. F1 = 0.739\n",
      "Label = o. Precision = 0.797. Recall = 0.843. F1 = 0.819\n",
      "Label = n. Precision = 0.719. Recall = 0.679. F1 = 0.699\n",
      "F1 Macro = 0.753. Micro = 0.775\n",
      "Macro Precision = 0.762. Recall = 0.744\n",
      "-------------------------------\n"
     ]
    }
   ],
   "source": [
    "# with diversity bin and no preprocessing of text\n",
    "algo = \"GBT\"\n",
    "learnerCol = \"Opinese\"\n",
    "sead = seadTen.Sentisead(rootdir=rootdir)\n",
    "sead.computePerformanceOverallOfLearner(algo, learnerCol)"
   ]
  },
  {
   "cell_type": "code",
   "execution_count": 11,
   "metadata": {},
   "outputs": [
    {
     "name": "stdout",
     "output_type": "stream",
     "text": [
      "Label = p. Precision = 0.806. Recall = 0.687. F1 = 0.742\n",
      "Label = o. Precision = 0.797. Recall = 0.857. F1 = 0.826\n",
      "Label = n. Precision = 0.716. Recall = 0.700. F1 = 0.708\n",
      "F1 Macro = 0.760. Micro = 0.782\n",
      "Macro Precision = 0.773. Recall = 0.748\n",
      "-------------------------------\n"
     ]
    }
   ],
   "source": [
    "# with diversity bin and preprocessing of text without negation handling\n",
    "algo = \"RF\"\n",
    "learnerCol = \"Opinese\"\n",
    "sead = seadTen.Sentisead(rootdir=rootdir)\n",
    "sead.computePerformanceOverallOfLearner(algo, learnerCol)"
   ]
  },
  {
   "cell_type": "code",
   "execution_count": 12,
   "metadata": {},
   "outputs": [
    {
     "name": "stdout",
     "output_type": "stream",
     "text": [
      "Label = p. Precision = 0.801. Recall = 0.690. F1 = 0.741\n",
      "Label = o. Precision = 0.796. Recall = 0.856. F1 = 0.825\n",
      "Label = n. Precision = 0.729. Recall = 0.706. F1 = 0.717\n",
      "F1 Macro = 0.763. Micro = 0.783\n",
      "Macro Precision = 0.775. Recall = 0.751\n",
      "-------------------------------\n"
     ]
    }
   ],
   "source": [
    "# with diversity score and preprocessing of text without negation handling\n",
    "algo = \"RF\"\n",
    "learnerCol = \"Opinese\"\n",
    "sead = seadTen.Sentisead(rootdir=rootdir)\n",
    "sead.computePerformanceOverallOfLearner(algo, learnerCol)"
   ]
  },
  {
   "cell_type": "code",
   "execution_count": 14,
   "metadata": {},
   "outputs": [
    {
     "name": "stderr",
     "output_type": "stream",
     "text": [
      "c:\\dev\\opinion\\opinion\\python\\opinion\\sentiplus\\Hybrid\\SentiseadTenFold.py:218: RuntimeWarning: invalid value encountered in double_scalars\n",
      "  f1 = 2*pr*re/(pr+re)\n",
      "\n"
     ]
    },
    {
     "name": "stdout",
     "output_type": "stream",
     "text": [
      "File DatasetLinJIRA. Label = p. Precision = 0.95. Recall = 0.93. F1 = 0.94\n",
      "File DatasetLinJIRA. Label = n. Precision = 0.97. Recall = 0.98. F1 = 0.97\n",
      "File = DatasetLinJIRA. F1 Macro = 0.96. Micro = 0.96\n",
      "-------------------------------\n",
      "File BenchmarkUddinSO. Label = p. Precision = 0.49. Recall = 0.24. F1 = 0.33\n",
      "File BenchmarkUddinSO. Label = o. Precision = 0.66. Recall = 0.82. F1 = 0.73\n",
      "File BenchmarkUddinSO. Label = n. Precision = 0.43. Recall = 0.37. F1 = 0.40\n",
      "File = BenchmarkUddinSO. F1 Macro = 0.50. Micro = 0.61\n",
      "-------------------------------\n",
      "File DatasetLinAppReviews. Label = p. Precision = 0.82. Recall = 0.89. F1 = 0.85\n",
      "File DatasetLinAppReviews. Label = o. Precision = 0.00. Recall = 0.00. F1 = nan\n",
      "File DatasetLinAppReviews. Label = n. Precision = 0.81. Recall = 0.81. F1 = 0.81\n",
      "File = DatasetLinAppReviews. F1 Macro = 0.55. Micro = 0.79\n",
      "-------------------------------\n",
      "File DatasetLinSO. Label = p. Precision = 0.51. Recall = 0.31. F1 = 0.38\n",
      "File DatasetLinSO. Label = o. Precision = 0.87. Recall = 0.94. F1 = 0.90\n",
      "File DatasetLinSO. Label = n. Precision = 0.60. Recall = 0.44. F1 = 0.51\n",
      "File = DatasetLinSO. F1 Macro = 0.61. Micro = 0.82\n",
      "-------------------------------\n",
      "File DatasetSenti4SDSO. Label = p. Precision = 0.91. Recall = 0.93. F1 = 0.92\n",
      "File DatasetSenti4SDSO. Label = o. Precision = 0.84. Recall = 0.77. F1 = 0.81\n",
      "File DatasetSenti4SDSO. Label = n. Precision = 0.78. Recall = 0.84. F1 = 0.81\n",
      "File = DatasetSenti4SDSO. F1 Macro = 0.84. Micro = 0.85\n",
      "-------------------------------\n",
      "File OrtuJIRA. Label = p. Precision = 0.78. Recall = 0.73. F1 = 0.75\n",
      "File OrtuJIRA. Label = o. Precision = 0.87. Recall = 0.89. F1 = 0.88\n",
      "File OrtuJIRA. Label = n. Precision = 0.73. Recall = 0.68. F1 = 0.71\n",
      "File = OrtuJIRA. F1 Macro = 0.78. Micro = 0.83\n",
      "-------------------------------\n"
     ]
    }
   ],
   "source": [
    "# with diversity score and preprocessing of text without negation handling\n",
    "algo = \"RF\"\n",
    "learnerCol = \"Opinese\"\n",
    "sead = seadTen.Sentisead(rootdir=rootdir)\n",
    "sead.computePerformancOfLearner(algo, learnerCol)"
   ]
  },
  {
   "cell_type": "code",
   "execution_count": 16,
   "metadata": {},
   "outputs": [
    {
     "name": "stdout",
     "output_type": "stream",
     "text": [
      "File DatasetLinJIRA. Label = p. Precision = 0.95. Recall = 0.99. F1 = 0.97\n",
      "File DatasetLinJIRA. Label = n. Precision = 1.00. Recall = 0.97. F1 = 0.98\n",
      "File = DatasetLinJIRA. F1 Macro = 0.98. Micro = 0.98\n",
      "-------------------------------\n",
      "File BenchmarkUddinSO. Label = p. Precision = 0.49. Recall = 0.22. F1 = 0.31\n",
      "File BenchmarkUddinSO. Label = o. Precision = 0.63. Recall = 0.89. F1 = 0.74\n",
      "File BenchmarkUddinSO. Label = n. Precision = 0.43. Recall = 0.15. F1 = 0.23\n",
      "File = BenchmarkUddinSO. F1 Macro = 0.46. Micro = 0.60\n",
      "-------------------------------\n",
      "File DatasetLinAppReviews. Label = p. Precision = 0.74. Recall = 0.82. F1 = 0.78\n",
      "File DatasetLinAppReviews. Label = o. Precision = 0.11. Recall = 0.40. F1 = 0.17\n",
      "File DatasetLinAppReviews. Label = n. Precision = 0.93. Recall = 0.30. F1 = 0.45\n",
      "File = DatasetLinAppReviews. F1 Macro = 0.55. Micro = 0.59\n",
      "-------------------------------\n",
      "File DatasetLinSO. Label = p. Precision = 0.31. Recall = 0.22. F1 = 0.26\n",
      "File DatasetLinSO. Label = o. Precision = 0.82. Recall = 0.93. F1 = 0.87\n",
      "File DatasetLinSO. Label = n. Precision = 0.49. Recall = 0.18. F1 = 0.26\n",
      "File = DatasetLinSO. F1 Macro = 0.49. Micro = 0.78\n",
      "-------------------------------\n",
      "File DatasetSenti4SDSO. Label = p. Precision = 0.91. Recall = 0.82. F1 = 0.86\n",
      "File DatasetSenti4SDSO. Label = o. Precision = 0.73. Recall = 0.79. F1 = 0.75\n",
      "File DatasetSenti4SDSO. Label = n. Precision = 0.76. Recall = 0.76. F1 = 0.76\n",
      "File = DatasetSenti4SDSO. F1 Macro = 0.79. Micro = 0.79\n",
      "-------------------------------\n",
      "File OrtuJIRA. Label = p. Precision = 0.69. Recall = 0.92. F1 = 0.78\n",
      "File OrtuJIRA. Label = o. Precision = 0.92. Recall = 0.82. F1 = 0.87\n",
      "File OrtuJIRA. Label = n. Precision = 0.68. Recall = 0.73. F1 = 0.71\n",
      "File = OrtuJIRA. F1 Macro = 0.79. Micro = 0.83\n",
      "-------------------------------\n"
     ]
    }
   ],
   "source": [
    "# with diversity score and preprocessing of text without negation handling\n",
    "algo = \"RF\"\n",
    "learnerCol = \"SentistrengthSE\"\n",
    "sead = seadTen.Sentisead(rootdir=rootdir)\n",
    "sead.computePerformancOfLearner(algo, learnerCol)"
   ]
  },
  {
   "cell_type": "code",
   "execution_count": 15,
   "metadata": {},
   "outputs": [
    {
     "name": "stdout",
     "output_type": "stream",
     "text": [
      "File DatasetLinJIRA. Label = p. Precision = 0.91. Recall = 0.94. F1 = 0.93\n",
      "File DatasetLinJIRA. Label = n. Precision = 0.97. Recall = 0.96. F1 = 0.97\n",
      "File = DatasetLinJIRA. F1 Macro = 0.95. Micro = 0.95\n",
      "-------------------------------\n",
      "File BenchmarkUddinSO. Label = p. Precision = 0.48. Recall = 0.29. F1 = 0.36\n",
      "File BenchmarkUddinSO. Label = o. Precision = 0.66. Recall = 0.85. F1 = 0.75\n",
      "File BenchmarkUddinSO. Label = n. Precision = 0.46. Recall = 0.27. F1 = 0.34\n",
      "File = BenchmarkUddinSO. F1 Macro = 0.50. Micro = 0.62\n",
      "-------------------------------\n",
      "File DatasetLinAppReviews. Label = p. Precision = 0.83. Recall = 0.89. F1 = 0.86\n",
      "File DatasetLinAppReviews. Label = o. Precision = 0.00. Recall = 0.00. F1 = nan\n",
      "File DatasetLinAppReviews. Label = n. Precision = 0.78. Recall = 0.83. F1 = 0.80\n",
      "File = DatasetLinAppReviews. F1 Macro = 0.55. Micro = 0.80\n",
      "-------------------------------\n",
      "File DatasetLinSO. Label = p. Precision = 0.56. Recall = 0.23. F1 = 0.32\n",
      "File DatasetLinSO. Label = o. Precision = 0.86. Recall = 0.95. F1 = 0.90\n",
      "File DatasetLinSO. Label = n. Precision = 0.55. Recall = 0.38. F1 = 0.45\n",
      "File = DatasetLinSO. F1 Macro = 0.58. Micro = 0.82\n",
      "-------------------------------\n",
      "File DatasetSenti4SDSO. Label = p. Precision = 0.90. Recall = 0.92. F1 = 0.91\n",
      "File DatasetSenti4SDSO. Label = o. Precision = 0.82. Recall = 0.78. F1 = 0.80\n",
      "File DatasetSenti4SDSO. Label = n. Precision = 0.79. Recall = 0.82. F1 = 0.80\n",
      "File = DatasetSenti4SDSO. F1 Macro = 0.84. Micro = 0.84\n",
      "-------------------------------\n",
      "File OrtuJIRA. Label = p. Precision = 0.74. Recall = 0.71. F1 = 0.73\n",
      "File OrtuJIRA. Label = o. Precision = 0.84. Recall = 0.89. F1 = 0.86\n",
      "File OrtuJIRA. Label = n. Precision = 0.70. Recall = 0.52. F1 = 0.60\n",
      "File = OrtuJIRA. F1 Macro = 0.73. Micro = 0.81\n",
      "-------------------------------\n"
     ]
    }
   ],
   "source": [
    "# with diversity score and preprocessing of text without negation handling\n",
    "algo = \"RF\"\n",
    "learnerCol = \"Senti4SD\"\n",
    "sead = seadTen.Sentisead(rootdir=rootdir)\n",
    "sead.computePerformancOfLearner(algo, learnerCol)"
   ]
  },
  {
   "cell_type": "code",
   "execution_count": null,
   "metadata": {},
   "outputs": [],
   "source": []
  },
  {
   "cell_type": "code",
   "execution_count": 13,
   "metadata": {},
   "outputs": [
    {
     "name": "stdout",
     "output_type": "stream",
     "text": [
      "Label = p. Precision = 0.796. Recall = 0.691. F1 = 0.740\n",
      "Label = o. Precision = 0.797. Recall = 0.847. F1 = 0.822\n",
      "Label = n. Precision = 0.712. Recall = 0.705. F1 = 0.709\n",
      "F1 Macro = 0.758. Micro = 0.779\n",
      "Macro Precision = 0.768. Recall = 0.748\n",
      "-------------------------------\n"
     ]
    }
   ],
   "source": [
    "# without diversity score and preprocessing of text without negation handling\n",
    "algo = \"RF\"\n",
    "learnerCol = \"Opinese\"\n",
    "sead = seadTen.Sentisead(rootdir=rootdir)\n",
    "sead.computePerformanceOverallOfLearner(algo, learnerCol)"
   ]
  },
  {
   "cell_type": "code",
   "execution_count": 17,
   "metadata": {},
   "outputs": [
    {
     "name": "stdout",
     "output_type": "stream",
     "text": [
      "Label = p. Precision = 0.802. Recall = 0.705. F1 = 0.750\n",
      "Label = o. Precision = 0.799. Recall = 0.865. F1 = 0.831\n",
      "Label = n. Precision = 0.749. Recall = 0.696. F1 = 0.721\n",
      "F1 Macro = 0.769. Micro = 0.790\n",
      "Macro Precision = 0.783. Recall = 0.755\n",
      "-------------------------------\n"
     ]
    }
   ],
   "source": [
    "# with diversity score and preprocessing of text without negation handling\n",
    "algo = \"GBTSentiCR\"\n",
    "learnerCol = \"Opinese\"\n",
    "sead = seadTen.Sentisead(rootdir=rootdir)\n",
    "sead.computePerformanceOverallOfLearner(algo, learnerCol)"
   ]
  },
  {
   "cell_type": "code",
   "execution_count": 19,
   "metadata": {},
   "outputs": [
    {
     "name": "stdout",
     "output_type": "stream",
     "text": [
      "File DatasetLinJIRA. Label = p. Precision = 0.95. Recall = 0.94. F1 = 0.95\n",
      "File DatasetLinJIRA. Label = n. Precision = 0.97. Recall = 0.98. F1 = 0.98\n",
      "File = DatasetLinJIRA. F1 Macro = 0.96. Micro = 0.97\n",
      "-------------------------------\n",
      "File BenchmarkUddinSO. Label = p. Precision = 0.49. Recall = 0.23. F1 = 0.32\n",
      "File BenchmarkUddinSO. Label = o. Precision = 0.66. Recall = 0.84. F1 = 0.74\n",
      "File BenchmarkUddinSO. Label = n. Precision = 0.43. Recall = 0.33. F1 = 0.37\n",
      "File = BenchmarkUddinSO. F1 Macro = 0.50. Micro = 0.61\n",
      "-------------------------------\n",
      "File DatasetLinAppReviews. Label = p. Precision = 0.82. Recall = 0.89. F1 = 0.86\n",
      "File DatasetLinAppReviews. Label = o. Precision = 0.14. Recall = 0.04. F1 = 0.06\n",
      "File DatasetLinAppReviews. Label = n. Precision = 0.80. Recall = 0.82. F1 = 0.81\n",
      "File = DatasetLinAppReviews. F1 Macro = 0.59. Micro = 0.80\n",
      "-------------------------------\n",
      "File DatasetLinSO. Label = p. Precision = 0.51. Recall = 0.34. F1 = 0.41\n",
      "File DatasetLinSO. Label = o. Precision = 0.86. Recall = 0.94. F1 = 0.90\n",
      "File DatasetLinSO. Label = n. Precision = 0.60. Recall = 0.40. F1 = 0.48\n",
      "File = DatasetLinSO. F1 Macro = 0.60. Micro = 0.82\n",
      "-------------------------------\n",
      "File DatasetSenti4SDSO. Label = p. Precision = 0.91. Recall = 0.92. F1 = 0.92\n",
      "File DatasetSenti4SDSO. Label = o. Precision = 0.83. Recall = 0.81. F1 = 0.82\n",
      "File DatasetSenti4SDSO. Label = n. Precision = 0.81. Recall = 0.83. F1 = 0.82\n",
      "File = DatasetSenti4SDSO. F1 Macro = 0.85. Micro = 0.85\n",
      "-------------------------------\n",
      "File OrtuJIRA. Label = p. Precision = 0.77. Recall = 0.80. F1 = 0.78\n",
      "File OrtuJIRA. Label = o. Precision = 0.88. Recall = 0.89. F1 = 0.89\n",
      "File OrtuJIRA. Label = n. Precision = 0.75. Recall = 0.69. F1 = 0.72\n",
      "File = OrtuJIRA. F1 Macro = 0.80. Micro = 0.85\n",
      "-------------------------------\n"
     ]
    }
   ],
   "source": [
    "# with diversity score and preprocessing of text without negation handling\n",
    "algo = \"GBTSentiCR\"\n",
    "learnerCol = \"Opinese\"\n",
    "sead = seadTen.Sentisead(rootdir=rootdir)\n",
    "sead.computePerformancOfLearner(algo, learnerCol)"
   ]
  },
  {
   "cell_type": "code",
   "execution_count": 20,
   "metadata": {},
   "outputs": [
    {
     "name": "stdout",
     "output_type": "stream",
     "text": [
      "Label = p. Precision = 0.805. Recall = 0.703. F1 = 0.751\n",
      "Label = o. Precision = 0.798. Recall = 0.869. F1 = 0.832\n",
      "Label = n. Precision = 0.753. Recall = 0.690. F1 = 0.720\n",
      "F1 Macro = 0.769. Micro = 0.790\n",
      "Macro Precision = 0.785. Recall = 0.754\n",
      "-------------------------------\n"
     ]
    }
   ],
   "source": [
    "# with diversity score and preprocessing of text without negation handling and dso p, n scores\n",
    "algo = \"GBTSentiCR\"\n",
    "learnerCol = \"Opinese\"\n",
    "sead = seadTen.Sentisead(rootdir=rootdir)\n",
    "sead.computePerformanceOverallOfLearner(algo, learnerCol)"
   ]
  },
  {
   "cell_type": "code",
   "execution_count": 21,
   "metadata": {},
   "outputs": [
    {
     "name": "stdout",
     "output_type": "stream",
     "text": [
      "File DatasetLinJIRA. Label = p. Precision = 0.94. Recall = 0.93. F1 = 0.94\n",
      "File DatasetLinJIRA. Label = n. Precision = 0.97. Recall = 0.97. F1 = 0.97\n",
      "File = DatasetLinJIRA. F1 Macro = 0.95. Micro = 0.96\n",
      "-------------------------------\n",
      "File BenchmarkUddinSO. Label = p. Precision = 0.49. Recall = 0.23. F1 = 0.31\n",
      "File BenchmarkUddinSO. Label = o. Precision = 0.65. Recall = 0.85. F1 = 0.74\n",
      "File BenchmarkUddinSO. Label = n. Precision = 0.43. Recall = 0.31. F1 = 0.36\n",
      "File = BenchmarkUddinSO. F1 Macro = 0.49. Micro = 0.61\n",
      "-------------------------------\n",
      "File DatasetLinAppReviews. Label = p. Precision = 0.83. Recall = 0.89. F1 = 0.86\n",
      "File DatasetLinAppReviews. Label = o. Precision = 0.11. Recall = 0.04. F1 = 0.06\n",
      "File DatasetLinAppReviews. Label = n. Precision = 0.79. Recall = 0.80. F1 = 0.79\n",
      "File = DatasetLinAppReviews. F1 Macro = 0.58. Micro = 0.79\n",
      "-------------------------------\n",
      "File DatasetLinSO. Label = p. Precision = 0.55. Recall = 0.35. F1 = 0.43\n",
      "File DatasetLinSO. Label = o. Precision = 0.86. Recall = 0.94. F1 = 0.90\n",
      "File DatasetLinSO. Label = n. Precision = 0.60. Recall = 0.40. F1 = 0.48\n",
      "File = DatasetLinSO. F1 Macro = 0.61. Micro = 0.82\n",
      "-------------------------------\n",
      "File DatasetSenti4SDSO. Label = p. Precision = 0.91. Recall = 0.92. F1 = 0.92\n",
      "File DatasetSenti4SDSO. Label = o. Precision = 0.83. Recall = 0.81. F1 = 0.82\n",
      "File DatasetSenti4SDSO. Label = n. Precision = 0.81. Recall = 0.82. F1 = 0.82\n",
      "File = DatasetSenti4SDSO. F1 Macro = 0.85. Micro = 0.85\n",
      "-------------------------------\n",
      "File OrtuJIRA. Label = p. Precision = 0.77. Recall = 0.80. F1 = 0.78\n",
      "File OrtuJIRA. Label = o. Precision = 0.89. Recall = 0.89. F1 = 0.89\n",
      "File OrtuJIRA. Label = n. Precision = 0.76. Recall = 0.71. F1 = 0.73\n",
      "File = OrtuJIRA. F1 Macro = 0.80. Micro = 0.85\n",
      "-------------------------------\n"
     ]
    }
   ],
   "source": [
    "# with diversity score and preprocessing of text without negation handling and dso p, n scores\n",
    "algo = \"GBTSentiCR\"\n",
    "learnerCol = \"Opinese\"\n",
    "sead = seadTen.Sentisead(rootdir=rootdir)\n",
    "sead.computePerformancOfLearner(algo, learnerCol)"
   ]
  },
  {
   "cell_type": "code",
   "execution_count": null,
   "metadata": {},
   "outputs": [],
   "source": []
  }
 ],
 "metadata": {
  "kernelspec": {
   "display_name": "Python 2",
   "language": "python",
   "name": "python2"
  },
  "language_info": {
   "codemirror_mode": {
    "name": "ipython",
    "version": 2
   },
   "file_extension": ".py",
   "mimetype": "text/x-python",
   "name": "python",
   "nbconvert_exporter": "python",
   "pygments_lexer": "ipython2",
   "version": "2.7.15"
  }
 },
 "nbformat": 4,
 "nbformat_minor": 2
}
