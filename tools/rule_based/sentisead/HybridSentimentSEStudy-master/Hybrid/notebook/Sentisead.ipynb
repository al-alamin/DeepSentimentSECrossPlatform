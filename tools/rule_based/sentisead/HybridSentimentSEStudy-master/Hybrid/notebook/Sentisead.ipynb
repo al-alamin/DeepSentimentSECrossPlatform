{
 "cells": [
  {
   "cell_type": "code",
   "execution_count": 1,
   "metadata": {},
   "outputs": [],
   "source": [
    "from __future__ import division\n",
    "%load_ext autoreload\n",
    "%autoreload 2\n",
    "from django.conf import settings\n",
    "import cPickle as pickle\n",
    "import csv\n",
    "import os\n",
    "import sys\n",
    "import numpy as np\n",
    "import pandas as pd\n",
    "sys.path.append('c:\\dev\\opinion\\opinion\\python\\opinion')\n",
    "import utils.fileutils as fileutils\n",
    "import utils.metrics as metrics\n",
    "import nltk"
   ]
  },
  {
   "cell_type": "code",
   "execution_count": 2,
   "metadata": {},
   "outputs": [],
   "source": [
    "rootdir = r\"C:\\dev\\opinion\\papers\\sentiplus\"\n",
    "indir = os.path.join(rootdir, \"Hybrid\")"
   ]
  },
  {
   "cell_type": "code",
   "execution_count": 3,
   "metadata": {},
   "outputs": [],
   "source": [
    "import sentiplus.Hybrid.SentiseadTenFold as stf"
   ]
  },
  {
   "cell_type": "code",
   "execution_count": 5,
   "metadata": {},
   "outputs": [],
   "source": [
    "infile = os.path.join(indir, \"ResultsConsolidated_RF.xls\")\n",
    "outfile = os.path.join(indir, \"ConsolidatedWithBestTrainedClfsFromThreeSETools.xls\")\n",
    "stf.hotEncodeDSOSEValues(infile, outfile)"
   ]
  },
  {
   "cell_type": "code",
   "execution_count": 6,
   "metadata": {},
   "outputs": [],
   "source": [
    "infile = os.path.join(indir, \"ConsolidatedWithBestTrainedClfsFromThreeSETools.xls\")\n",
    "stf.hotEncodePOMEValues(infile, infile)"
   ]
  },
  {
   "cell_type": "code",
   "execution_count": null,
   "metadata": {},
   "outputs": [],
   "source": []
  }
 ],
 "metadata": {
  "kernelspec": {
   "display_name": "Python 2",
   "language": "python",
   "name": "python2"
  },
  "language_info": {
   "codemirror_mode": {
    "name": "ipython",
    "version": 2
   },
   "file_extension": ".py",
   "mimetype": "text/x-python",
   "name": "python",
   "nbconvert_exporter": "python",
   "pygments_lexer": "ipython2",
   "version": "2.7.15"
  }
 },
 "nbformat": 4,
 "nbformat_minor": 2
}
