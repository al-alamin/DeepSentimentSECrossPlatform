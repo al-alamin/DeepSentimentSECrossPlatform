{
 "cells": [
  {
   "cell_type": "code",
   "execution_count": 5,
   "metadata": {},
   "outputs": [
    {
     "name": "stdout",
     "output_type": "stream",
     "text": [
      "The autoreload extension is already loaded. To reload it, use:\n",
      "  %reload_ext autoreload\n"
     ]
    }
   ],
   "source": [
    "from __future__ import division\n",
    "%load_ext autoreload\n",
    "%autoreload 2\n",
    "from django.conf import settings\n",
    "import cPickle as pickle\n",
    "import csv\n",
    "import os\n",
    "import sys\n",
    "import numpy as np\n",
    "import pandas as pd\n",
    "sys.path.append('c:\\dev\\opinion\\opinion\\python\\opinion')\n",
    "import utils.fileutils as fileutils\n",
    "import utils.metrics as metrics\n",
    "import nltk\n",
    "import spacy"
   ]
  },
  {
   "cell_type": "code",
   "execution_count": 6,
   "metadata": {},
   "outputs": [],
   "source": [
    "nlp = spacy.load('en_core_web_sm')"
   ]
  },
  {
   "cell_type": "code",
   "execution_count": 7,
   "metadata": {},
   "outputs": [],
   "source": [
    "def printDeps(sent):\n",
    "    doc = nlp(sent)\n",
    "    for token in doc:\n",
    "        print \"Text: \", token.text, \", Lemma: \", token.lemma_, \", POS: \", token.tag_, \", Dep: \", token.dep_"
   ]
  },
  {
   "cell_type": "code",
   "execution_count": 3,
   "metadata": {},
   "outputs": [],
   "source": [
    "import sentiplus.Hybrid.Utils as Utils"
   ]
  },
  {
   "cell_type": "code",
   "execution_count": 4,
   "metadata": {},
   "outputs": [],
   "source": [
    "indir = r\"C:\\dev\\opinion\\papers\\sentiplus\\Hybrid\"\n",
    "infile = os.path.join(indir, \"ResultsConsolidated_RF.xls\")\n",
    "infileMeta = os.path.join(indir, \"ConsolidatedWithBestTrainedClfsFromThreeSETools_Meta.pkl\")"
   ]
  },
  {
   "cell_type": "code",
   "execution_count": 5,
   "metadata": {},
   "outputs": [
    {
     "data": {
      "text/html": [
       "<div>\n",
       "<style scoped>\n",
       "    .dataframe tbody tr th:only-of-type {\n",
       "        vertical-align: middle;\n",
       "    }\n",
       "\n",
       "    .dataframe tbody tr th {\n",
       "        vertical-align: top;\n",
       "    }\n",
       "\n",
       "    .dataframe thead th {\n",
       "        text-align: right;\n",
       "    }\n",
       "</style>\n",
       "<table border=\"1\" class=\"dataframe\">\n",
       "  <thead>\n",
       "    <tr style=\"text-align: right;\">\n",
       "      <th></th>\n",
       "      <th>Adaptive_CLF_ADB</th>\n",
       "      <th>Adaptive_CLF_GBT</th>\n",
       "      <th>Adaptive_CLF_RF</th>\n",
       "      <th>Adaptive_POLAR_ADB</th>\n",
       "      <th>Adaptive_POLAR_ADB_HotEncoded</th>\n",
       "      <th>Adaptive_POLAR_GBT</th>\n",
       "      <th>Adaptive_POLAR_GBT_HotEncoded</th>\n",
       "      <th>Adaptive_POLAR_RF</th>\n",
       "      <th>Adaptive_POLAR_RF_HotEncoded</th>\n",
       "      <th>Best</th>\n",
       "      <th>...</th>\n",
       "      <th>ShannonAdjectiveBin</th>\n",
       "      <th>ShannonPolarNegative</th>\n",
       "      <th>ShannonPolarNegativeBin</th>\n",
       "      <th>ShannonPolarOverall</th>\n",
       "      <th>ShannonPolarOverallBin</th>\n",
       "      <th>ShannonPolarPositive</th>\n",
       "      <th>ShannonPolarPositiveBin</th>\n",
       "      <th>ShannonVerb</th>\n",
       "      <th>ShannonVerbBin</th>\n",
       "      <th>UID</th>\n",
       "    </tr>\n",
       "  </thead>\n",
       "  <tbody>\n",
       "    <tr>\n",
       "      <th>0</th>\n",
       "      <td>D</td>\n",
       "      <td>D</td>\n",
       "      <td>D</td>\n",
       "      <td>o</td>\n",
       "      <td>0</td>\n",
       "      <td>o</td>\n",
       "      <td>0</td>\n",
       "      <td>o</td>\n",
       "      <td>0</td>\n",
       "      <td>E</td>\n",
       "      <td>...</td>\n",
       "      <td>1</td>\n",
       "      <td>0.0</td>\n",
       "      <td>0</td>\n",
       "      <td>0.000000</td>\n",
       "      <td>0</td>\n",
       "      <td>0.000000</td>\n",
       "      <td>0</td>\n",
       "      <td>0.693147</td>\n",
       "      <td>1</td>\n",
       "      <td>1</td>\n",
       "    </tr>\n",
       "    <tr>\n",
       "      <th>1</th>\n",
       "      <td>D</td>\n",
       "      <td>D</td>\n",
       "      <td>D</td>\n",
       "      <td>o</td>\n",
       "      <td>0</td>\n",
       "      <td>o</td>\n",
       "      <td>0</td>\n",
       "      <td>o</td>\n",
       "      <td>0</td>\n",
       "      <td>E</td>\n",
       "      <td>...</td>\n",
       "      <td>0</td>\n",
       "      <td>0.0</td>\n",
       "      <td>0</td>\n",
       "      <td>0.000000</td>\n",
       "      <td>0</td>\n",
       "      <td>0.000000</td>\n",
       "      <td>0</td>\n",
       "      <td>1.609438</td>\n",
       "      <td>1</td>\n",
       "      <td>2</td>\n",
       "    </tr>\n",
       "    <tr>\n",
       "      <th>2</th>\n",
       "      <td>D</td>\n",
       "      <td>D</td>\n",
       "      <td>E</td>\n",
       "      <td>o</td>\n",
       "      <td>0</td>\n",
       "      <td>o</td>\n",
       "      <td>0</td>\n",
       "      <td>o</td>\n",
       "      <td>0</td>\n",
       "      <td>E</td>\n",
       "      <td>...</td>\n",
       "      <td>0</td>\n",
       "      <td>0.0</td>\n",
       "      <td>0</td>\n",
       "      <td>0.000000</td>\n",
       "      <td>0</td>\n",
       "      <td>0.000000</td>\n",
       "      <td>0</td>\n",
       "      <td>1.386294</td>\n",
       "      <td>1</td>\n",
       "      <td>3</td>\n",
       "    </tr>\n",
       "    <tr>\n",
       "      <th>3</th>\n",
       "      <td>D</td>\n",
       "      <td>E</td>\n",
       "      <td>E</td>\n",
       "      <td>o</td>\n",
       "      <td>0</td>\n",
       "      <td>o</td>\n",
       "      <td>0</td>\n",
       "      <td>o</td>\n",
       "      <td>0</td>\n",
       "      <td>E</td>\n",
       "      <td>...</td>\n",
       "      <td>0</td>\n",
       "      <td>0.0</td>\n",
       "      <td>0</td>\n",
       "      <td>0.000000</td>\n",
       "      <td>0</td>\n",
       "      <td>0.000000</td>\n",
       "      <td>0</td>\n",
       "      <td>0.000000</td>\n",
       "      <td>0</td>\n",
       "      <td>4</td>\n",
       "    </tr>\n",
       "    <tr>\n",
       "      <th>4</th>\n",
       "      <td>D</td>\n",
       "      <td>D</td>\n",
       "      <td>D</td>\n",
       "      <td>o</td>\n",
       "      <td>0</td>\n",
       "      <td>o</td>\n",
       "      <td>0</td>\n",
       "      <td>o</td>\n",
       "      <td>0</td>\n",
       "      <td>E</td>\n",
       "      <td>...</td>\n",
       "      <td>1</td>\n",
       "      <td>0.0</td>\n",
       "      <td>0</td>\n",
       "      <td>0.693147</td>\n",
       "      <td>1</td>\n",
       "      <td>0.693147</td>\n",
       "      <td>1</td>\n",
       "      <td>0.000000</td>\n",
       "      <td>0</td>\n",
       "      <td>5</td>\n",
       "    </tr>\n",
       "  </tbody>\n",
       "</table>\n",
       "<p>5 rows × 51 columns</p>\n",
       "</div>"
      ],
      "text/plain": [
       "  Adaptive_CLF_ADB Adaptive_CLF_GBT Adaptive_CLF_RF Adaptive_POLAR_ADB  \\\n",
       "0                D                D               D                  o   \n",
       "1                D                D               D                  o   \n",
       "2                D                D               E                  o   \n",
       "3                D                E               E                  o   \n",
       "4                D                D               D                  o   \n",
       "\n",
       "   Adaptive_POLAR_ADB_HotEncoded Adaptive_POLAR_GBT  \\\n",
       "0                              0                  o   \n",
       "1                              0                  o   \n",
       "2                              0                  o   \n",
       "3                              0                  o   \n",
       "4                              0                  o   \n",
       "\n",
       "   Adaptive_POLAR_GBT_HotEncoded Adaptive_POLAR_RF  \\\n",
       "0                              0                 o   \n",
       "1                              0                 o   \n",
       "2                              0                 o   \n",
       "3                              0                 o   \n",
       "4                              0                 o   \n",
       "\n",
       "   Adaptive_POLAR_RF_HotEncoded Best ...  ShannonAdjectiveBin  \\\n",
       "0                             0    E ...                    1   \n",
       "1                             0    E ...                    0   \n",
       "2                             0    E ...                    0   \n",
       "3                             0    E ...                    0   \n",
       "4                             0    E ...                    1   \n",
       "\n",
       "  ShannonPolarNegative  ShannonPolarNegativeBin ShannonPolarOverall  \\\n",
       "0                  0.0                        0            0.000000   \n",
       "1                  0.0                        0            0.000000   \n",
       "2                  0.0                        0            0.000000   \n",
       "3                  0.0                        0            0.000000   \n",
       "4                  0.0                        0            0.693147   \n",
       "\n",
       "   ShannonPolarOverallBin ShannonPolarPositive  ShannonPolarPositiveBin  \\\n",
       "0                       0             0.000000                        0   \n",
       "1                       0             0.000000                        0   \n",
       "2                       0             0.000000                        0   \n",
       "3                       0             0.000000                        0   \n",
       "4                       1             0.693147                        1   \n",
       "\n",
       "  ShannonVerb ShannonVerbBin UID  \n",
       "0    0.693147              1   1  \n",
       "1    1.609438              1   2  \n",
       "2    1.386294              1   3  \n",
       "3    0.000000              0   4  \n",
       "4    0.000000              0   5  \n",
       "\n",
       "[5 rows x 51 columns]"
      ]
     },
     "execution_count": 5,
     "metadata": {},
     "output_type": "execute_result"
    }
   ],
   "source": [
    "with open(infileMeta, 'rb') as f:\n",
    "    dfm = pickle.load(f)\n",
    "dfm.head()"
   ]
  },
  {
   "cell_type": "code",
   "execution_count": 6,
   "metadata": {},
   "outputs": [
    {
     "data": {
      "text/plain": [
       "Index([             u'Adaptive_CLF_ADB',              u'Adaptive_CLF_GBT',\n",
       "                     u'Adaptive_CLF_RF',            u'Adaptive_POLAR_ADB',\n",
       "       u'Adaptive_POLAR_ADB_HotEncoded',            u'Adaptive_POLAR_GBT',\n",
       "       u'Adaptive_POLAR_GBT_HotEncoded',             u'Adaptive_POLAR_RF',\n",
       "        u'Adaptive_POLAR_RF_HotEncoded',                          u'Best',\n",
       "                              u'BestID',             u'DsoLabelFirstWord',\n",
       "        u'DsoLabelFirstWord_HotEncoded',              u'DsoLabelFullText',\n",
       "         u'DsoLabelFullText_HotEncoded',              u'DsoLabelLastWord',\n",
       "         u'DsoLabelLastWord_HotEncoded',                          u'File',\n",
       "                         u'LemmaPosDep',                   u'ManualLabel',\n",
       "              u'ManualLabel_HotEncoded',             u'Nscore_FirstPolar',\n",
       "                     u'Nscore_FullText',              u'Nscore_LastPolar',\n",
       "                                u'POME',                      u'POME_RES',\n",
       "                   u'Pscore_FirstPolar',               u'Pscore_FullTest',\n",
       "                     u'Pscore_FullText',              u'Pscore_LastPolar',\n",
       "                             u'SEScore',                           u'SID',\n",
       "                            u'Sentence',                      u'Senti4SD',\n",
       "                 u'Senti4SD_HotEncoded',                       u'SentiCR',\n",
       "                  u'SentiCR_HotEncoded',               u'SentistrengthSE',\n",
       "          u'SentistrengthSE_HotEncoded',                       u'Shannon',\n",
       "                    u'ShannonAdjective',           u'ShannonAdjectiveBin',\n",
       "                u'ShannonPolarNegative',       u'ShannonPolarNegativeBin',\n",
       "                 u'ShannonPolarOverall',        u'ShannonPolarOverallBin',\n",
       "                u'ShannonPolarPositive',       u'ShannonPolarPositiveBin',\n",
       "                         u'ShannonVerb',                u'ShannonVerbBin',\n",
       "                                 u'UID'],\n",
       "      dtype='object')"
      ]
     },
     "execution_count": 6,
     "metadata": {},
     "output_type": "execute_result"
    }
   ],
   "source": [
    "dfm.columns"
   ]
  },
  {
   "cell_type": "code",
   "execution_count": 6,
   "metadata": {},
   "outputs": [],
   "source": [
    "deps = dict()\n",
    "for index, row in dfm.iterrows():\n",
    "    uid = row[\"UID\"]\n",
    "    deps[uid] = row[\"LemmaPosDep\"]"
   ]
  },
  {
   "cell_type": "code",
   "execution_count": 4,
   "metadata": {},
   "outputs": [
    {
     "data": {
      "text/html": [
       "<div>\n",
       "<style scoped>\n",
       "    .dataframe tbody tr th:only-of-type {\n",
       "        vertical-align: middle;\n",
       "    }\n",
       "\n",
       "    .dataframe tbody tr th {\n",
       "        vertical-align: top;\n",
       "    }\n",
       "\n",
       "    .dataframe thead th {\n",
       "        text-align: right;\n",
       "    }\n",
       "</style>\n",
       "<table border=\"1\" class=\"dataframe\">\n",
       "  <thead>\n",
       "    <tr style=\"text-align: right;\">\n",
       "      <th></th>\n",
       "      <th>Adaptive_CLF_ADB</th>\n",
       "      <th>Adaptive_CLF_GBT</th>\n",
       "      <th>Adaptive_CLF_RF</th>\n",
       "      <th>Adaptive_POLAR_ADB</th>\n",
       "      <th>Adaptive_POLAR_ADB_HotEncoded</th>\n",
       "      <th>Adaptive_POLAR_GBT</th>\n",
       "      <th>Adaptive_POLAR_GBT_HotEncoded</th>\n",
       "      <th>Adaptive_POLAR_RF</th>\n",
       "      <th>Adaptive_POLAR_RF_HotEncoded</th>\n",
       "      <th>Best</th>\n",
       "      <th>...</th>\n",
       "      <th>ShannonPolarOverallBin</th>\n",
       "      <th>ShannonPolarPositive</th>\n",
       "      <th>ShannonPolarPositiveBin</th>\n",
       "      <th>ShannonVerb</th>\n",
       "      <th>ShannonVerbBin</th>\n",
       "      <th>UID</th>\n",
       "      <th>DSOSE</th>\n",
       "      <th>DSOSE_HotEncoded</th>\n",
       "      <th>POME_HotEncoded</th>\n",
       "      <th>Sentisead</th>\n",
       "    </tr>\n",
       "  </thead>\n",
       "  <tbody>\n",
       "    <tr>\n",
       "      <th>0</th>\n",
       "      <td>D</td>\n",
       "      <td>R</td>\n",
       "      <td>D</td>\n",
       "      <td>n</td>\n",
       "      <td>-1</td>\n",
       "      <td>n</td>\n",
       "      <td>-1</td>\n",
       "      <td>n</td>\n",
       "      <td>-1</td>\n",
       "      <td>E</td>\n",
       "      <td>...</td>\n",
       "      <td>0</td>\n",
       "      <td>0.000000</td>\n",
       "      <td>0</td>\n",
       "      <td>0.000000</td>\n",
       "      <td>0</td>\n",
       "      <td>4864</td>\n",
       "      <td>n</td>\n",
       "      <td>-1</td>\n",
       "      <td>0</td>\n",
       "      <td>n</td>\n",
       "    </tr>\n",
       "    <tr>\n",
       "      <th>1</th>\n",
       "      <td>D</td>\n",
       "      <td>D</td>\n",
       "      <td>D</td>\n",
       "      <td>n</td>\n",
       "      <td>-1</td>\n",
       "      <td>n</td>\n",
       "      <td>-1</td>\n",
       "      <td>n</td>\n",
       "      <td>-1</td>\n",
       "      <td>D</td>\n",
       "      <td>...</td>\n",
       "      <td>1</td>\n",
       "      <td>0.000000</td>\n",
       "      <td>0</td>\n",
       "      <td>2.079442</td>\n",
       "      <td>2</td>\n",
       "      <td>4865</td>\n",
       "      <td>n</td>\n",
       "      <td>-1</td>\n",
       "      <td>0</td>\n",
       "      <td>n</td>\n",
       "    </tr>\n",
       "    <tr>\n",
       "      <th>2</th>\n",
       "      <td>R</td>\n",
       "      <td>R</td>\n",
       "      <td>E</td>\n",
       "      <td>n</td>\n",
       "      <td>-1</td>\n",
       "      <td>n</td>\n",
       "      <td>-1</td>\n",
       "      <td>n</td>\n",
       "      <td>-1</td>\n",
       "      <td>E</td>\n",
       "      <td>...</td>\n",
       "      <td>1</td>\n",
       "      <td>0.000000</td>\n",
       "      <td>0</td>\n",
       "      <td>1.098612</td>\n",
       "      <td>1</td>\n",
       "      <td>4866</td>\n",
       "      <td>n</td>\n",
       "      <td>-1</td>\n",
       "      <td>0</td>\n",
       "      <td>n</td>\n",
       "    </tr>\n",
       "    <tr>\n",
       "      <th>3</th>\n",
       "      <td>D</td>\n",
       "      <td>D</td>\n",
       "      <td>D</td>\n",
       "      <td>n</td>\n",
       "      <td>-1</td>\n",
       "      <td>n</td>\n",
       "      <td>-1</td>\n",
       "      <td>n</td>\n",
       "      <td>-1</td>\n",
       "      <td>E</td>\n",
       "      <td>...</td>\n",
       "      <td>1</td>\n",
       "      <td>1.098612</td>\n",
       "      <td>1</td>\n",
       "      <td>1.791759</td>\n",
       "      <td>1</td>\n",
       "      <td>4867</td>\n",
       "      <td>n</td>\n",
       "      <td>-1</td>\n",
       "      <td>0</td>\n",
       "      <td>n</td>\n",
       "    </tr>\n",
       "    <tr>\n",
       "      <th>4</th>\n",
       "      <td>R</td>\n",
       "      <td>E</td>\n",
       "      <td>E</td>\n",
       "      <td>n</td>\n",
       "      <td>-1</td>\n",
       "      <td>n</td>\n",
       "      <td>-1</td>\n",
       "      <td>n</td>\n",
       "      <td>-1</td>\n",
       "      <td>E</td>\n",
       "      <td>...</td>\n",
       "      <td>1</td>\n",
       "      <td>0.000000</td>\n",
       "      <td>0</td>\n",
       "      <td>1.039721</td>\n",
       "      <td>1</td>\n",
       "      <td>4868</td>\n",
       "      <td>n</td>\n",
       "      <td>-1</td>\n",
       "      <td>0</td>\n",
       "      <td>n</td>\n",
       "    </tr>\n",
       "  </tbody>\n",
       "</table>\n",
       "<p>5 rows × 53 columns</p>\n",
       "</div>"
      ],
      "text/plain": [
       "  Adaptive_CLF_ADB Adaptive_CLF_GBT Adaptive_CLF_RF Adaptive_POLAR_ADB  \\\n",
       "0                D                R               D                  n   \n",
       "1                D                D               D                  n   \n",
       "2                R                R               E                  n   \n",
       "3                D                D               D                  n   \n",
       "4                R                E               E                  n   \n",
       "\n",
       "   Adaptive_POLAR_ADB_HotEncoded Adaptive_POLAR_GBT  \\\n",
       "0                             -1                  n   \n",
       "1                             -1                  n   \n",
       "2                             -1                  n   \n",
       "3                             -1                  n   \n",
       "4                             -1                  n   \n",
       "\n",
       "   Adaptive_POLAR_GBT_HotEncoded Adaptive_POLAR_RF  \\\n",
       "0                             -1                 n   \n",
       "1                             -1                 n   \n",
       "2                             -1                 n   \n",
       "3                             -1                 n   \n",
       "4                             -1                 n   \n",
       "\n",
       "   Adaptive_POLAR_RF_HotEncoded Best    ...      ShannonPolarOverallBin  \\\n",
       "0                            -1    E    ...                           0   \n",
       "1                            -1    D    ...                           1   \n",
       "2                            -1    E    ...                           1   \n",
       "3                            -1    E    ...                           1   \n",
       "4                            -1    E    ...                           1   \n",
       "\n",
       "  ShannonPolarPositive  ShannonPolarPositiveBin ShannonVerb  ShannonVerbBin  \\\n",
       "0             0.000000                        0    0.000000               0   \n",
       "1             0.000000                        0    2.079442               2   \n",
       "2             0.000000                        0    1.098612               1   \n",
       "3             1.098612                        1    1.791759               1   \n",
       "4             0.000000                        0    1.039721               1   \n",
       "\n",
       "    UID  DSOSE DSOSE_HotEncoded POME_HotEncoded  Sentisead  \n",
       "0  4864      n               -1               0          n  \n",
       "1  4865      n               -1               0          n  \n",
       "2  4866      n               -1               0          n  \n",
       "3  4867      n               -1               0          n  \n",
       "4  4868      n               -1               0          n  \n",
       "\n",
       "[5 rows x 53 columns]"
      ]
     },
     "execution_count": 4,
     "metadata": {},
     "output_type": "execute_result"
    }
   ],
   "source": [
    "df = pd.read_excel(infile, sheet_name=\"Sheet1\")\n",
    "df.head()"
   ]
  },
  {
   "cell_type": "code",
   "execution_count": 10,
   "metadata": {},
   "outputs": [
    {
     "data": {
      "text/plain": [
       "927    \"I'm trying to create an CODETERM1 that takes ...\n",
       "Name: Sentence, dtype: object"
      ]
     },
     "execution_count": 10,
     "metadata": {},
     "output_type": "execute_result"
    }
   ],
   "source": [
    "df[df[\"UID\"] == 2][\"Sentence\"]"
   ]
  },
  {
   "cell_type": "code",
   "execution_count": 11,
   "metadata": {},
   "outputs": [
    {
     "data": {
      "text/plain": [
       "[{'alpha': True,\n",
       "  'dep': u'advmod',\n",
       "  'lemma': u'unfortunately',\n",
       "  'pos': u'ADV',\n",
       "  'stopword': False,\n",
       "  'tag': u'RB',\n",
       "  'text': u'Unfortunately'},\n",
       " {'alpha': False,\n",
       "  'dep': u'punct',\n",
       "  'lemma': u',',\n",
       "  'pos': u'PUNCT',\n",
       "  'stopword': False,\n",
       "  'tag': u',',\n",
       "  'text': u','},\n",
       " {'alpha': True,\n",
       "  'dep': u'advmod',\n",
       "  'lemma': u'when',\n",
       "  'pos': u'ADV',\n",
       "  'stopword': True,\n",
       "  'tag': u'WRB',\n",
       "  'text': u'when'},\n",
       " {'alpha': True,\n",
       "  'dep': u'nsubj',\n",
       "  'lemma': u'-PRON-',\n",
       "  'pos': u'PRON',\n",
       "  'stopword': False,\n",
       "  'tag': u'PRP',\n",
       "  'text': u'I'},\n",
       " {'alpha': True,\n",
       "  'dep': u'advcl',\n",
       "  'lemma': u'generate',\n",
       "  'pos': u'VERB',\n",
       "  'stopword': False,\n",
       "  'tag': u'VBP',\n",
       "  'text': u'generate'},\n",
       " {'alpha': True,\n",
       "  'dep': u'det',\n",
       "  'lemma': u'the',\n",
       "  'pos': u'DET',\n",
       "  'stopword': True,\n",
       "  'tag': u'DT',\n",
       "  'text': u'the'},\n",
       " {'alpha': True,\n",
       "  'dep': u'dobj',\n",
       "  'lemma': u'code',\n",
       "  'pos': u'NOUN',\n",
       "  'stopword': False,\n",
       "  'tag': u'NN',\n",
       "  'text': u'code'},\n",
       " {'alpha': True,\n",
       "  'dep': u'acl',\n",
       "  'lemma': u'use',\n",
       "  'pos': u'VERB',\n",
       "  'stopword': True,\n",
       "  'tag': u'VBG',\n",
       "  'text': u'using'},\n",
       " {'alpha': True,\n",
       "  'dep': u'det',\n",
       "  'lemma': u'a',\n",
       "  'pos': u'DET',\n",
       "  'stopword': True,\n",
       "  'tag': u'DT',\n",
       "  'text': u'a'},\n",
       " {'alpha': False,\n",
       "  'dep': u'compound',\n",
       "  'lemma': u'codeterm4',\n",
       "  'pos': u'PROPN',\n",
       "  'stopword': False,\n",
       "  'tag': u'NNP',\n",
       "  'text': u'CODETERM4'},\n",
       " {'alpha': True,\n",
       "  'dep': u'dobj',\n",
       "  'lemma': u'file',\n",
       "  'pos': u'NOUN',\n",
       "  'stopword': False,\n",
       "  'tag': u'NN',\n",
       "  'text': u'file'},\n",
       " {'alpha': False,\n",
       "  'dep': u'punct',\n",
       "  'lemma': u',',\n",
       "  'pos': u'PUNCT',\n",
       "  'stopword': False,\n",
       "  'tag': u',',\n",
       "  'text': u','},\n",
       " {'alpha': True,\n",
       "  'dep': u'det',\n",
       "  'lemma': u'the',\n",
       "  'pos': u'DET',\n",
       "  'stopword': True,\n",
       "  'tag': u'DT',\n",
       "  'text': u'the'},\n",
       " {'alpha': True,\n",
       "  'dep': u'amod',\n",
       "  'lemma': u'above',\n",
       "  'pos': u'ADJ',\n",
       "  'stopword': True,\n",
       "  'tag': u'JJ',\n",
       "  'text': u'above'},\n",
       " {'alpha': True,\n",
       "  'dep': u'nsubj',\n",
       "  'lemma': u'code',\n",
       "  'pos': u'NOUN',\n",
       "  'stopword': False,\n",
       "  'tag': u'NN',\n",
       "  'text': u'code'},\n",
       " {'alpha': True,\n",
       "  'dep': u'ROOT',\n",
       "  'lemma': u'look',\n",
       "  'pos': u'VERB',\n",
       "  'stopword': False,\n",
       "  'tag': u'VBZ',\n",
       "  'text': u'looks'},\n",
       " {'alpha': True,\n",
       "  'dep': u'prep',\n",
       "  'lemma': u'like',\n",
       "  'pos': u'ADP',\n",
       "  'stopword': False,\n",
       "  'tag': u'IN',\n",
       "  'text': u'like'},\n",
       " {'alpha': True,\n",
       "  'dep': u'pobj',\n",
       "  'lemma': u'this',\n",
       "  'pos': u'DET',\n",
       "  'stopword': True,\n",
       "  'tag': u'DT',\n",
       "  'text': u'this'},\n",
       " {'alpha': False,\n",
       "  'dep': u'punct',\n",
       "  'lemma': u':',\n",
       "  'pos': u'PUNCT',\n",
       "  'stopword': False,\n",
       "  'tag': u':',\n",
       "  'text': u':'},\n",
       " {'alpha': False,\n",
       "  'dep': u'npadvmod',\n",
       "  'lemma': u'codesnippet_java3',\n",
       "  'pos': u'PROPN',\n",
       "  'stopword': False,\n",
       "  'tag': u'NNP',\n",
       "  'text': u'CODESNIPPET_JAVA3'},\n",
       " {'alpha': False,\n",
       "  'dep': u'punct',\n",
       "  'lemma': u'.',\n",
       "  'pos': u'PUNCT',\n",
       "  'stopword': False,\n",
       "  'tag': u'.',\n",
       "  'text': u'.'},\n",
       " {'alpha': False,\n",
       "  'dep': u'punct',\n",
       "  'lemma': u'\"',\n",
       "  'pos': u'PUNCT',\n",
       "  'stopword': False,\n",
       "  'tag': u\"''\",\n",
       "  'text': u'\"'}]"
      ]
     },
     "execution_count": 11,
     "metadata": {},
     "output_type": "execute_result"
    }
   ],
   "source": [
    "deps[6]"
   ]
  },
  {
   "cell_type": "code",
   "execution_count": 17,
   "metadata": {},
   "outputs": [
    {
     "ename": "TypeError",
     "evalue": "'spacy.tokens.token.Token' object has no attribute '__getitem__'",
     "output_type": "error",
     "traceback": [
      "\u001b[1;31m\u001b[0m",
      "\u001b[1;31mTypeError\u001b[0mTraceback (most recent call last)",
      "\u001b[1;32m<ipython-input-17-33718951d445>\u001b[0m in \u001b[0;36m<module>\u001b[1;34m()\u001b[0m\n\u001b[0;32m      3\u001b[0m \u001b[0mdata\u001b[0m \u001b[1;33m=\u001b[0m \u001b[1;33m[\u001b[0m\u001b[1;33m]\u001b[0m\u001b[1;33m\u001b[0m\u001b[0m\n\u001b[0;32m      4\u001b[0m \u001b[1;32mfor\u001b[0m \u001b[0mtoken\u001b[0m \u001b[1;32min\u001b[0m \u001b[0mdoc\u001b[0m\u001b[1;33m:\u001b[0m\u001b[1;33m\u001b[0m\u001b[0m\n\u001b[1;32m----> 5\u001b[1;33m     \u001b[1;32mprint\u001b[0m \u001b[0mtoken\u001b[0m\u001b[1;33m[\u001b[0m\u001b[1;34m'lemma'\u001b[0m\u001b[1;33m]\u001b[0m\u001b[1;33m\u001b[0m\u001b[0m\n\u001b[0m",
      "\u001b[1;31mTypeError\u001b[0m: 'spacy.tokens.token.Token' object has no attribute '__getitem__'"
     ]
    }
   ],
   "source": [
    "sent= u'It works'\n",
    "doc = nlp(sent)\n",
    "data = []\n",
    "for token in doc:\n",
    "    dd = {}\n",
    "    dd[\"text\"] = token.text\n",
    "    dd[\"lemma\"] = token.lemma_\n",
    "    dd[\"pos\"] = token.pos_\n",
    "    dd[\"tag\"] = token.tag_\n",
    "    dd[\"dep\"] = token.dep_\n",
    "    dd[\"alpha\"] = token.is_alpha\n",
    "    dd[\"stopword\"] = token.is_stop\n",
    "    data.append(dd)\n",
    "data"
   ]
  },
  {
   "cell_type": "code",
   "execution_count": 3,
   "metadata": {},
   "outputs": [],
   "source": [
    "def printDeps(sent):\n",
    "    doc = nlp(sent)\n",
    "    for token in doc:\n",
    "        print \"Text: \", token.text, \", Lemma: \", token.lemma_, \", POS: \", token.tag_, \", Dep: \", token.dep_"
   ]
  },
  {
   "cell_type": "code",
   "execution_count": 26,
   "metadata": {},
   "outputs": [
    {
     "name": "stdout",
     "output_type": "stream",
     "text": [
      "Text:  works , Lemma:  work , POS:  VBZ\n",
      "Text:  fine , Lemma:  fine , POS:  RB\n"
     ]
    }
   ],
   "source": [
    "sent= u'works fine'\n",
    "printDeps(sent)"
   ]
  },
  {
   "cell_type": "code",
   "execution_count": 31,
   "metadata": {},
   "outputs": [
    {
     "name": "stdout",
     "output_type": "stream",
     "text": [
      "Text:  This , Lemma:  this , POS:  DT , Dep:  nsubj\n",
      "Text:  works , Lemma:  work , POS:  VBZ , Dep:  ROOT\n",
      "Text:  fine , Lemma:  fine , POS:  RB , Dep:  advmod\n",
      "Text:  for , Lemma:  for , POS:  IN , Dep:  prep\n",
      "Text:  the , Lemma:  the , POS:  DT , Dep:  det\n",
      "Text:  following , Lemma:  follow , POS:  VBG , Dep:  amod\n",
      "Text:  code , Lemma:  code , POS:  NN , Dep:  pobj\n",
      "Text:  : , Lemma:  : , POS:  : , Dep:  punct\n",
      "Text:  CODESNIPPET_JAVA2 , Lemma:  codesnippet_java2 , POS:  JJ , Dep:  dep\n",
      "Text:  . , Lemma:  . , POS:  . , Dep:  punct\n"
     ]
    }
   ],
   "source": [
    "sent= u\"This works fine for the following code: CODESNIPPET_JAVA2 .\" \n",
    "printDeps(sent)"
   ]
  },
  {
   "cell_type": "code",
   "execution_count": 30,
   "metadata": {},
   "outputs": [
    {
     "name": "stdout",
     "output_type": "stream",
     "text": [
      "Text:  i , Lemma:  i , POS:  PRP , Dep:  nsubj\n",
      "Text:  ca , Lemma:  can , POS:  MD , Dep:  aux\n",
      "Text:  n't , Lemma:  not , POS:  RB , Dep:  neg\n",
      "Text:  understand , Lemma:  understand , POS:  VB , Dep:  ROOT\n"
     ]
    }
   ],
   "source": [
    "sent= u\"i can't understand\" \n",
    "printDeps(sent)"
   ]
  },
  {
   "cell_type": "code",
   "execution_count": 32,
   "metadata": {},
   "outputs": [
    {
     "name": "stdout",
     "output_type": "stream",
     "text": [
      "Text:  it , Lemma:  -PRON- , POS:  PRP , Dep:  nsubj\n",
      "Text:  just , Lemma:  just , POS:  RB , Dep:  advmod\n",
      "Text:  works , Lemma:  work , POS:  VBZ , Dep:  ROOT\n"
     ]
    }
   ],
   "source": [
    "sent= u\"it just works\" \n",
    "printDeps(sent)"
   ]
  },
  {
   "cell_type": "code",
   "execution_count": 33,
   "metadata": {},
   "outputs": [
    {
     "name": "stdout",
     "output_type": "stream",
     "text": [
      "Text:  SAX , Lemma:  sax , POS:  NNP , Dep:  nsubj\n",
      "Text:  is , Lemma:  be , POS:  VBZ , Dep:  ROOT\n",
      "Text:  not , Lemma:  not , POS:  RB , Dep:  neg\n",
      "Text:  what , Lemma:  what , POS:  WP , Dep:  dobj\n",
      "Text:  I , Lemma:  -PRON- , POS:  PRP , Dep:  nsubj\n",
      "Text:  want , Lemma:  want , POS:  VBP , Dep:  ccomp\n"
     ]
    }
   ],
   "source": [
    "sent= u\"SAX is not what I want \" \n",
    "printDeps(sent)"
   ]
  },
  {
   "cell_type": "code",
   "execution_count": 34,
   "metadata": {},
   "outputs": [
    {
     "name": "stdout",
     "output_type": "stream",
     "text": [
      "Text:  is , Lemma:  be , POS:  VBZ , Dep:  ROOT\n",
      "Text:  what , Lemma:  what , POS:  WP , Dep:  pobj\n",
      "Text:  you , Lemma:  -PRON- , POS:  PRP , Dep:  nsubj\n",
      "Text:  're , Lemma:  be , POS:  VBP , Dep:  aux\n",
      "Text:  looking , Lemma:  look , POS:  VBG , Dep:  ccomp\n",
      "Text:  for , Lemma:  for , POS:  IN , Dep:  prep\n"
     ]
    }
   ],
   "source": [
    "sent = u\"is what you're looking for\"\n",
    "printDeps(sent)"
   ]
  },
  {
   "cell_type": "code",
   "execution_count": 35,
   "metadata": {},
   "outputs": [
    {
     "name": "stdout",
     "output_type": "stream",
     "text": [
      "Text:  i , Lemma:  i , POS:  PRP , Dep:  nsubj\n",
      "Text:  do , Lemma:  do , POS:  VBP , Dep:  aux\n",
      "Text:  n't , Lemma:  not , POS:  RB , Dep:  neg\n",
      "Text:  get , Lemma:  get , POS:  VB , Dep:  ROOT\n",
      "Text:  you , Lemma:  -PRON- , POS:  PRP , Dep:  dobj\n"
     ]
    }
   ],
   "source": [
    "sent = u\"i don't get you\"\n",
    "printDeps(sent)"
   ]
  },
  {
   "cell_type": "code",
   "execution_count": 37,
   "metadata": {},
   "outputs": [
    {
     "name": "stdout",
     "output_type": "stream",
     "text": [
      "Text:  did , Lemma:  do , POS:  VBD , Dep:  aux\n",
      "Text:  n't , Lemma:  not , POS:  RB , Dep:  neg\n",
      "Text:  liked , Lemma:  like , POS:  VBN , Dep:  ROOT\n",
      "Text:  it , Lemma:  -PRON- , POS:  PRP , Dep:  dobj\n"
     ]
    }
   ],
   "source": [
    "sent = u\"didn't liked it\"\n",
    "printDeps(sent)"
   ]
  },
  {
   "cell_type": "code",
   "execution_count": 38,
   "metadata": {},
   "outputs": [
    {
     "name": "stdout",
     "output_type": "stream",
     "text": [
      "Text:  more , Lemma:  more , POS:  RBR , Dep:  advmod\n",
      "Text:  applicable , Lemma:  applicable , POS:  JJ , Dep:  ROOT\n"
     ]
    }
   ],
   "source": [
    "sent = u\"more applicable\"\n",
    "printDeps(sent)"
   ]
  },
  {
   "cell_type": "code",
   "execution_count": 4,
   "metadata": {},
   "outputs": [
    {
     "name": "stdout",
     "output_type": "stream",
     "text": [
      "Text:  it , Lemma:  -PRON- , POS:  PRP , Dep:  nsubj\n",
      "Text:  has , Lemma:  have , POS:  VBZ , Dep:  ROOT\n",
      "Text:  a , Lemma:  a , POS:  DT , Dep:  det\n",
      "Text:  large , Lemma:  large , POS:  JJ , Dep:  amod\n",
      "Text:  memory , Lemma:  memory , POS:  NN , Dep:  compound\n",
      "Text:  footprint , Lemma:  footprint , POS:  NN , Dep:  dobj\n"
     ]
    }
   ],
   "source": [
    "sent= u\"it has a large memory footprint\"\n",
    "printDeps(sent)"
   ]
  },
  {
   "cell_type": "code",
   "execution_count": 8,
   "metadata": {},
   "outputs": [
    {
     "name": "stdout",
     "output_type": "stream",
     "text": [
      "Text:  it , Lemma:  -PRON- , POS:  PRP , Dep:  nsubj\n",
      "Text:  is , Lemma:  be , POS:  VBZ , Dep:  ROOT\n",
      "Text:  the , Lemma:  the , POS:  DT , Dep:  det\n",
      "Text:  way , Lemma:  way , POS:  NN , Dep:  attr\n",
      "Text:  to , Lemma:  to , POS:  TO , Dep:  aux\n",
      "Text:  go , Lemma:  go , POS:  VB , Dep:  relcl\n"
     ]
    }
   ],
   "source": [
    "sent= u\"it is the way to go\"\n",
    "printDeps(sent)"
   ]
  },
  {
   "cell_type": "code",
   "execution_count": null,
   "metadata": {},
   "outputs": [],
   "source": []
  }
 ],
 "metadata": {
  "kernelspec": {
   "display_name": "Python 2",
   "language": "python",
   "name": "python2"
  },
  "language_info": {
   "codemirror_mode": {
    "name": "ipython",
    "version": 2
   },
   "file_extension": ".py",
   "mimetype": "text/x-python",
   "name": "python",
   "nbconvert_exporter": "python",
   "pygments_lexer": "ipython2",
   "version": "2.7.15"
  }
 },
 "nbformat": 4,
 "nbformat_minor": 2
}
