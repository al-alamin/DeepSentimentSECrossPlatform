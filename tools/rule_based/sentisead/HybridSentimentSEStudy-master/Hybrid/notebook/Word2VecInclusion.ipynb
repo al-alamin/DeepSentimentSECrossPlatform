{
 "cells": [
  {
   "cell_type": "code",
   "execution_count": 1,
   "metadata": {},
   "outputs": [
    {
     "name": "stderr",
     "output_type": "stream",
     "text": [
      "C:\\anaconda3\\envs\\opinion2\\lib\\site-packages\\gensim\\utils.py:1212: UserWarning: detected Windows; aliasing chunkize to chunkize_serial\n",
      "  warnings.warn(\"detected Windows; aliasing chunkize to chunkize_serial\")\n"
     ]
    }
   ],
   "source": [
    "from __future__ import division\n",
    "%load_ext autoreload\n",
    "%autoreload 2\n",
    "from gensim.models import word2vec\n",
    "from gensim.models import KeyedVectors\n",
    "import os\n",
    "import cPickle as pickle\n",
    "from time import time\n",
    "import numpy as np\n",
    "import sys\n",
    "import gensim\n",
    "sys.path.append('c:\\dev\\opinion\\opinion\\python\\opinion')\n",
    "import utils.fileutils as fileutils"
   ]
  },
  {
   "cell_type": "code",
   "execution_count": 2,
   "metadata": {},
   "outputs": [],
   "source": [
    "indir = r\"C:\\dev\\opinion\\papers\\sentiplus\\adaptive\\wordvec\"\n",
    "fileWord2Vec = os.path.join(indir, \"word2vec_model.pkl\")"
   ]
  },
  {
   "cell_type": "code",
   "execution_count": 3,
   "metadata": {},
   "outputs": [],
   "source": [
    "model = word2vec.Word2Vec.load(fileWord2Vec)"
   ]
  },
  {
   "cell_type": "code",
   "execution_count": 4,
   "metadata": {},
   "outputs": [
    {
     "name": "stderr",
     "output_type": "stream",
     "text": [
      "C:\\anaconda3\\envs\\opinion2\\lib\\site-packages\\gensim\\matutils.py:737: FutureWarning: Conversion of the second argument of issubdtype from `int` to `np.signedinteger` is deprecated. In future, it will be treated as `np.int32 == np.dtype(int).type`.\n",
      "  if np.issubdtype(vec.dtype, np.int):\n"
     ]
    },
    {
     "data": {
      "text/plain": [
       "[('working', 0.5702089071273804),\n",
       " ('works', 0.5346471667289734),\n",
       " ('worked', 0.5034166574478149),\n",
       " ('functioning', 0.37571650743484497),\n",
       " ('behave', 0.3744785189628601),\n",
       " ('messing', 0.35861796140670776),\n",
       " ('recognise', 0.3404217064380646),\n",
       " ('mess', 0.33490264415740967),\n",
       " ('doable', 0.3207670748233795),\n",
       " ('functioned', 0.3190336227416992)]"
      ]
     },
     "execution_count": 4,
     "metadata": {},
     "output_type": "execute_result"
    }
   ],
   "source": [
    "w1 = \"work\"\n",
    "model.wv.most_similar(positive=w1)"
   ]
  },
  {
   "cell_type": "code",
   "execution_count": 16,
   "metadata": {},
   "outputs": [
    {
     "name": "stdout",
     "output_type": "stream",
     "text": [
      "recommend 0.809632539749\n",
      "advise 0.7113032341\n",
      "recomend 0.580157279968\n",
      "recommand 0.546025574207\n",
      "recomment 0.536429166794\n",
      "encourage 0.533216238022\n",
      "discourage 0.510390758514\n",
      "reccomend 0.493230432272\n",
      "urge 0.456161826849\n",
      "propose 0.454961657524\n"
     ]
    }
   ],
   "source": [
    "w1 = \"suggest\"\n",
    "dd = model.wv.most_similar(positive=w1)\n",
    "for d in dd:\n",
    "    print d[0], d[1]"
   ]
  },
  {
   "cell_type": "code",
   "execution_count": 14,
   "metadata": {},
   "outputs": [
    {
     "data": {
      "text/plain": [
       "[('freezes', 0.7220554351806641),\n",
       " ('frozen', 0.6924004554748535),\n",
       " ('freezing', 0.6920969486236572),\n",
       " ('unresponsive', 0.6778360605239868),\n",
       " ('hang', 0.6434497833251953),\n",
       " ('freezed', 0.6313475370407104),\n",
       " ('froze', 0.623345136642456),\n",
       " ('stall', 0.5757017135620117),\n",
       " ('lags', 0.5419356822967529),\n",
       " ('hangs', 0.5334916114807129)]"
      ]
     },
     "execution_count": 14,
     "metadata": {},
     "output_type": "execute_result"
    }
   ],
   "source": [
    "w1 = \"freeze\"\n",
    "model.wv.most_similar(positive=w1)"
   ]
  },
  {
   "cell_type": "code",
   "execution_count": 10,
   "metadata": {},
   "outputs": [
    {
     "data": {
      "text/plain": [
       "[('easy', 0.6381351351737976),\n",
       " ('simple', 0.5728257894515991),\n",
       " ('straighforward', 0.5686598420143127),\n",
       " ('trivial', 0.5299311876296997),\n",
       " ('elegant', 0.5130189061164856),\n",
       " ('neat', 0.510579526424408),\n",
       " ('convoluted', 0.5096727609634399),\n",
       " ('inelegant', 0.506756067276001),\n",
       " ('crude', 0.5053069591522217),\n",
       " ('clumsy', 0.49937593936920166)]"
      ]
     },
     "execution_count": 10,
     "metadata": {},
     "output_type": "execute_result"
    }
   ],
   "source": [
    "w1 = \"straightforward\"\n",
    "model.wv.most_similar(positive=w1)"
   ]
  },
  {
   "cell_type": "code",
   "execution_count": 11,
   "metadata": {},
   "outputs": [
    {
     "data": {
      "text/plain": [
       "[('sadly', 0.6769735813140869),\n",
       " ('unfortunatelly', 0.4628311097621918),\n",
       " ('alas', 0.4457297921180725),\n",
       " ('unfortunatly', 0.4434581995010376),\n",
       " ('however', 0.4132744073867798),\n",
       " ('apparently', 0.38440924882888794),\n",
       " ('afraid', 0.38099274039268494),\n",
       " ('afaik', 0.37830284237861633),\n",
       " ('neither', 0.35037147998809814),\n",
       " ('shame', 0.34208565950393677)]"
      ]
     },
     "execution_count": 11,
     "metadata": {},
     "output_type": "execute_result"
    }
   ],
   "source": [
    "w1 = \"unfortunately\"\n",
    "model.wv.most_similar(positive=w1)"
   ]
  },
  {
   "cell_type": "code",
   "execution_count": 12,
   "metadata": {},
   "outputs": [
    {
     "data": {
      "text/plain": [
       "[('strait', 0.5816664099693298),\n",
       " ('straightforward', 0.40752658247947693),\n",
       " ('applicationdispatcher', 0.3538896441459656),\n",
       " ('farther', 0.3479209542274475),\n",
       " ('simple', 0.3193831443786621),\n",
       " ('tucked', 0.31607234477996826),\n",
       " ('abstracted', 0.3029096722602844),\n",
       " ('easy', 0.2905411720275879),\n",
       " ('hoops', 0.28326481580734253),\n",
       " ('confident', 0.2805289030075073)]"
      ]
     },
     "execution_count": 12,
     "metadata": {},
     "output_type": "execute_result"
    }
   ],
   "source": [
    "w1 = \"straight\"\n",
    "model.wv.most_similar(positive=w1)"
   ]
  },
  {
   "cell_type": "code",
   "execution_count": 13,
   "metadata": {},
   "outputs": [
    {
     "data": {
      "text/plain": [
       "[('straightforward', 0.5728257894515991),\n",
       " ('easy', 0.541084885597229),\n",
       " ('basic', 0.5218275189399719),\n",
       " ('complex', 0.4829823076725006),\n",
       " ('trivial', 0.46333134174346924),\n",
       " ('simplistic', 0.4293501675128937),\n",
       " ('sophisticated', 0.4214216470718384),\n",
       " ('simplest', 0.41944655776023865),\n",
       " ('complicated', 0.4076683521270752),\n",
       " ('small', 0.398874968290329)]"
      ]
     },
     "execution_count": 13,
     "metadata": {},
     "output_type": "execute_result"
    }
   ],
   "source": [
    "w1 = \"simple\"\n",
    "model.wv.most_similar(positive=w1)"
   ]
  },
  {
   "cell_type": "code",
   "execution_count": 14,
   "metadata": {},
   "outputs": [
    {
     "data": {
      "text/plain": [
       "[('applies', 0.44191864132881165),\n",
       " ('undefined', 0.4011057913303375),\n",
       " ('inferred', 0.3880779445171356),\n",
       " ('applied', 0.38376179337501526),\n",
       " ('apply', 0.37560921907424927),\n",
       " ('suitable', 0.3639097809791565),\n",
       " ('formal', 0.3562665581703186),\n",
       " ('inconvertible', 0.3225989043712616),\n",
       " ('mismatch', 0.32045984268188477),\n",
       " ('inferring', 0.3171921670436859)]"
      ]
     },
     "execution_count": 14,
     "metadata": {},
     "output_type": "execute_result"
    }
   ],
   "source": [
    "w1 = \"applicable\"\n",
    "model.wv.most_similar(positive=w1)"
   ]
  },
  {
   "cell_type": "code",
   "execution_count": 4,
   "metadata": {},
   "outputs": [
    {
     "name": "stderr",
     "output_type": "stream",
     "text": [
      "C:\\anaconda3\\envs\\opinion2\\lib\\site-packages\\gensim\\matutils.py:737: FutureWarning: Conversion of the second argument of issubdtype from `int` to `np.signedinteger` is deprecated. In future, it will be treated as `np.int32 == np.dtype(int).type`.\n",
      "  if np.issubdtype(vec.dtype, np.int):\n"
     ]
    },
    {
     "data": {
      "text/plain": [
       "[('ram', 0.7139233350753784),\n",
       " ('heap', 0.6495086550712585),\n",
       " ('memmory', 0.6013854742050171),\n",
       " ('mem', 0.5853426456451416),\n",
       " ('memeory', 0.5739190578460693),\n",
       " ('cpu', 0.5374433994293213),\n",
       " ('gib', 0.5342851877212524),\n",
       " ('thrashing', 0.5168747901916504),\n",
       " ('disk', 0.5066349506378174),\n",
       " ('fragmentation', 0.5007724761962891)]"
      ]
     },
     "execution_count": 4,
     "metadata": {},
     "output_type": "execute_result"
    }
   ],
   "source": [
    "w1 = \"memory\"\n",
    "model.wv.most_similar(positive=w1)"
   ]
  },
  {
   "cell_type": "code",
   "execution_count": 5,
   "metadata": {},
   "outputs": [
    {
     "data": {
      "text/plain": [
       "[('consumption', 0.6656615138053894),\n",
       " ('footprints', 0.6248421669006348),\n",
       " ('overheads', 0.5808236598968506),\n",
       " ('churn', 0.5137616991996765),\n",
       " ('overhead', 0.504588782787323),\n",
       " ('utilization', 0.4763580858707428),\n",
       " ('hogs', 0.4710002541542053),\n",
       " ('measurer', 0.4651569724082947),\n",
       " ('hog', 0.4493088722229004),\n",
       " ('cost', 0.4442034065723419)]"
      ]
     },
     "execution_count": 5,
     "metadata": {},
     "output_type": "execute_result"
    }
   ],
   "source": [
    "w1 = \"footprint\"\n",
    "model.wv.most_similar(positive=w1)"
   ]
  },
  {
   "cell_type": "code",
   "execution_count": 10,
   "metadata": {},
   "outputs": [
    {
     "data": {
      "text/plain": [
       "[('okay', 0.7691052556037903),\n",
       " ('alright', 0.6508399844169617),\n",
       " ('allright', 0.49456411600112915),\n",
       " ('fine', 0.46547043323516846),\n",
       " ('yeah', 0.4563000798225403),\n",
       " ('hmm', 0.42143040895462036),\n",
       " ('okey', 0.3947853744029999),\n",
       " ('yes', 0.3902624547481537),\n",
       " ('yea', 0.3873937427997589),\n",
       " ('nvm', 0.38076746463775635)]"
      ]
     },
     "execution_count": 10,
     "metadata": {},
     "output_type": "execute_result"
    }
   ],
   "source": [
    "w1 = \"ok\"\n",
    "model.wv.most_similar(positive=w1)"
   ]
  },
  {
   "cell_type": "code",
   "execution_count": 12,
   "metadata": {},
   "outputs": [
    {
     "data": {
      "text/plain": [
       "[('shit', 0.521912693977356),\n",
       " ('lol', 0.49956411123275757),\n",
       " ('damn', 0.498760849237442),\n",
       " ('joke', 0.49760258197784424),\n",
       " ('haters', 0.49007856845855713),\n",
       " ('bloody', 0.48376232385635376),\n",
       " ('holy', 0.48283660411834717),\n",
       " ('haha', 0.4796293377876282),\n",
       " ('hurry', 0.47866708040237427),\n",
       " ('freaking', 0.47249889373779297)]"
      ]
     },
     "execution_count": 12,
     "metadata": {},
     "output_type": "execute_result"
    }
   ],
   "source": [
    "w1 = \"crap\"\n",
    "model.wv.most_similar(positive=w1)"
   ]
  },
  {
   "cell_type": "code",
   "execution_count": 13,
   "metadata": {},
   "outputs": [
    {
     "data": {
      "text/plain": [
       "[('strait', 0.5816664099693298),\n",
       " ('straightforward', 0.40752658247947693),\n",
       " ('applicationdispatcher', 0.3538896441459656),\n",
       " ('farther', 0.3479209542274475),\n",
       " ('simple', 0.3193831443786621),\n",
       " ('tucked', 0.31607234477996826),\n",
       " ('abstracted', 0.3029096722602844),\n",
       " ('easy', 0.2905411720275879),\n",
       " ('hoops', 0.28326481580734253),\n",
       " ('confident', 0.2805289030075073)]"
      ]
     },
     "execution_count": 13,
     "metadata": {},
     "output_type": "execute_result"
    }
   ],
   "source": [
    "w1 = \"straight\"\n",
    "model.wv.most_similar(positive=w1)"
   ]
  },
  {
   "cell_type": "code",
   "execution_count": null,
   "metadata": {},
   "outputs": [],
   "source": []
  }
 ],
 "metadata": {
  "kernelspec": {
   "display_name": "Python 2",
   "language": "python",
   "name": "python2"
  },
  "language_info": {
   "codemirror_mode": {
    "name": "ipython",
    "version": 2
   },
   "file_extension": ".py",
   "mimetype": "text/x-python",
   "name": "python",
   "nbconvert_exporter": "python",
   "pygments_lexer": "ipython2",
   "version": "2.7.15"
  }
 },
 "nbformat": 4,
 "nbformat_minor": 2
}
